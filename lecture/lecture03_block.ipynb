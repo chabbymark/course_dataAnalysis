{
 "cells": [
  {
   "cell_type": "markdown",
   "id": "737f3133-f92b-4fa2-a0fb-b5f73f300bd3",
   "metadata": {
    "slideshow": {
     "slide_type": "slide"
    }
   },
   "source": [
    "<h1 align=\"center\"> 海洋数据分析 第三讲 </h1>\n",
    "<h3 align=\"right\">主讲人: 陈笔澄</h3>\n",
    "<h2>目录<span class=\"tocSkip\"></span></h2>\n",
    "<div class=\"toc\">\n",
    "    <ul class=\"toc-item\">\n",
    "        <li> &nbsp;&nbsp;3.1 Python基础知识--块(block)语法</li>\n",
    "        <li> &nbsp;&nbsp;3.2 Python基础知识--条件语句if </li>\n",
    "        <li> &nbsp;&nbsp;3.3 Python基础知识--循环语句for, while </li>\n",
    "        <li> &nbsp;&nbsp;3.4 Python基础知识--转移语句break, continue, pass </li>\n",
    "        <li> &nbsp;&nbsp;3.5 Python基础知识--函数(function) </li>\n",
    "        <li> &nbsp;&nbsp;3.6 Python基础知识--模块(module) 的载入</li>\n",
    "    </ul>\n",
    "</div>"
   ]
  },
  {
   "cell_type": "markdown",
   "id": "93a1fcf2-0acc-42e5-966f-ddf66094242a",
   "metadata": {
    "slideshow": {
     "slide_type": "subslide"
    }
   },
   "source": [
    "## 3.1 块(block)语法"
   ]
  },
  {
   "cell_type": "markdown",
   "id": "b2b49bc6-6334-4647-8059-4ddd767f7b14",
   "metadata": {
    "slideshow": {
     "slide_type": "fragment"
    }
   },
   "source": [
    "什么是“块”？"
   ]
  },
  {
   "cell_type": "code",
   "execution_count": 1,
   "id": "9b883c5e-1eff-48c9-84c2-93f8e25d5e26",
   "metadata": {
    "slideshow": {
     "slide_type": "fragment"
    }
   },
   "outputs": [
    {
     "name": "stdout",
     "output_type": "stream",
     "text": [
      "The current step: 1 ; The current sum: 1\n",
      "The current step: 2 ; The current sum: 3\n",
      "The current step: 3 ; The current sum: 6\n",
      "The current step: 4 ; The current sum: 10\n",
      "The current step: 5 ; The current sum: 15\n",
      "The current step: 6 ; The current sum: 21\n",
      "The current step: 7 ; The current sum: 28\n",
      "The current step: 8 ; The current sum: 36\n",
      "The current step: 9 ; The current sum: 45\n",
      "The current step: 10 ; The current sum: 55\n",
      "The total sum is 55\n",
      "Emma is a female.\n"
     ]
    }
   ],
   "source": [
    "add = 0\n",
    "for ind in range(1, 11):\n",
    "    add += ind\n",
    "    print(\"The current step:\", ind,\"; The current sum:\", add)\n",
    "\n",
    "print(\"The total sum is\", add)\n",
    "\n",
    "person = {\"name\": \"Emma\", \"gender\": \"female\", \"ID\": \"31259\"}\n",
    "if person[\"gender\"] == \"male\":\n",
    "    print(person[\"name\"], \"is a male.\")\n",
    "else:\n",
    "    print(person[\"name\"], \"is a female.\" )"
   ]
  },
  {
   "cell_type": "markdown",
   "id": "0d42540d-7d23-48d6-9bf6-0b205b35ba3e",
   "metadata": {
    "slideshow": {
     "slide_type": "fragment"
    }
   },
   "source": [
    "在这里，我们即将学习的`for`语句与`if`语句内的代码分别属于各自的代码块(block)。"
   ]
  },
  {
   "cell_type": "markdown",
   "id": "3c8ba15a-3840-46c0-a82b-23742592edf9",
   "metadata": {
    "slideshow": {
     "slide_type": "subslide"
    }
   },
   "source": [
    "**块(block)** - 一段共同执行的代码组成的单元。常见代码块为流程控制语句(control flow, 例如`for` 循环)、模块(module, 例如`numpy`、`math`), 函数(function, 例如`len()`)以及类(class, 没有例如，以后学到再说= =)"
   ]
  },
  {
   "cell_type": "markdown",
   "id": "d15c658e-7506-4f2f-aa5c-49615b396bc7",
   "metadata": {
    "slideshow": {
     "slide_type": "fragment"
    }
   },
   "source": [
    "在Python中，代码块使用冒号`:`与**缩进(indent)定义**，默认缩进为四格。代码块**可嵌套**，例如:"
   ]
  },
  {
   "cell_type": "code",
   "execution_count": 2,
   "id": "f068bbc1-a32d-4dff-ac38-56fd0b80816d",
   "metadata": {
    "slideshow": {
     "slide_type": "fragment"
    }
   },
   "outputs": [
    {
     "name": "stdout",
     "output_type": "stream",
     "text": [
      "The current sum: 1\n",
      "The current sum: 2\n",
      "The current sum: 3\n",
      "The current sum: 4\n",
      "The current sum: 5\n",
      "The current sum: 6\n",
      "The current sum: 7\n",
      "The current sum: 8\n",
      "The current sum: 9\n",
      "The current sum: 10\n",
      "The current sum: 11\n",
      "The current sum: 12\n",
      "The current sum: 13\n",
      "The current sum: 14\n",
      "The current sum: 15\n",
      "The current sum: 16\n",
      "The current sum: 17\n",
      "The current sum: 18\n",
      "The current sum: 19\n",
      "The current sum: 20\n",
      "The current sum: 21\n",
      "The current sum: 22\n",
      "The current sum: 23\n",
      "The current sum: 24\n",
      "The current sum: 25\n",
      "The current sum: 26\n",
      "The current sum: 27\n",
      "The current sum: 28\n",
      "The current sum: 29\n",
      "The current sum: 30\n",
      "The current sum: 31\n",
      "The current sum: 32\n",
      "The current sum: 33\n",
      "The current sum: 34\n",
      "The current sum: 35\n",
      "The current sum: 36\n",
      "The current sum: 37\n",
      "The current sum: 38\n",
      "The current sum: 39\n",
      "The current sum: 40\n",
      "The current sum: 41\n",
      "The current sum: 42\n",
      "The current sum: 43\n",
      "The current sum: 44\n",
      "The current sum: 45\n",
      "The current sum: 46\n",
      "The current sum: 47\n",
      "The current sum: 48\n",
      "The current sum: 49\n",
      "The current sum: 50\n",
      "The current sum: 51\n",
      "The current sum: 52\n",
      "The current sum: 53\n",
      "The current sum: 54\n",
      "The current sum: 55\n",
      "The current sum: 56\n",
      "The current sum: 57\n",
      "The current sum: 58\n",
      "The current sum: 59\n",
      "The current sum: 60\n",
      "The current sum: 61\n",
      "The current sum: 62\n",
      "The current sum: 63\n",
      "The current sum: 64\n",
      "The current sum: 65\n",
      "The current sum: 66\n",
      "The current sum: 67\n",
      "The current sum: 68\n",
      "The current sum: 69\n",
      "The current sum: 70\n",
      "The current sum: 71\n",
      "The current sum: 72\n",
      "The current sum: 73\n",
      "The current sum: 74\n",
      "The current sum: 75\n",
      "The current sum: 76\n",
      "The current sum: 77\n",
      "The current sum: 78\n",
      "The current sum: 79\n",
      "The current sum: 80\n",
      "The current sum: 81\n",
      "The current sum: 82\n",
      "The current sum: 83\n",
      "The current sum: 84\n",
      "The current sum: 85\n",
      "The current sum: 86\n",
      "The current sum: 87\n",
      "The current sum: 88\n",
      "The current sum: 89\n",
      "The current sum: 90\n",
      "The current sum: 91\n",
      "The current sum: 92\n",
      "The current sum: 93\n",
      "The current sum: 94\n",
      "The current sum: 95\n",
      "The current sum: 96\n",
      "The current sum: 97\n",
      "The current sum: 98\n",
      "The current sum: 99\n",
      "The current sum: 100\n",
      "The total sum: 100\n"
     ]
    }
   ],
   "source": [
    "add = 0\n",
    "for ind1 in range(1,11): # 第一层\n",
    "    for ind2 in range(1,11): # 第二层\n",
    "        add += 1\n",
    "        print(\"The current sum:\", add)\n",
    "\n",
    "print(\"The total sum:\", add)"
   ]
  },
  {
   "cell_type": "markdown",
   "id": "be31c04a-16ee-4b06-aab1-226060633c15",
   "metadata": {
    "slideshow": {
     "slide_type": "subslide"
    }
   },
   "source": [
    "注: c语言的块语法是怎样的？"
   ]
  },
  {
   "cell_type": "markdown",
   "id": "2a6912e0-99bd-4570-9013-e0933698794f",
   "metadata": {
    "slideshow": {
     "slide_type": "fragment"
    }
   },
   "source": [
    "`int add, ind;`<br>\n",
    "`add=0;`<br>\n",
    "`for(ind=1; ind<=10; ind++)`<br>\n",
    "`{`<br>\n",
    "`...`<br>\n",
    "`}`"
   ]
  },
  {
   "cell_type": "markdown",
   "id": "9faf5f5b-9386-4e3e-be16-e1e42ee8c02f",
   "metadata": {
    "slideshow": {
     "slide_type": "fragment"
    }
   },
   "source": [
    "c语言使用大括号`{}`定义代码块，且与缩进无关。"
   ]
  },
  {
   "cell_type": "markdown",
   "id": "07920693-4014-4112-a3e6-13081ca6bb32",
   "metadata": {
    "slideshow": {
     "slide_type": "subslide"
    }
   },
   "source": [
    "## 3.2 条件语句`if` (conditional statement)"
   ]
  },
  {
   "cell_type": "markdown",
   "id": "235dabf9-2fb1-4ad3-b1e0-8e92ebabf924",
   "metadata": {
    "slideshow": {
     "slide_type": "fragment"
    }
   },
   "source": [
    "语法:"
   ]
  },
  {
   "cell_type": "markdown",
   "id": "adfd1179-fd64-480c-95c8-d0ea0e48b198",
   "metadata": {
    "slideshow": {
     "slide_type": "fragment"
    }
   },
   "source": [
    "`if <condition-1>:`<br>\n",
    "`    <statement 1>`<br>\n",
    "`elif <condition-2>:`<br>\n",
    "`    <statement 2>`<br>\n",
    "`elif <condition-3>:`<br>\n",
    "`    <statement 3>`<br>\n",
    "`    ...`<br>\n",
    "`else:`<br>\n",
    "`    <statement>`"
   ]
  },
  {
   "cell_type": "markdown",
   "id": "b15efc60-291b-4b86-914a-d64a5980a157",
   "metadata": {
    "slideshow": {
     "slide_type": "fragment"
    }
   },
   "source": [
    "其中`elif`与`else`可省略。"
   ]
  },
  {
   "cell_type": "markdown",
   "id": "ba8d41a4-0c04-4ac4-8f65-97304502c8a6",
   "metadata": {
    "slideshow": {
     "slide_type": "subslide"
    }
   },
   "source": [
    "*练习: 编写一个小程序，给定一个整数，判断给定整数是否被3整除或者余数是否为1或2，并打印相应结果。*"
   ]
  },
  {
   "cell_type": "code",
   "execution_count": null,
   "id": "6339f10e-466f-45e9-8f1a-0aa5003e6de2",
   "metadata": {
    "slideshow": {
     "slide_type": "fragment"
    }
   },
   "outputs": [],
   "source": []
  },
  {
   "cell_type": "markdown",
   "id": "684625ef-32db-4575-80e8-6b1351ec4358",
   "metadata": {
    "slideshow": {
     "slide_type": "subslide"
    }
   },
   "source": [
    "## 3.3 循环语句 (loop statement)"
   ]
  },
  {
   "cell_type": "markdown",
   "id": "708a8c2c-e317-4d32-8398-96df6cae2844",
   "metadata": {
    "slideshow": {
     "slide_type": "fragment"
    }
   },
   "source": [
    "### 3.3.1 `for`循环"
   ]
  },
  {
   "cell_type": "markdown",
   "id": "af0c1feb-383f-4c8d-a496-69973807baa1",
   "metadata": {
    "slideshow": {
     "slide_type": "fragment"
    }
   },
   "source": [
    "语法:"
   ]
  },
  {
   "cell_type": "markdown",
   "id": "490391b4-dd5d-46dd-b25c-d2e1df7c05ca",
   "metadata": {
    "slideshow": {
     "slide_type": "fragment"
    }
   },
   "source": [
    "`for <element> in <sequence>:`<br>\n",
    "`    <statement>`"
   ]
  },
  {
   "cell_type": "markdown",
   "id": "12370756-52b0-4ee7-9ccf-4f9905a96d0d",
   "metadata": {
    "slideshow": {
     "slide_type": "subslide"
    }
   },
   "source": [
    "例如"
   ]
  },
  {
   "cell_type": "code",
   "execution_count": 3,
   "id": "4ff0f917-dd81-4506-8e92-db5cdd9762c4",
   "metadata": {
    "slideshow": {
     "slide_type": "fragment"
    }
   },
   "outputs": [
    {
     "name": "stdout",
     "output_type": "stream",
     "text": [
      "The sum from 1 to 100 is 5050\n"
     ]
    }
   ],
   "source": [
    "add = 0\n",
    "num_s = 1\n",
    "num_e = 100\n",
    "\n",
    "for ind in range(num_s, num_e+1):\n",
    "    add += ind\n",
    "\n",
    "print(\"The sum from\", num_s, \"to\", num_e, \"is\", add)"
   ]
  },
  {
   "cell_type": "markdown",
   "id": "5f097f6e-6387-4815-97a0-04e7aa58d667",
   "metadata": {
    "slideshow": {
     "slide_type": "subslide"
    }
   },
   "source": [
    "到目前为止，`for`的功能还跟c语言类似。"
   ]
  },
  {
   "cell_type": "markdown",
   "id": "c2512f74-200b-4de2-bc52-8dec5b8c9a70",
   "metadata": {
    "slideshow": {
     "slide_type": "fragment"
    }
   },
   "source": [
    "**事实上， `for`语句的<sequence>可以为任意序列类型或类序列数据，如列表、元组、集合等**"
   ]
  },
  {
   "cell_type": "code",
   "execution_count": 4,
   "id": "c83ff818-5507-46c7-a541-96ab35f57880",
   "metadata": {
    "slideshow": {
     "slide_type": "fragment"
    }
   },
   "outputs": [
    {
     "name": "stdout",
     "output_type": "stream",
     "text": [
      "The current color is red\n",
      "The current color is green\n",
      "The current color is blue\n"
     ]
    }
   ],
   "source": [
    "colors = [\"red\", \"green\", \"blue\"]\n",
    "for color in colors:\n",
    "    print(\"The current color is\", color)"
   ]
  },
  {
   "cell_type": "code",
   "execution_count": 6,
   "id": "28103206-40a9-4d0b-b9b0-66606e2fdbad",
   "metadata": {
    "slideshow": {
     "slide_type": "subslide"
    }
   },
   "outputs": [
    {
     "name": "stdout",
     "output_type": "stream",
     "text": [
      "The current color is color1\n",
      "The current color is color2\n",
      "The current color is color3\n"
     ]
    }
   ],
   "source": [
    "colors = {\"color1\":\"red\", \"color2\":\"green\", \"color3\":\"blue\"} # 如果是字典，for取出来的是什么？\n",
    "for color in colors:\n",
    "    print(\"The current color is\", color)"
   ]
  },
  {
   "cell_type": "markdown",
   "id": "9344d8fd-dff2-420d-a747-51f4af7e8187",
   "metadata": {
    "slideshow": {
     "slide_type": "subslide"
    }
   },
   "source": [
    "*练习:还记得上期作业中“显示列表中每个人的详细信息，信息显示必须符合人类用语习惯吗”，用`for`语句与格式化函数对代码进行重塑*"
   ]
  },
  {
   "cell_type": "code",
   "execution_count": 8,
   "id": "172c7136-c79b-4b46-89e9-be51a3a40523",
   "metadata": {
    "slideshow": {
     "slide_type": "fragment"
    }
   },
   "outputs": [
    {
     "name": "stdout",
     "output_type": "stream",
     "text": [
      "张三 男\n",
      "李四 女\n",
      "王五 男\n"
     ]
    }
   ],
   "source": [
    "person1 = {\"name\": \"张三\", \"gender\": \"男\", \"age\":\"20\", \"ID\":\"370705\"}\n",
    "person2 = {\"name\": \"李四\", \"gender\": \"女\", \"age\":\"21\", \"ID\":\"370706\"}\n",
    "person3 = {\"name\": \"王五\", \"gender\": \"男\", \"age\":\"20\", \"ID\":\"370707\"}\n",
    "\n",
    "group = [person1, person2, person3]\n",
    "for person in group:\n",
    "    print(person['name'], person['gender'])\n"
   ]
  },
  {
   "cell_type": "markdown",
   "id": "28e40637-4e4e-433c-8a5d-c6340cdce338",
   "metadata": {
    "slideshow": {
     "slide_type": "subslide"
    }
   },
   "source": [
    "### 3.3.1 `while` 循环"
   ]
  },
  {
   "cell_type": "markdown",
   "id": "a53eea3b-50e2-4e2b-8d94-a916dc4fc250",
   "metadata": {
    "slideshow": {
     "slide_type": "fragment"
    }
   },
   "source": [
    "语法:"
   ]
  },
  {
   "cell_type": "markdown",
   "id": "5c24d09a-1c55-4f09-a780-8ec491a39c47",
   "metadata": {
    "slideshow": {
     "slide_type": "fragment"
    }
   },
   "source": [
    "`while <condition>:`<br>\n",
    "`    <statement>`"
   ]
  },
  {
   "cell_type": "code",
   "execution_count": 9,
   "id": "34049115-87ad-48b3-bb67-2348ceb3709c",
   "metadata": {
    "slideshow": {
     "slide_type": "subslide"
    }
   },
   "outputs": [
    {
     "name": "stdout",
     "output_type": "stream",
     "text": [
      "Sum of the first 100 number is: 5050\n"
     ]
    }
   ],
   "source": [
    "num = 100\n",
    "add = 0\n",
    "ind = 1\n",
    "while ind<= num:\n",
    "    add = add + ind\n",
    "    ind += 1\n",
    "print(\"Sum of the first\", num, \"number is:\", add)"
   ]
  },
  {
   "cell_type": "markdown",
   "id": "ee5533ba-4221-4f83-8fe6-bfed3d5e2bf9",
   "metadata": {
    "slideshow": {
     "slide_type": "subslide"
    }
   },
   "source": [
    "## 3.4 转移语句(transfer statement)"
   ]
  },
  {
   "cell_type": "markdown",
   "id": "53be7a36-f704-4507-9688-c0d4a5ca0e0a",
   "metadata": {
    "slideshow": {
     "slide_type": "subslide"
    }
   },
   "source": [
    "### 3.4.1 break "
   ]
  },
  {
   "cell_type": "markdown",
   "id": "de181492-dedb-4749-8d64-3ec869a2686f",
   "metadata": {
    "slideshow": {
     "slide_type": "fragment"
    }
   },
   "source": [
    "`break`语句用来结束当前的`for`或者`while`循环体, 且可以使用`else`语句。"
   ]
  },
  {
   "cell_type": "code",
   "execution_count": 10,
   "id": "f9ecdc07-90c0-4c81-9e53-1a67a8cccb09",
   "metadata": {
    "slideshow": {
     "slide_type": "fragment"
    }
   },
   "outputs": [
    {
     "name": "stdout",
     "output_type": "stream",
     "text": [
      "2 is a prime number\n",
      "3 is a prime number\n",
      "4 equals 2 * 2\n",
      "5 is a prime number\n",
      "6 equals 2 * 3\n",
      "7 is a prime number\n",
      "8 equals 2 * 4\n",
      "9 equals 3 * 3\n"
     ]
    }
   ],
   "source": [
    "# 寻找10以内的质数\n",
    "for n in range(2, 10):\n",
    "    for x in range(2, n):\n",
    "        if n % x == 0:\n",
    "            print(n, 'equals', x, '*', n//x)\n",
    "            break\n",
    "    else:\n",
    "        print(n, 'is a prime number')"
   ]
  },
  {
   "cell_type": "markdown",
   "id": "128c2a18-a347-465b-b8e9-e1d1bf4b89cd",
   "metadata": {
    "slideshow": {
     "slide_type": "subslide"
    }
   },
   "source": [
    "### 3.4.2 continue"
   ]
  },
  {
   "cell_type": "markdown",
   "id": "03728818-16bf-41ae-ad2b-4e8cc2bb79df",
   "metadata": {
    "slideshow": {
     "slide_type": "fragment"
    }
   },
   "source": [
    "`continue`语句直接进入下一个循环。"
   ]
  },
  {
   "cell_type": "code",
   "execution_count": null,
   "id": "42546c4b-bd7b-4437-a4b8-baede6a0f0cd",
   "metadata": {
    "slideshow": {
     "slide_type": "fragment"
    }
   },
   "outputs": [],
   "source": [
    "n=10\n",
    "for ind in range(n):\n",
    "    if ind%2==0:\n",
    "        continue\n",
    "    else:\n",
    "        print(\"Found an odd number\", ind)"
   ]
  },
  {
   "cell_type": "markdown",
   "id": "e2542cf9-ba86-40fd-b607-70749576f6e7",
   "metadata": {
    "slideshow": {
     "slide_type": "subslide"
    }
   },
   "source": [
    "### 3.4.3 pass"
   ]
  },
  {
   "cell_type": "markdown",
   "id": "92352cc9-28c3-4af1-a47f-a6d22d6083be",
   "metadata": {
    "slideshow": {
     "slide_type": "fragment"
    }
   },
   "source": [
    "`pass`语句主要用于测试，保持语法的正确性但不做任何事。"
   ]
  },
  {
   "cell_type": "code",
   "execution_count": null,
   "id": "8017c355-d0e7-40c9-ad1c-65eab60d3b59",
   "metadata": {
    "slideshow": {
     "slide_type": "fragment"
    }
   },
   "outputs": [],
   "source": [
    "n = 10\n",
    "for ind in range(n):\n",
    "    pass"
   ]
  },
  {
   "cell_type": "markdown",
   "id": "7e0b0c0b-e04d-40ec-b8e5-4a6803559ef0",
   "metadata": {
    "slideshow": {
     "slide_type": "subslide"
    }
   },
   "source": [
    "## 3.5 函数 (Function)"
   ]
  },
  {
   "cell_type": "markdown",
   "id": "e2e22448-8aaf-4b32-94a9-1a6c5892615a",
   "metadata": {
    "slideshow": {
     "slide_type": "fragment"
    }
   },
   "source": [
    "函数: 一段特定代码，用于在给定输入的情况下通过特点算法产生输出。\n",
    "`output=function(input)`"
   ]
  },
  {
   "cell_type": "markdown",
   "id": "83a73fcf-5f6c-479e-8ea6-b7ad5902a709",
   "metadata": {
    "slideshow": {
     "slide_type": "fragment"
    }
   },
   "source": [
    "### 3.5.1 内置函数(built-in function) "
   ]
  },
  {
   "cell_type": "markdown",
   "id": "71b1082c-d8dc-49fc-8acf-e858e2e3ab20",
   "metadata": {
    "slideshow": {
     "slide_type": "fragment"
    }
   },
   "source": [
    "Python有许多内置函数用于实现常用功能，例如`print`, `len`，甚至是`+`, `-`等运算符。"
   ]
  },
  {
   "cell_type": "markdown",
   "id": "b724dee3-bd4b-4ed1-a9a4-b5c4727ff997",
   "metadata": {
    "slideshow": {
     "slide_type": "fragment"
    }
   },
   "source": [
    "Python内置函数列表:https://docs.python.org/3.12/library/functions.html"
   ]
  },
  {
   "cell_type": "markdown",
   "id": "1eb68953-d865-40a1-86dd-21f3179fb0b1",
   "metadata": {
    "slideshow": {
     "slide_type": "subslide"
    }
   },
   "source": [
    "### 3.5.2 自定义函数"
   ]
  },
  {
   "cell_type": "markdown",
   "id": "c7f98341-aded-4e9e-8c35-544e3fc15b59",
   "metadata": {
    "slideshow": {
     "slide_type": "fragment"
    }
   },
   "source": [
    "最大的优点: 不用重复写代码。"
   ]
  },
  {
   "cell_type": "markdown",
   "id": "4700d8ef-3b28-47e5-b101-44ab2ed080b2",
   "metadata": {
    "slideshow": {
     "slide_type": "fragment"
    }
   },
   "source": [
    "语法:<br>\n",
    "`def fun_nam(x1, x2, ...):`<br>\n",
    "`    statements`<br>\n",
    "`    ...`<br>\n",
    "`    return y1, y2, ...`"
   ]
  },
  {
   "cell_type": "markdown",
   "id": "f624f5bf-5c4d-4a84-ab32-216839c5f175",
   "metadata": {
    "slideshow": {
     "slide_type": "fragment"
    }
   },
   "source": [
    "- 函数也是块体，**注意不同层级间的缩进**"
   ]
  },
  {
   "cell_type": "markdown",
   "id": "194470ab-1859-4473-a9fa-ee3b38e320fc",
   "metadata": {
    "slideshow": {
     "slide_type": "subslide"
    }
   },
   "source": [
    "*练习，编写一个一元二次多项式计算公式，要求输入未知数x，以及三个系数，并输出结果。编写完函数后，对函数进行测试*"
   ]
  },
  {
   "cell_type": "code",
   "execution_count": null,
   "id": "ec682d64-cc72-467d-8223-fc953683825c",
   "metadata": {
    "slideshow": {
     "slide_type": "fragment"
    }
   },
   "outputs": [],
   "source": []
  },
  {
   "cell_type": "markdown",
   "id": "0850994e-8cfc-458d-8dd6-c74fd46d236b",
   "metadata": {
    "slideshow": {
     "slide_type": "subslide"
    }
   },
   "source": [
    "## 3.6 模块(module)的载入"
   ]
  },
  {
   "cell_type": "markdown",
   "id": "64b5c35b-0d27-4651-bdc4-9ecd9fa9740b",
   "metadata": {
    "slideshow": {
     "slide_type": "fragment"
    }
   },
   "source": [
    "### 模块(module)是Python代码的库，包含特定变量类型与函数，用以实现特定功能"
   ]
  },
  {
   "cell_type": "markdown",
   "id": "1605b826-bc46-4e23-8d6d-c25aad0e24b3",
   "metadata": {
    "slideshow": {
     "slide_type": "fragment"
    }
   },
   "source": [
    "**模块是Python社区的基础**，这是有了模块功能，不同的人才能把不同功能的代码进行分享。"
   ]
  },
  {
   "cell_type": "markdown",
   "id": "068a3774-4ee6-493d-9de3-713fd60e3780",
   "metadata": {
    "slideshow": {
     "slide_type": "subslide"
    }
   },
   "source": [
    "#### 如何载入(load)模块?"
   ]
  },
  {
   "cell_type": "markdown",
   "id": "f7d0597d-838a-418d-8ec6-c933979881f8",
   "metadata": {
    "slideshow": {
     "slide_type": "fragment"
    }
   },
   "source": [
    "1. `import mod_name [as alias]`--完全载入模块mod_nam,并取别名为alias。其中取别名可以省略。"
   ]
  },
  {
   "cell_type": "code",
   "execution_count": null,
   "id": "f37fcca3-534d-4d8f-88a7-175f310294ab",
   "metadata": {
    "slideshow": {
     "slide_type": "fragment"
    }
   },
   "outputs": [],
   "source": [
    "import numpy as np\n",
    "\n",
    "r = 5\n",
    "s = np.pi * r**2"
   ]
  },
  {
   "cell_type": "markdown",
   "id": "6049cbbf-7b7e-4846-a81c-f5751bdb066e",
   "metadata": {
    "slideshow": {
     "slide_type": "fragment"
    }
   },
   "source": [
    "### 其中`.`操作符用于取模块的对象(object)，对象可以是变量、函数以及子模块。"
   ]
  },
  {
   "cell_type": "markdown",
   "id": "e14e46d3-d83f-4c40-8911-ce12a79708f5",
   "metadata": {
    "slideshow": {
     "slide_type": "subslide"
    }
   },
   "source": [
    "2. `from mod_name import object`--不完全载入，仅仅载入mod_name中的object对象。"
   ]
  },
  {
   "cell_type": "code",
   "execution_count": null,
   "id": "d1476463-0708-4d25-9f8e-5e6ba7fd558a",
   "metadata": {
    "slideshow": {
     "slide_type": "fragment"
    }
   },
   "outputs": [],
   "source": [
    "from numpy import pi\n",
    "\n",
    "r = 5\n",
    "s = pi * r**2"
   ]
  }
 ],
 "metadata": {
  "celltoolbar": "Slideshow",
  "kernelspec": {
   "display_name": "Python 3 (ipykernel)",
   "language": "python",
   "name": "python3"
  },
  "language_info": {
   "codemirror_mode": {
    "name": "ipython",
    "version": 3
   },
   "file_extension": ".py",
   "mimetype": "text/x-python",
   "name": "python",
   "nbconvert_exporter": "python",
   "pygments_lexer": "ipython3",
   "version": "3.9.13"
  }
 },
 "nbformat": 4,
 "nbformat_minor": 5
}
