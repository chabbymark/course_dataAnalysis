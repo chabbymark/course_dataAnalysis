{
 "cells": [
  {
   "cell_type": "markdown",
   "id": "4fdc270f",
   "metadata": {
    "slideshow": {
     "slide_type": "slide"
    }
   },
   "source": [
    "<h1 align=\"center\"> 海洋数据分析 第三讲扩展 </h1>\n",
    "<h3 align=\"right\">主讲人: 陈笔澄</h3>\n",
    "<h2>目录<span class=\"tocSkip\"></span></h2>\n",
    "<div class=\"toc\">\n",
    "    <ul class=\"toc-item\">\n",
    "        <li> &nbsp;&nbsp;课前回顾 </li>\n",
    "        <li> &nbsp;&nbsp;作业点评 </li>\n",
    "    </ul>\n",
    "</div>"
   ]
  },
  {
   "cell_type": "markdown",
   "id": "f5555180",
   "metadata": {
    "slideshow": {
     "slide_type": "subslide"
    }
   },
   "source": [
    "## 课前回顾"
   ]
  },
  {
   "cell_type": "markdown",
   "id": "cb121419",
   "metadata": {
    "slideshow": {
     "slide_type": "subslide"
    }
   },
   "source": [
    "### 块语法\n",
    "#### Python语言块是用冒号':'与缩进(默认4格)定义的，例如："
   ]
  },
  {
   "cell_type": "code",
   "execution_count": 1,
   "id": "a1849e60",
   "metadata": {
    "scrolled": true,
    "slideshow": {
     "slide_type": "fragment"
    }
   },
   "outputs": [
    {
     "name": "stdout",
     "output_type": "stream",
     "text": [
      "The current step: 1 ; The current sum: 1\n",
      "The current step: 2 ; The current sum: 3\n",
      "The current step: 3 ; The current sum: 6\n",
      "The current step: 4 ; The current sum: 10\n",
      "The current step: 5 ; The current sum: 15\n",
      "The current step: 6 ; The current sum: 21\n",
      "The current step: 7 ; The current sum: 28\n",
      "The current step: 8 ; The current sum: 36\n",
      "The current step: 9 ; The current sum: 45\n",
      "The current step: 10 ; The current sum: 55\n"
     ]
    }
   ],
   "source": [
    "add = 0\n",
    "for ind in range(1, 11):\n",
    "    add += ind\n",
    "    print(\"The current step:\", ind,\"; The current sum:\", add)"
   ]
  },
  {
   "cell_type": "markdown",
   "id": "e1af2b3c",
   "metadata": {
    "slideshow": {
     "slide_type": "subslide"
    }
   },
   "source": [
    "### 条件语句 `if`\n",
    "`if <condition-1>:`<br>\n",
    "`    <statement 1>`<br>\n",
    "`elif <condition-2>:`<br>\n",
    "`    <statement 2>`<br>\n",
    "`elif <condition-3>:`<br>\n",
    "`    <statement 3>`<br>\n",
    "`    ...`<br>\n",
    "`else:`<br>\n",
    "`    <statement>`"
   ]
  },
  {
   "cell_type": "markdown",
   "id": "281fac7f",
   "metadata": {
    "slideshow": {
     "slide_type": "subslide"
    }
   },
   "source": [
    "### 循环语句 `for` 和 `while` "
   ]
  },
  {
   "cell_type": "markdown",
   "id": "d11f5023",
   "metadata": {
    "slideshow": {
     "slide_type": "fragment"
    }
   },
   "source": [
    "`for <element> in <sequence>:`<br>\n",
    "`    <statement>`"
   ]
  },
  {
   "cell_type": "markdown",
   "id": "ca24da36",
   "metadata": {
    "slideshow": {
     "slide_type": "fragment"
    }
   },
   "source": [
    "`while <condition>:`<br>\n",
    "`    <statement>`"
   ]
  },
  {
   "cell_type": "markdown",
   "id": "f65514b7",
   "metadata": {
    "slideshow": {
     "slide_type": "fragment"
    }
   },
   "source": [
    "#### `for`可以循环任何序列元素"
   ]
  },
  {
   "cell_type": "markdown",
   "id": "3ca636e2",
   "metadata": {
    "slideshow": {
     "slide_type": "subslide"
    }
   },
   "source": [
    "### 转移语句 `break`, `continue`与`pass` "
   ]
  },
  {
   "cell_type": "markdown",
   "id": "508b3c9b",
   "metadata": {
    "slideshow": {
     "slide_type": "fragment"
    }
   },
   "source": [
    "- `break`语句用来结束当前的`for`或者`while`循环体\n",
    "- `continue`语句直接进入下一个循环\n",
    "- `pass`语句主要用于测试，保持语法的正确性但不做任何事"
   ]
  },
  {
   "cell_type": "markdown",
   "id": "e1de0854",
   "metadata": {
    "slideshow": {
     "slide_type": "subslide"
    }
   },
   "source": [
    "### 函数 "
   ]
  },
  {
   "cell_type": "markdown",
   "id": "62c1ca44",
   "metadata": {
    "slideshow": {
     "slide_type": "fragment"
    }
   },
   "source": [
    "自定义函数语法:<br>\n",
    "`def fun_nam(x1, x2, ...):`<br>\n",
    "`    statements`<br>\n",
    "`    ...`<br>\n",
    "`    return y1, y2, ...`"
   ]
  },
  {
   "cell_type": "markdown",
   "id": "ec173603",
   "metadata": {
    "slideshow": {
     "slide_type": "subslide"
    }
   },
   "source": [
    "### 模块载入"
   ]
  },
  {
   "cell_type": "markdown",
   "id": "379e1257",
   "metadata": {
    "slideshow": {
     "slide_type": "fragment"
    }
   },
   "source": [
    "1. `import mod_name [as alias]`--完全载入模块mod_nam,并取别名为alias。其中取别名可以省略。\n",
    "2. `from mod_name import object`--不完全载入，仅仅载入mod_name中的object对象。"
   ]
  },
  {
   "cell_type": "markdown",
   "id": "5285aa4d",
   "metadata": {
    "slideshow": {
     "slide_type": "subslide"
    }
   },
   "source": [
    "## 作业点评"
   ]
  },
  {
   "cell_type": "markdown",
   "id": "b117d5a9",
   "metadata": {
    "slideshow": {
     "slide_type": "subslide"
    }
   },
   "source": [
    "### 批改后的作业点评已经存入`~/homework/feedback/<user>`下。\n",
    "- 这次我给分很厚道，以后会提高要求\n",
    "- 老师会亲自改作业"
   ]
  },
  {
   "cell_type": "markdown",
   "id": "7940c76b",
   "metadata": {
    "slideshow": {
     "slide_type": "subslide"
    }
   },
   "source": [
    "### 掌握好讨论与'借鉴'的边界，有些有问题的之后助教会联系你们，跟助教约一下，答疑时间来找我，主要解决："
   ]
  },
  {
   "cell_type": "markdown",
   "id": "57c6ad49",
   "metadata": {
    "slideshow": {
     "slide_type": "fragment"
    }
   },
   "source": [
    "1. 解释一下这个问题的严重性。\n",
    "2. 谁是原创者？应该把分数归还给谁？\n",
    "3. 谁要进行补写？补写分数如何计算？（目前规则：按照90%的折算比例计算）"
   ]
  },
  {
   "cell_type": "markdown",
   "id": "670982df",
   "metadata": {
    "slideshow": {
     "slide_type": "subslide"
    }
   },
   "source": [
    "### 目前发现的问题:\n",
    "1. 基础还不够稳固\n",
    "    - 注重课后复习、“尝试-思考”循环。\n",
    "2. 实践时间还是不够\n",
    "    - 增加上课的练习时间\n",
    "3. 程序可读性有待提高\n",
    "    - 标量名辨识度需要提升，比如`l=2`变量名过于简单\n",
    "    - 输出结果可读性需要提升\n",
    "    - 问自己两个问题：\n",
    "        - **我把代码给别人，别人能看懂吗？**\n",
    "        - **我把代码放一个月，我还能看懂吗？**"
   ]
  }
 ],
 "metadata": {
  "celltoolbar": "Slideshow",
  "kernelspec": {
   "display_name": "Python 3 (ipykernel)",
   "language": "python",
   "name": "python3"
  },
  "language_info": {
   "codemirror_mode": {
    "name": "ipython",
    "version": 3
   },
   "file_extension": ".py",
   "mimetype": "text/x-python",
   "name": "python",
   "nbconvert_exporter": "python",
   "pygments_lexer": "ipython3",
   "version": "3.9.13"
  }
 },
 "nbformat": 4,
 "nbformat_minor": 5
}
