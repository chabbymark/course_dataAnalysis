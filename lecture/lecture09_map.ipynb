{
 "cells": [
  {
   "cell_type": "markdown",
   "id": "56ad1b99-45b3-4b93-bd57-72c191de0b46",
   "metadata": {
    "slideshow": {
     "slide_type": "slide"
    }
   },
   "source": [
    "<h1 align=\"center\"> 海洋数据分析 第九讲</h1>\n",
    "<h3 align=\"right\">主讲人: 陈笔澄</h3>\n",
    "<h2>目录<span class=\"tocSkip\"></span></h2>\n",
    "\n",
    "- ## [数据格式--NetCDF](#sec:netcdf)\n",
    "- ## [添加地图--Cartopy](#sec:map)\n",
    "- ## [一个更复杂的例子](#sec:example)"
   ]
  },
  {
   "cell_type": "markdown",
   "id": "bc6ce32f-afa6-4c14-9c30-5541cfa42ba6",
   "metadata": {
    "slideshow": {
     "slide_type": "subslide"
    }
   },
   "source": [
    "## 帮助链接:\n",
    "- ## NetCDF4: https://unidata.github.io/netcdf4-python/\n",
    "- ## Cartopy: https://scitools.org.uk/cartopy/docs/latest/\n",
    "## 目标:\n",
    "- ## 读取ERA5的海表面温度数据(Sea Surface Temperature, SST)，并利用Python将数据展示于世界地图之上。\n",
    "### 🔍 注: ERA5是欧洲中期天气预报中心(ECMWF)的全球小时再分析数据(https://www.ecmwf.int/en/forecasts/datasets/reanalysis-datasets/era5)"
   ]
  },
  {
   "cell_type": "markdown",
   "id": "90e37156-d483-4f96-897e-f2569963c2ca",
   "metadata": {},
   "source": [
    "---\n",
    "---"
   ]
  },
  {
   "cell_type": "markdown",
   "id": "99f2ffa6-3cbf-4116-bfc3-a32d679bab58",
   "metadata": {},
   "source": [
    "## "
   ]
  },
  {
   "cell_type": "markdown",
   "id": "a2d95556-6c04-4a10-b91e-fa2498db6d83",
   "metadata": {},
   "source": [
    "---\n",
    "---"
   ]
  },
  {
   "cell_type": "markdown",
   "id": "f164c335-d050-42ef-93a5-45da500cce7b",
   "metadata": {
    "slideshow": {
     "slide_type": "subslide"
    }
   },
   "source": [
    "## 🗂 <a id = \"sec:netcdf\"> 数据格式NetCDF </a>"
   ]
  },
  {
   "cell_type": "markdown",
   "id": "15376569-363f-4737-b23d-6bc7334a0102",
   "metadata": {},
   "source": [
    "### 🔍 注: 在将来的科研及工作中，大家会接触到各种各样的数据格式(e.g., CSV, Grib, Grib2, NetCDF):\n",
    "- ### 幸运的是，一般Python都会有相应的模块对数据进行基本的读取与处理操作。\n",
    "- ### 作为用户，我们不需要像过去使用Python基本文件读写功能那样注意具体的读取和处理细节，只需要掌握相应的函数及参数即可。"
   ]
  },
  {
   "cell_type": "markdown",
   "id": "ccce93ab-a4c0-4449-9a92-e35fdc805890",
   "metadata": {},
   "source": [
    "---"
   ]
  },
  {
   "cell_type": "markdown",
   "id": "15414d59-5a47-425f-ab20-d54014a3b48e",
   "metadata": {
    "slideshow": {
     "slide_type": "subslide"
    }
   },
   "source": [
    "## 💡 读取NetCDF格式的ERA5数据"
   ]
  },
  {
   "cell_type": "code",
   "execution_count": null,
   "id": "6d58da00-10f5-48f5-8cda-92771bf0865a",
   "metadata": {
    "slideshow": {
     "slide_type": "-"
    }
   },
   "outputs": [],
   "source": [
    "from netCDF4 import Dataset\n",
    "\n",
    "# 读取数据\n",
    "fn_era5 = \"./attachment/era5_SST.nc\"\n",
    "ncid = Dataset(fn_era5, \"r\")"
   ]
  },
  {
   "cell_type": "code",
   "execution_count": null,
   "id": "33c268d4-c441-4682-9512-af9ca0f341e3",
   "metadata": {
    "slideshow": {
     "slide_type": "subslide"
    }
   },
   "outputs": [],
   "source": [
    "# 观察数据集\n",
    "ncid.variables\n",
    "\n",
    "# 变量说明包含变量类型、变量名、单位、完整名称、维度信息、数据说明"
   ]
  },
  {
   "cell_type": "code",
   "execution_count": null,
   "id": "ceeba31e-5a64-4115-9104-9bdf8e778fbd",
   "metadata": {
    "slideshow": {
     "slide_type": "subslide"
    }
   },
   "outputs": [],
   "source": [
    "## 观察我们要画的SST(Sea Surface Temperature)变量\n",
    "ncid.variables[\"sst\"]"
   ]
  },
  {
   "cell_type": "code",
   "execution_count": null,
   "id": "f1a23fbe-14b0-4248-b536-11e19c39ca88",
   "metadata": {
    "slideshow": {
     "slide_type": "subslide"
    }
   },
   "outputs": [],
   "source": [
    "## 取数据，需要用到“键”(key)以及[:]运算符\n",
    "latitude = ncid[\"latitude\"][:]\n",
    "longitude = ncid[\"longitude\"][:]\n",
    "sst = ncid[\"sst\"][:]"
   ]
  },
  {
   "cell_type": "markdown",
   "id": "af8b57e2-fb0a-4ae3-a67c-70d8ba73022c",
   "metadata": {},
   "source": [
    "---"
   ]
  },
  {
   "cell_type": "markdown",
   "id": "e4e50168-148e-4c8f-b544-37d86e60bf70",
   "metadata": {
    "slideshow": {
     "slide_type": "subslide"
    }
   },
   "source": [
    "## 💡 先采用我们之前学过的知识做成果展示"
   ]
  },
  {
   "cell_type": "code",
   "execution_count": null,
   "id": "37c45e88-58b2-4ea7-8240-199f0fbe76a0",
   "metadata": {
    "slideshow": {
     "slide_type": "-"
    }
   },
   "outputs": [],
   "source": [
    "## 使用matplotlib画图\n",
    "import numpy as np\n",
    "import matplotlib as mpl\n",
    "import matplotlib.pyplot as plt\n",
    "from matplotlib import cm\n",
    "\n",
    "# 画布\n",
    "fig, ax = plt.subplots()\n",
    "\n",
    "# 画图\n",
    "cmap_sst = cm.get_cmap('viridis') # 选择颜色图\n",
    "levels_sst = np.linspace(270, 304, 18) # 设置等值线\n",
    "cax = ax.contourf(longitude, latitude, sst[0, :, :], levels=levels_sst, cmap=cmap_sst, extend='both')\n",
    "\n",
    "# 说明\n",
    "ax.set_xlabel(\"Longitude (DEG)\")\n",
    "ax.set_ylabel(\"Latitude (DEG)\")\n",
    "\n",
    "# 展示\n",
    "plt.show()"
   ]
  },
  {
   "cell_type": "markdown",
   "id": "a1f1031b-df3e-4321-9c4f-ecd0658dff6a",
   "metadata": {
    "slideshow": {
     "slide_type": "subslide"
    }
   },
   "source": [
    "## ❓ 我们要怎么添加地图\n",
    "## ❓ 我们要怎么采用不同的投影（e.g., 比如采用地球的真实比例）"
   ]
  },
  {
   "cell_type": "markdown",
   "id": "eede81e6-74e3-4eb1-b292-6282c27c19f9",
   "metadata": {},
   "source": [
    "---\n",
    "---"
   ]
  },
  {
   "cell_type": "markdown",
   "id": "fa4d0fa0-5a4d-45ca-9677-cebf415d5234",
   "metadata": {},
   "source": [
    "## "
   ]
  },
  {
   "cell_type": "markdown",
   "id": "a533d20d-2efd-4c63-929b-2e17856b044b",
   "metadata": {},
   "source": [
    "---\n",
    "---"
   ]
  },
  {
   "cell_type": "markdown",
   "id": "0aa2760a-0aee-4e03-ac1b-7476ae5c3053",
   "metadata": {
    "slideshow": {
     "slide_type": "subslide"
    }
   },
   "source": [
    "## 🗂 <a id = \"sec:netcdf\"> 添加地图--Cartopy </a>"
   ]
  },
  {
   "cell_type": "markdown",
   "id": "0f5670b4-7407-45f8-96af-be61e185cde4",
   "metadata": {},
   "source": [
    "---"
   ]
  },
  {
   "cell_type": "markdown",
   "id": "7c5ebc99-8bcd-4c4b-9568-4e6f16ab7586",
   "metadata": {
    "slideshow": {
     "slide_type": "subslide"
    }
   },
   "source": [
    "## ❓ 在使用Cartopy作图是，需要在坐标中指定相应投影"
   ]
  },
  {
   "cell_type": "markdown",
   "id": "4538aeeb-b3c8-493e-8792-b3d7f0284470",
   "metadata": {},
   "source": [
    "## 💡 `cartopy.crs`子模块(coordinate reference system)"
   ]
  },
  {
   "cell_type": "code",
   "execution_count": null,
   "id": "b028f0d7-7223-4cfa-a2c3-f23b3955be9b",
   "metadata": {
    "slideshow": {
     "slide_type": "subslide"
    }
   },
   "outputs": [],
   "source": [
    "## 模块\n",
    "import cartopy.crs as ccrs # coordinate reference system\n",
    "import matplotlib.pyplot as plt"
   ]
  },
  {
   "cell_type": "code",
   "execution_count": null,
   "id": "9806eef0-01e1-408d-abc5-7665b68d77d7",
   "metadata": {
    "slideshow": {
     "slide_type": "subslide"
    }
   },
   "outputs": [],
   "source": [
    "# 画布\n",
    "ax = plt.axes(projection=ccrs.PlateCarree()) # 投影\n",
    "\n",
    "ax.coastlines() # 海岸线"
   ]
  },
  {
   "cell_type": "code",
   "execution_count": null,
   "id": "df0bd96b-8629-46df-b3c2-34635097c76a",
   "metadata": {
    "slideshow": {
     "slide_type": "subslide"
    }
   },
   "outputs": [],
   "source": [
    "## 试试不同的投影--真实地球比例\n",
    "ax = plt.axes(projection=ccrs.Orthographic(central_longitude=100, central_latitude=35))\n",
    "ax.coastlines(resolution='50m') # 海岸线"
   ]
  },
  {
   "cell_type": "code",
   "execution_count": null,
   "id": "e9bce8c5-70a3-494f-b21f-75ccacd905e0",
   "metadata": {
    "slideshow": {
     "slide_type": "subslide"
    }
   },
   "outputs": [],
   "source": [
    "## 试试不同的投影--椭圆体(摩尔维特投影)\n",
    "ax = plt.axes(projection=ccrs.Mollweide())\n",
    "ax.coastlines() # 海岸线"
   ]
  },
  {
   "cell_type": "markdown",
   "id": "4f621a8d-66a6-4e91-bbeb-9660b59d3645",
   "metadata": {
    "slideshow": {
     "slide_type": "subslide"
    }
   },
   "source": [
    "### 🔍 关于投影，可查阅 https://scitools.org.uk/cartopy/docs/v0.15/crs/projections.html"
   ]
  },
  {
   "cell_type": "markdown",
   "id": "18f473f1-92a8-41bc-b40c-469534398339",
   "metadata": {},
   "source": [
    "---"
   ]
  },
  {
   "cell_type": "markdown",
   "id": "81244fc6-94a3-46a9-86ef-e477f04a23dc",
   "metadata": {
    "slideshow": {
     "slide_type": "subslide"
    }
   },
   "source": [
    "## ❓ 如何添加其他地图元素(e.g., 国界线)\n",
    "## 💡 使用`feature`子模块与`ax.add_feature()`子函数"
   ]
  },
  {
   "cell_type": "code",
   "execution_count": null,
   "id": "e074d30e-6078-4664-8b34-928d00138442",
   "metadata": {},
   "outputs": [],
   "source": [
    "import cartopy.feature as cfeature"
   ]
  },
  {
   "cell_type": "code",
   "execution_count": null,
   "id": "3f71c51b-f7af-47c4-95f1-8144e9453bbf",
   "metadata": {},
   "outputs": [],
   "source": [
    "ax = plt.axes(projection=ccrs.Mollweide())\n",
    "ax.coastlines() # 海岸线\n",
    "ax.add_feature(cfeature.BORDERS, linestyle='-', linewidth=0.5) # 国界线\n",
    "plt.show()"
   ]
  },
  {
   "cell_type": "markdown",
   "id": "e44052b1-a1d5-4c3c-81ce-7125ed3eca2b",
   "metadata": {},
   "source": [
    "## "
   ]
  },
  {
   "cell_type": "markdown",
   "id": "c0badf85-b585-451b-9064-b0484d4bc59c",
   "metadata": {
    "slideshow": {
     "slide_type": "subslide"
    }
   },
   "source": [
    "## 💡 使用`feature`子模块中的`NaturalEarthFeature()`子函数填充陆地效果"
   ]
  },
  {
   "cell_type": "code",
   "execution_count": null,
   "id": "796ab700-6df4-4811-afe4-b0ddb3a7dbf7",
   "metadata": {},
   "outputs": [],
   "source": [
    "ax = plt.axes(projection=ccrs.Mollweide())\n",
    "ax.coastlines() # 海岸线\n",
    "ax.add_feature(cfeature.BORDERS, linestyle='-', linewidth=0.5, zorder=2) # 国界线\n",
    "land_50m = cfeature.NaturalEarthFeature('physical', 'land', '50m',\n",
    "                                        edgecolor='face',\n",
    "                                        facecolor=cfeature.COLORS['land_alt1'])\n",
    "ax.add_feature(land_50m, zorder=1) # 陆地效果\n",
    "plt.show()"
   ]
  },
  {
   "cell_type": "markdown",
   "id": "b89ecb02-d853-432f-9b78-4598d58da90b",
   "metadata": {
    "slideshow": {
     "slide_type": "subslide"
    }
   },
   "source": [
    "## 🔍 更多关于`cartopy.feature`: https://scitools.org.uk/cartopy/docs/latest/matplotlib/feature_interface.html"
   ]
  },
  {
   "cell_type": "markdown",
   "id": "7c546360-c53b-4b7e-a47a-22f486b42d51",
   "metadata": {},
   "source": [
    "---"
   ]
  },
  {
   "cell_type": "markdown",
   "id": "39b44f02-af9b-4ffd-98a3-d2938256fd9a",
   "metadata": {
    "slideshow": {
     "slide_type": "subslide"
    }
   },
   "source": [
    "## 😱 填充数据完成成果展示"
   ]
  },
  {
   "cell_type": "code",
   "execution_count": null,
   "id": "fa1a688c-a589-461a-8331-64f7393bd429",
   "metadata": {},
   "outputs": [],
   "source": [
    "ax = plt.axes(projection=ccrs.Mollweide())\n",
    "\n",
    "# SST\n",
    "cax = ax.contourf(longitude, latitude, sst[0, :, :],\n",
    "    levels=levels_sst, cmap=cmap_sst, extend='both')\n",
    "\n",
    "ax.coastlines() # 海岸线\n",
    "ax.add_feature(cfeature.BORDERS, linestyle='-', linewidth=0.5, zorder=2) # 国界线\n",
    "land_50m = cfeature.NaturalEarthFeature('physical', 'land', '50m',\n",
    "                                        edgecolor='face',\n",
    "                                        facecolor=cfeature.COLORS['land_alt1'])\n",
    "ax.add_feature(land_50m, zorder=1) # 陆地效果\n",
    "plt.show()"
   ]
  },
  {
   "cell_type": "markdown",
   "id": "d53f7fd4-c480-4be9-946f-40112153b7b7",
   "metadata": {
    "slideshow": {
     "slide_type": "subslide"
    }
   },
   "source": [
    "## ❓ 怎么不对\n",
    "## 💡 没有告诉地图，我们的数据采用什么坐标体系，运用`transform`参数解决问题"
   ]
  },
  {
   "cell_type": "code",
   "execution_count": null,
   "id": "6635cf80-7053-4d46-8c8b-1bfe5a11482b",
   "metadata": {},
   "outputs": [],
   "source": [
    "ax = plt.axes(projection=ccrs.Mollweide())\n",
    "\n",
    "# SST\n",
    "cax = ax.contourf(longitude, latitude, sst[0, :, :],\n",
    "    levels=levels_sst, cmap=cmap_sst, extend='both',\n",
    "    transform=ccrs.PlateCarree()) ## transform参数指定的是数据的坐标投影，而不是画本身的坐标投影\n",
    "\n",
    "ax.coastlines() # 海岸线\n",
    "ax.add_feature(cfeature.BORDERS, linestyle='-', linewidth=0.5, zorder=2) # 国界线\n",
    "land_50m = cfeature.NaturalEarthFeature('physical', 'land', '50m',\n",
    "                                        edgecolor='face',\n",
    "                                        facecolor=cfeature.COLORS['land_alt1'])\n",
    "ax.add_feature(land_50m, zorder=1) # 陆地效果\n",
    "plt.show()"
   ]
  },
  {
   "cell_type": "markdown",
   "id": "91935562-1951-44d5-bfc5-4be1c6e163d9",
   "metadata": {
    "slideshow": {
     "slide_type": "subslide"
    }
   },
   "source": [
    "## 🔍 注: `transform`参数指定的是数据的坐标投影，而不是画本身的坐标投影。"
   ]
  },
  {
   "cell_type": "markdown",
   "id": "ff5562b4-c151-4983-842c-b952e3fe32ee",
   "metadata": {},
   "source": [
    "---\n",
    "---"
   ]
  },
  {
   "cell_type": "markdown",
   "id": "0b3cc6fa-9922-4a1d-89c3-ecf53bd36443",
   "metadata": {},
   "source": [
    "## "
   ]
  },
  {
   "cell_type": "markdown",
   "id": "bdc257ee-e199-4df1-ab71-9c8adea141d7",
   "metadata": {},
   "source": [
    "---\n",
    "---"
   ]
  },
  {
   "cell_type": "markdown",
   "id": "e44b8e0b-9aa4-475a-a118-a2ddf480ab0d",
   "metadata": {
    "slideshow": {
     "slide_type": "subslide"
    }
   },
   "source": [
    "## 🗂 <a id = \"sec:example\"> 一个更复杂的例子</a>"
   ]
  },
  {
   "cell_type": "markdown",
   "id": "1bde0537-75dc-449f-b21e-a3d16ec06e6e",
   "metadata": {},
   "source": [
    "## 🔍 请注意日期如何从小时转化为完整的日期格式"
   ]
  },
  {
   "cell_type": "code",
   "execution_count": null,
   "id": "79b14c3a-3706-44a8-8d8c-a00ac1528104",
   "metadata": {},
   "outputs": [],
   "source": [
    "## 载入模块\n",
    "from netCDF4 import Dataset\n",
    "import numpy as np\n",
    "from datetime import datetime, timedelta\n",
    "import matplotlib as mpl\n",
    "import matplotlib.pyplot as plt\n",
    "from matplotlib import cm\n",
    "from matplotlib.gridspec import GridSpec\n",
    "from matplotlib.ticker import MultipleLocator\n",
    "import cartopy.crs as ccrs\n",
    "import cartopy.feature as cfeature"
   ]
  },
  {
   "cell_type": "code",
   "execution_count": null,
   "id": "61c1cd94-a459-4b6c-b903-a8830362901a",
   "metadata": {},
   "outputs": [],
   "source": [
    "## 自定义参数\n",
    "# 时间\n",
    "time_anchor = datetime(1900, 1, 1, 0, 0, 0) #(year, month, day, hour, minitue, second)\n",
    "\n",
    "# 图片\n",
    "figsize = (8, 4)\n",
    "ncol_fig = 2\n",
    "levels_sst = np.linspace(270, 304, 18)\n",
    "cmap_sst = cm.get_cmap('viridis')\n",
    "param_gs = dict(left=0.05, right=0.92, bottom=0.05, top=0.98, hspace=0.2, wspace=0.1) # parameters for gridspec\n",
    "lat_spacing = 30\n",
    "lon_spacing = 30"
   ]
  },
  {
   "cell_type": "code",
   "execution_count": null,
   "id": "35ccdedb-c5e0-455f-b8f1-fd5c558e8025",
   "metadata": {},
   "outputs": [],
   "source": [
    "## 读取数据\n",
    "fn_era5 = \"./attachment/era5_SST.nc\"\n",
    "ncid = Dataset(fn_era5, \"r\")\n",
    "\n",
    "time = ncid[\"time\"][:] # hours since 1900-01-01 00:00:00.0\n",
    "latitude = ncid[\"latitude\"][:]\n",
    "longitude = ncid[\"longitude\"][:]\n",
    "sst = ncid[\"sst\"][:]"
   ]
  },
  {
   "cell_type": "code",
   "execution_count": null,
   "id": "7ef31cc3-5aa7-4feb-829c-bb039d11e3a4",
   "metadata": {},
   "outputs": [],
   "source": [
    "## 数据处理\n",
    "# 计算时间维度\n",
    "nt = len(time)\n",
    "\n",
    "# 将时间转化为年月日时分秒模式\n",
    "time_full = np.array([timedelta(hours=int(hour)) + time_anchor for hour in time])\n",
    "print(\"The time for data:\\n\", time_full)"
   ]
  },
  {
   "cell_type": "code",
   "execution_count": null,
   "id": "71e56406-c6eb-47af-8f45-225a0b49d96c",
   "metadata": {},
   "outputs": [],
   "source": [
    "## 成果展示\n",
    "# 预处理\n",
    "land_50m = cfeature.NaturalEarthFeature('physical', 'land', '50m',\n",
    "    edgecolor='face', facecolor=cfeature.COLORS['land_alt1']) # 陆地颜色设置\n",
    "\n",
    "## 构图\n",
    "fig = plt.figure(figsize=figsize)\n",
    "gs = fig.add_gridspec(int(np.ceil(nt/ncol_fig)), ncol_fig, **param_gs)\n",
    "\n",
    "## 画图\n",
    "for isub in range(nt):\n",
    "    # 海表面温度\n",
    "    ax = fig.add_subplot(gs[isub], projection=ccrs.Mollweide())\n",
    "    cax = ax.contourf(longitude, latitude, sst[isub, :, :],\n",
    "        levels=levels_sst, cmap=cmap_sst, extend='both',\n",
    "        transform=ccrs.PlateCarree())\n",
    "    \n",
    "    # 辅助效果\n",
    "    ax.coastlines()\n",
    "    ax.add_feature(cfeature.BORDERS, linestyle='-', linewidth=0.5, zorder=2) # 国界线\n",
    "    ax.add_feature(land_50m, zorder=1) # 陆地效果\n",
    "    \n",
    "    ## 说明\n",
    "    gl=ax.gridlines(crs=ccrs.PlateCarree(),\n",
    "        linewidth=1, color='gray', alpha=0.5, linestyle='--') # 经纬线(map gridline object)\n",
    "    gl.xlocator = MultipleLocator(lon_spacing)\n",
    "    gl.ylocator = MultipleLocator(lat_spacing)\n",
    "    \n",
    "    ax.set_title(time_full[isub].strftime(\"%Y/%m/%d %H:%M UTC\"))\n",
    "\n",
    "# 添加色阶图\n",
    "cbar_ax = plt.axes([0.92, 0.32, 0.02, 0.3]) # 建立一个新的子区域，格式是[x起始, y起始, 宽度, 高度]，单位是整个画布的归一化坐标。\n",
    "cbar = fig.colorbar(cax, cax=cbar_ax, ticks=levels_sst[::3])\n",
    "cbar.ax.set_title(\"T $(^\\circ C)$\", ha='center', va='bottom')\n",
    "    \n",
    "## 展示\n",
    "plt.show()"
   ]
  },
  {
   "cell_type": "markdown",
   "id": "7d425939-049b-49c3-959a-8f390be0fbd8",
   "metadata": {},
   "source": [
    "---\n",
    "---"
   ]
  }
 ],
 "metadata": {
  "celltoolbar": "Slideshow",
  "kernelspec": {
   "display_name": "Python 3 (ipykernel)",
   "language": "python",
   "name": "python3"
  },
  "language_info": {
   "codemirror_mode": {
    "name": "ipython",
    "version": 3
   },
   "file_extension": ".py",
   "mimetype": "text/x-python",
   "name": "python",
   "nbconvert_exporter": "python",
   "pygments_lexer": "ipython3",
   "version": "3.9.13"
  }
 },
 "nbformat": 4,
 "nbformat_minor": 5
}
