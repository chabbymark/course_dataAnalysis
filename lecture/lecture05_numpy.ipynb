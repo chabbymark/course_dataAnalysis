{
 "cells": [
  {
   "cell_type": "markdown",
   "id": "aef986b5-bbb7-4589-969c-91b67a43e993",
   "metadata": {
    "slideshow": {
     "slide_type": "slide"
    }
   },
   "source": [
    "<h1 align=\"center\"> 海洋数据分析 第五讲 </h1>\n",
    "<h3 align=\"right\">主讲人: 陈笔澄</h3>\n",
    "<h2>目录<span class=\"tocSkip\"></span></h2>\n",
    "<div class=\"toc\">\n",
    "    <ul class=\"toc-item\">\n",
    "        <li> &nbsp;&nbsp; <font size=5>5. Python进阶知识--NumPy</li>\n",
    "    </ul>\n",
    "</div>"
   ]
  },
  {
   "cell_type": "markdown",
   "id": "3b4ba252-e7e4-4364-affc-a257e0203c4c",
   "metadata": {},
   "source": [
    "---"
   ]
  },
  {
   "cell_type": "markdown",
   "id": "6ab7bb4d-42d8-486c-bac3-8fa43f924ee9",
   "metadata": {
    "slideshow": {
     "slide_type": "subslide"
    }
   },
   "source": [
    "## 5. <font size=20>NumPy <img src=\"https://numpy.org/images/logo.svg\" width=60>"
   ]
  },
  {
   "cell_type": "markdown",
   "id": "c621dcd9-1952-4c22-8e15-1e3f5e90367c",
   "metadata": {},
   "source": [
    "## 官方手册: https://numpy.org/doc/stable/\n",
    "- ### 可以查询到所有NumPy相关数据类型以及函数的具体信息"
   ]
  },
  {
   "cell_type": "markdown",
   "id": "13f64695-333b-4f78-8269-17edb8a3940a",
   "metadata": {},
   "source": [
    "---"
   ]
  },
  {
   "cell_type": "markdown",
   "id": "2300fc24-d343-488c-ba96-1159c9390494",
   "metadata": {
    "slideshow": {
     "slide_type": "subslide"
    }
   },
   "source": [
    "## ❓什么是Numpy"
   ]
  },
  {
   "cell_type": "markdown",
   "id": "3a2f78ef-1db9-4e55-bdee-627737c85150",
   "metadata": {
    "slideshow": {
     "slide_type": "fragment"
    }
   },
   "source": [
    "## 💡\n",
    "- ### Numpy是Numerical Python的缩写。\n",
    "- ### Python中科学计算的基础。\n",
    "- ### 是各种复杂科学计算算法及数据结构模块(e.g., SciPy, Pandas)的基础。"
   ]
  },
  {
   "cell_type": "markdown",
   "id": "37a6db35-bf0c-42b9-8a1d-5070c684dd79",
   "metadata": {},
   "source": [
    "---"
   ]
  },
  {
   "cell_type": "markdown",
   "id": "478773df-ceb7-45e0-8393-30a8f0b28460",
   "metadata": {
    "slideshow": {
     "slide_type": "subslide"
    }
   },
   "source": [
    "## ❓Numpy的核心是什么"
   ]
  },
  {
   "cell_type": "markdown",
   "id": "b7a4cc9f-1fad-4f21-bb01-9c53f69803ca",
   "metadata": {
    "slideshow": {
     "slide_type": "fragment"
    }
   },
   "source": [
    "## 💡N维数组(array)及其处理能力。\n",
    "- ### 关键词:数组\n",
    "- ### 说明不是数组类型不适合使用NumPy"
   ]
  },
  {
   "cell_type": "markdown",
   "id": "77880009-2a06-41e1-9f90-464fe76a37c1",
   "metadata": {},
   "source": [
    "---"
   ]
  },
  {
   "cell_type": "markdown",
   "id": "0ab7d576-21e0-468c-b31a-7ab3c4b2cd6a",
   "metadata": {
    "slideshow": {
     "slide_type": "subslide"
    }
   },
   "source": [
    "## ❓如何载入NumPy模块"
   ]
  },
  {
   "cell_type": "code",
   "execution_count": 1,
   "id": "94353f11-dfea-4544-9bfd-7f5d6be7e970",
   "metadata": {
    "slideshow": {
     "slide_type": "fragment"
    }
   },
   "outputs": [],
   "source": [
    "import numpy # 最简单的方法\n",
    "import numpy as np # 网上最常见的方法\n",
    "from numpy import pi # 只需要载入部分功能时的方法"
   ]
  },
  {
   "cell_type": "markdown",
   "id": "946dc253-e322-4900-9e7e-34c295eba151",
   "metadata": {},
   "source": [
    "---"
   ]
  },
  {
   "cell_type": "markdown",
   "id": "30b862d3-b142-4fbc-afab-10eb95212dfd",
   "metadata": {
    "slideshow": {
     "slide_type": "subslide"
    }
   },
   "source": [
    "## ❓万里长征第一步: 如何创建一个NumPy数组"
   ]
  },
  {
   "cell_type": "markdown",
   "id": "cec3ba01-3c0c-49b6-a8e6-5b1338897fab",
   "metadata": {
    "slideshow": {
     "slide_type": "fragment"
    }
   },
   "source": [
    "## 💡方法1: 运用Python列表(list)创建数组"
   ]
  },
  {
   "cell_type": "code",
   "execution_count": 2,
   "id": "ee645ade-8c7e-46c1-b305-de6f6b03f516",
   "metadata": {
    "slideshow": {
     "slide_type": "fragment"
    }
   },
   "outputs": [
    {
     "name": "stdout",
     "output_type": "stream",
     "text": [
      "[1 2 3 4]\n"
     ]
    }
   ],
   "source": [
    "# 1维数组\n",
    "arr_1d = np.array([1, 2, 3, 4])\n",
    "print(arr_1d)"
   ]
  },
  {
   "cell_type": "code",
   "execution_count": 3,
   "id": "b26e601a-a426-4795-b4e2-bfaae1d2f688",
   "metadata": {
    "slideshow": {
     "slide_type": "fragment"
    }
   },
   "outputs": [
    {
     "name": "stdout",
     "output_type": "stream",
     "text": [
      "[[11 12 13 14]\n",
      " [21 22 23 24]]\n"
     ]
    }
   ],
   "source": [
    "# 2维数组\n",
    "arr_2d = np.array([[11, 12, 13, 14], [21, 22, 23, 24]])\n",
    "print(arr_2d)"
   ]
  },
  {
   "cell_type": "code",
   "execution_count": 4,
   "id": "2017b752-f640-4e67-9379-7718e8015b42",
   "metadata": {
    "slideshow": {
     "slide_type": "fragment"
    }
   },
   "outputs": [
    {
     "name": "stdout",
     "output_type": "stream",
     "text": [
      "[1. 2. 3. 4.]\n"
     ]
    }
   ],
   "source": [
    "# 指定数据类型(与c语言类似)\n",
    "arr_f64 = np.array([1, 2, 3, 4], dtype=np.float64)\n",
    "print(arr_f64)"
   ]
  },
  {
   "cell_type": "markdown",
   "id": "960ad7c6-0477-41c7-90f5-e673423007fc",
   "metadata": {
    "slideshow": {
     "slide_type": "subslide"
    }
   },
   "source": [
    "### 🔍 *常见错误: 缺少列表的中括号'[]'*，例如"
   ]
  },
  {
   "cell_type": "code",
   "execution_count": 5,
   "id": "4656d87c-b0b8-490c-8fbb-649444cb1e58",
   "metadata": {},
   "outputs": [
    {
     "ename": "TypeError",
     "evalue": "array() takes from 1 to 2 positional arguments but 4 were given",
     "output_type": "error",
     "traceback": [
      "\u001b[0;31m---------------------------------------------------------------------------\u001b[0m",
      "\u001b[0;31mTypeError\u001b[0m                                 Traceback (most recent call last)",
      "Cell \u001b[0;32mIn [5], line 1\u001b[0m\n\u001b[0;32m----> 1\u001b[0m arr_err \u001b[38;5;241m=\u001b[39m \u001b[43mnp\u001b[49m\u001b[38;5;241;43m.\u001b[39;49m\u001b[43marray\u001b[49m\u001b[43m(\u001b[49m\u001b[38;5;241;43m1\u001b[39;49m\u001b[43m,\u001b[49m\u001b[43m \u001b[49m\u001b[38;5;241;43m2\u001b[39;49m\u001b[43m,\u001b[49m\u001b[43m \u001b[49m\u001b[38;5;241;43m3\u001b[39;49m\u001b[43m,\u001b[49m\u001b[43m \u001b[49m\u001b[38;5;241;43m4\u001b[39;49m\u001b[43m)\u001b[49m\n",
      "\u001b[0;31mTypeError\u001b[0m: array() takes from 1 to 2 positional arguments but 4 were given"
     ]
    }
   ],
   "source": [
    "arr_err = np.array(1, 2, 3, 4)"
   ]
  },
  {
   "cell_type": "markdown",
   "id": "80279f03-2b3d-4ed2-9a58-73721b94227c",
   "metadata": {
    "slideshow": {
     "slide_type": "fragment"
    }
   },
   "source": [
    "## 🔍 *重要技巧: 当出现错误是，仔细阅读错误信息能有效解决代码中的问题*"
   ]
  },
  {
   "cell_type": "markdown",
   "id": "a0098cf1-dae9-41c3-a859-318e8991256a",
   "metadata": {
    "slideshow": {
     "slide_type": "subslide"
    }
   },
   "source": [
    "## ✏️练习: 如果列表能用于构建数组，那元组(tuple)、以及NumPy数组可以用于构建新数组吗？"
   ]
  },
  {
   "cell_type": "code",
   "execution_count": null,
   "id": "86a1b8d1-7c43-4936-9a23-6038a28b53aa",
   "metadata": {},
   "outputs": [],
   "source": [
    "# 元组是否可以构建数组?\n",
    "arr_tpl = \n",
    "# NumPy是否可以用于构建数组？\n",
    "arr_arr = "
   ]
  },
  {
   "cell_type": "markdown",
   "id": "3a5da192-af01-4679-b91d-0abf39c0330d",
   "metadata": {},
   "source": [
    "## "
   ]
  },
  {
   "cell_type": "markdown",
   "id": "daff3515-fcfd-4180-bf63-62b24486d570",
   "metadata": {
    "slideshow": {
     "slide_type": "subslide"
    }
   },
   "source": [
    "## 💡方法2: 利用NumPy的内置函数"
   ]
  },
  {
   "cell_type": "code",
   "execution_count": 6,
   "id": "cb4e1cc5-2054-432b-b54d-bfa6f43d900f",
   "metadata": {
    "slideshow": {
     "slide_type": "subslide"
    }
   },
   "outputs": [
    {
     "name": "stdout",
     "output_type": "stream",
     "text": [
      "[[0. 0. 0. 0. 0.]\n",
      " [0. 0. 0. 0. 0.]\n",
      " [0. 0. 0. 0. 0.]\n",
      " [0. 0. 0. 0. 0.]]\n"
     ]
    }
   ],
   "source": [
    "# 全0数组\n",
    "arr_zero = np.zeros((4, 5)) # (4, 5)代表数组的纬度是4x5(4行5列)\n",
    "print(arr_zero)"
   ]
  },
  {
   "cell_type": "code",
   "execution_count": 7,
   "id": "22b48a24-47dd-48aa-b3fe-976f1b489809",
   "metadata": {
    "slideshow": {
     "slide_type": "subslide"
    }
   },
   "outputs": [
    {
     "name": "stdout",
     "output_type": "stream",
     "text": [
      "[[[1. 1. 1. 1.]\n",
      "  [1. 1. 1. 1.]\n",
      "  [1. 1. 1. 1.]]\n",
      "\n",
      " [[1. 1. 1. 1.]\n",
      "  [1. 1. 1. 1.]\n",
      "  [1. 1. 1. 1.]]]\n"
     ]
    }
   ],
   "source": [
    "# 全1数组\n",
    "arr_one = np.ones((2, 3, 4), dtype=np.float32) # 内置函数一样可以指定类型\n",
    "print(arr_one)"
   ]
  },
  {
   "cell_type": "code",
   "execution_count": 8,
   "id": "6a491ae4-8d4d-4b93-9103-f263639db3e1",
   "metadata": {
    "slideshow": {
     "slide_type": "subslide"
    }
   },
   "outputs": [
    {
     "name": "stdout",
     "output_type": "stream",
     "text": [
      "[[4.67882019e-310 0.00000000e+000]\n",
      " [0.00000000e+000 0.00000000e+000]\n",
      " [0.00000000e+000 0.00000000e+000]]\n"
     ]
    }
   ],
   "source": [
    "# 无初始化数组\n",
    "arr_emp = np.empty([3, 2]) # 注意初始值具有很强的不确定性\n",
    "print(arr_emp)"
   ]
  },
  {
   "cell_type": "code",
   "execution_count": 9,
   "id": "3807a8b6-8d1c-4d3b-a643-30766c2e9b05",
   "metadata": {
    "slideshow": {
     "slide_type": "subslide"
    }
   },
   "outputs": [
    {
     "name": "stdout",
     "output_type": "stream",
     "text": [
      "[0.18441468 0.6657246  0.6324988  0.60062042 0.27648542 0.3916279\n",
      " 0.60006367 0.42050194 0.91593385 0.79551775 0.66897389 0.92473043\n",
      " 0.79730304 0.15220735 0.77091307 0.00481359 0.57791695 0.56817689\n",
      " 0.36996289 0.22455787 0.79651273 0.47855225 0.40320483 0.33713832\n",
      " 0.58390194 0.25822085 0.49677439 0.27878258 0.71527251 0.79140565\n",
      " 0.18731528 0.74955036 0.50915821 0.18057536 0.10433689 0.09472096\n",
      " 0.25159909 0.14611283 0.87797212 0.88664401 0.44491164 0.75792548\n",
      " 0.76526041 0.5221204  0.58549507 0.24610776 0.67141784 0.35392665\n",
      " 0.40612851 0.25428329 0.61039525 0.51775923 0.85164016 0.03071871\n",
      " 0.89215867 0.55532722 0.97330559 0.04600801 0.69264167 0.6060917\n",
      " 0.34316691 0.23224481 0.65182122 0.80561698 0.67644611 0.51326409\n",
      " 0.22994302 0.88514023 0.34215824 0.66262204 0.16961775 0.68169955\n",
      " 0.21835529 0.59053461 0.9757044  0.58133486 0.05732008 0.68293467\n",
      " 0.54595663 0.7687725  0.88202434 0.29465727 0.41081779 0.32982642\n",
      " 0.32876164 0.26282815 0.45579265 0.98199821 0.67815596 0.75479526\n",
      " 0.6860489  0.32069965 0.50187478 0.02810927 0.72701259 0.82405444\n",
      " 0.04386355 0.17050131 0.29102536 0.85764708]\n"
     ]
    }
   ],
   "source": [
    "# 随机数组\n",
    "arr_rand = np.random.rand(100)\n",
    "print(arr_rand)\n",
    "# numpy的random子模块有很多随机数生成函数，rand只是其中一个。"
   ]
  },
  {
   "cell_type": "code",
   "execution_count": 10,
   "id": "968f4654-8e44-4347-b584-179062bde65d",
   "metadata": {
    "slideshow": {
     "slide_type": "subslide"
    }
   },
   "outputs": [
    {
     "name": "stdout",
     "output_type": "stream",
     "text": [
      "[ 1.   1.5  2.   2.5  3.   3.5  4.   4.5  5.   5.5  6.   6.5  7.   7.5\n",
      "  8.   8.5  9.   9.5 10.  10.5 11.  11.5 12. ]\n"
     ]
    }
   ],
   "source": [
    "# 等差数列(类似于range类型，但含有数列所有值，且可为浮点型)\n",
    "arr_ran = np.arange(1, 12.1, 0.5)\n",
    "print(arr_ran)"
   ]
  },
  {
   "cell_type": "code",
   "execution_count": 11,
   "id": "9a84eeb5-9eb8-4076-ae3d-aaeb68bfca7c",
   "metadata": {
    "slideshow": {
     "slide_type": "subslide"
    }
   },
   "outputs": [
    {
     "name": "stdout",
     "output_type": "stream",
     "text": [
      "[  0.  10.  20.  30.  40.  50.  60.  70.  80.  90. 100.]\n"
     ]
    }
   ],
   "source": [
    "# 线性等分数列\n",
    "arr_lin = np.linspace(0, 100, 11) # 1到100等间距分割为11个数\n",
    "print(arr_lin)"
   ]
  },
  {
   "cell_type": "code",
   "execution_count": 12,
   "id": "055eb3e0-b55c-4a7d-8f47-1f7856a1aa68",
   "metadata": {
    "slideshow": {
     "slide_type": "subslide"
    }
   },
   "outputs": [
    {
     "name": "stdout",
     "output_type": "stream",
     "text": [
      "[1.e+00 1.e+01 1.e+02 1.e+03 1.e+04 1.e+05 1.e+06 1.e+07 1.e+08 1.e+09\n",
      " 1.e+10]\n"
     ]
    }
   ],
   "source": [
    "# 对数等分数列\n",
    "arr_log = np.logspace(0, 10, 11) # 1e0到1e10按照对数指数等分为11个数\n",
    "print(arr_log)"
   ]
  },
  {
   "cell_type": "markdown",
   "id": "b3553a90-45a2-41d9-b746-b27b0ac569f4",
   "metadata": {
    "slideshow": {
     "slide_type": "subslide"
    }
   },
   "source": [
    "## 🔍NumPy初始化函数总结:\n",
    "- ### `numpy.zeros(shape)`\n",
    "- ### `numpy.ones(shape)`\n",
    "- ### `numpy.empty(shape)`\n",
    "- ### `numpy.random.rand(size)`\n",
    "- ### `numpy.arange(start, end, span)`\n",
    "- ### `numpy.linspace(start, end, size)`\n",
    "- ### `numpy.logspace(start, end, size)`"
   ]
  },
  {
   "cell_type": "markdown",
   "id": "4305549d-1efb-4277-a796-869cc16f909b",
   "metadata": {},
   "source": [
    "---"
   ]
  },
  {
   "cell_type": "markdown",
   "id": "6cb48f3a-3e24-43e0-9965-2117f893463c",
   "metadata": {
    "slideshow": {
     "slide_type": "subslide"
    }
   },
   "source": [
    "## ❓既然是多维数组，我们怎么知道多维数组的纬度？"
   ]
  },
  {
   "cell_type": "markdown",
   "id": "622b69ce-2f58-41f9-b09d-0ba0996b2031",
   "metadata": {
    "slideshow": {
     "slide_type": "fragment"
    }
   },
   "source": [
    "## 💡运用`numpy.shape`。"
   ]
  },
  {
   "cell_type": "code",
   "execution_count": 13,
   "id": "027ea22e-b5f8-41a0-a865-6140c3bf50ec",
   "metadata": {
    "slideshow": {
     "slide_type": "fragment"
    }
   },
   "outputs": [
    {
     "name": "stdout",
     "output_type": "stream",
     "text": [
      "(5, 7, 4)\n"
     ]
    }
   ],
   "source": [
    "arr_nd = np.ones((5, 7, 4))\n",
    "print(arr_nd.shape)"
   ]
  },
  {
   "cell_type": "markdown",
   "id": "adb60331-9315-4967-91c6-c63cb6f4f4f6",
   "metadata": {},
   "source": [
    "---"
   ]
  },
  {
   "cell_type": "markdown",
   "id": "1c08878f-f3cb-4081-8dac-169a430d5959",
   "metadata": {
    "slideshow": {
     "slide_type": "subslide"
    }
   },
   "source": [
    "## ❓有了数组，我们该怎么提取数据"
   ]
  },
  {
   "cell_type": "markdown",
   "id": "c242535f-9f15-47d7-8291-ffeba9d9a067",
   "metadata": {
    "slideshow": {
     "slide_type": "fragment"
    }
   },
   "source": [
    "## 💡方法1: 与列表相似(但更复杂)的指数索引(indexing)与切片(slicing)索引。"
   ]
  },
  {
   "cell_type": "markdown",
   "id": "2f63719f-149b-4f74-8af0-4e9c248898e6",
   "metadata": {
    "slideshow": {
     "slide_type": "subslide"
    }
   },
   "source": [
    "### 📒回顾: 列表的指数索引与切片索引。"
   ]
  },
  {
   "cell_type": "code",
   "execution_count": 15,
   "id": "dcd2106c-5253-4ed0-a6a1-2d89c2772044",
   "metadata": {
    "slideshow": {
     "slide_type": "fragment"
    }
   },
   "outputs": [
    {
     "name": "stdout",
     "output_type": "stream",
     "text": [
      "指数索引 - ls[3]:        4\n",
      "切片索引1 - ls[1:5]:     [2, 3, 4, 5]\n",
      "切片索引2 - ls[1:5:2]:   [2, 4]\n",
      "切片索引3 - ls[9:3:-3]   [10, 7]\n",
      "切片索引4 - ls[:4]:      [1, 2, 3, 4]\n"
     ]
    }
   ],
   "source": [
    "ls = [1, 2, 3, 4, 5, 6, 7, 8, 9, 10]\n",
    "#指数: 0, 1, 2, 3, 4, 5, 6, 7, 8, 9\n",
    "\n",
    "fmt = \"{:20s}\"\n",
    "# 指数索引\n",
    "print(fmt.format(\"指数索引 - ls[3]: \"), ls[3])\n",
    "\n",
    "# 切片索引\n",
    "print(fmt.format(\"切片索引1 - ls[1:5]:\"), ls[1:5])\n",
    "print(fmt.format(\"切片索引2 - ls[1:5:2]:\"), ls[1:5:2])\n",
    "print(fmt.format(\"切片索引3 - ls[9:3:-3]\"), ls[9:3:-3])\n",
    "print(fmt.format(\"切片索引4 - ls[:4]:\"), ls[:4])"
   ]
  },
  {
   "cell_type": "code",
   "execution_count": 16,
   "id": "96fcd6c6",
   "metadata": {
    "slideshow": {
     "slide_type": "subslide"
    }
   },
   "outputs": [],
   "source": [
    "# 开始前，先建立一个显示2维数组的函数\n",
    "def show_2DArr(arr_2d, description):\n",
    "    fmt = \"{:4d}\"\n",
    "    print(\"{:s}:\".format(description))\n",
    "    for iy in range(arr_2d.shape[0]):\n",
    "        for ix in range(arr_2d.shape[1]):\n",
    "            print(fmt.format(arr_2d[iy, ix]), end='')\n",
    "        print(\"\")\n",
    "    print(\"\")\n",
    "    return True"
   ]
  },
  {
   "cell_type": "code",
   "execution_count": 17,
   "id": "f2d13af5",
   "metadata": {
    "slideshow": {
     "slide_type": "subslide"
    }
   },
   "outputs": [
    {
     "name": "stdout",
     "output_type": "stream",
     "text": [
      "原始数组:\n",
      "   0   1   2   3\n",
      "  10  11  12  13\n",
      "  20  21  22  23\n",
      "\n"
     ]
    },
    {
     "data": {
      "text/plain": [
       "True"
      ]
     },
     "execution_count": 17,
     "metadata": {},
     "output_type": "execute_result"
    }
   ],
   "source": [
    "# 创建一个纬度为4x3的二维NumPy数组用于展示，多维数组方法类似。\n",
    "arr_2d = np.array([[0, 1, 2, 3], [10, 11, 12, 13], [20, 21, 22, 23]])\n",
    "# 显示原始数组\n",
    "show_2DArr(arr_2d, \"原始数组\")"
   ]
  },
  {
   "cell_type": "code",
   "execution_count": 18,
   "id": "724ff30b-32f0-4edb-8396-71b86bcd3830",
   "metadata": {
    "slideshow": {
     "slide_type": "subslide"
    }
   },
   "outputs": [
    {
     "name": "stdout",
     "output_type": "stream",
     "text": [
      "指数索引 - arr_2d[2, 1]:\n",
      " 21\n",
      "指数索引(列表) - arr_2d[[0, -1], [1, 3]]:\n",
      " [ 1 23]\n",
      "切片索引 - arr_2d[:2, 2:]:\n",
      " [[ 2  3]\n",
      " [12 13]]\n",
      "混合索引 - arr_2d[[0, -1], 1:]:\n",
      " [[ 1  2  3]\n",
      " [21 22 23]]\n"
     ]
    }
   ],
   "source": [
    "fmt = \"{:s}\\n\"\n",
    "# 指数索引，只不过现在需要指定两个纬度。\n",
    "print(fmt.format(\"指数索引 - arr_2d[2, 1]:\"), arr_2d[2, 1])\n",
    "# 指数索引现在可以是一个列表。\n",
    "print(fmt.format(\"指数索引(列表) - arr_2d[[0, -1], [1, 3]]:\"), arr_2d[[0, -1], [1, 3]])\n",
    "# 切片索引，同理\n",
    "print(fmt.format(\"切片索引 - arr_2d[:2, 2:]:\"), arr_2d[:2, 2:])\n",
    "# 混合索引\n",
    "print(fmt.format(\"混合索引 - arr_2d[[0, -1], 1:]:\"), arr_2d[[0, -1], 1:])"
   ]
  },
  {
   "cell_type": "markdown",
   "id": "4a34830f-a47e-4b4e-ab37-10f4bd1a91e4",
   "metadata": {
    "slideshow": {
     "slide_type": "subslide"
    }
   },
   "source": [
    "## ✏️练习: 下面的子数列对应的数值是多少？"
   ]
  },
  {
   "cell_type": "code",
   "execution_count": null,
   "id": "0792b059-9e88-49e3-91b2-2dfa3f493fc6",
   "metadata": {},
   "outputs": [],
   "source": [
    "print(arr_2d[-1::-1, :])\n",
    "print(arr_2d[[2, 0, 1], [3, 3, 1]])"
   ]
  },
  {
   "cell_type": "markdown",
   "id": "91a8b5e2-ca1f-4844-a46a-bfe963fb0413",
   "metadata": {},
   "source": [
    "## "
   ]
  },
  {
   "cell_type": "markdown",
   "id": "c6fe9019-3f6c-4259-9bc6-0be69d2a8175",
   "metadata": {
    "slideshow": {
     "slide_type": "subslide"
    }
   },
   "source": [
    "## 💡方法2: 条件运算"
   ]
  },
  {
   "cell_type": "code",
   "execution_count": 19,
   "id": "bc3e2875-92be-4481-8297-9eb023751d15",
   "metadata": {
    "slideshow": {
     "slide_type": "subslide"
    }
   },
   "outputs": [
    {
     "name": "stdout",
     "output_type": "stream",
     "text": [
      "原始数组:\n",
      "   0   1   2   3\n",
      "  10  11  12  13\n",
      "  20  21  22  23\n",
      "\n",
      "条件数组:\n",
      "   1   1   0   0\n",
      "   0   1   0   0\n",
      "   0   1   1   0\n",
      "\n",
      "选择结果: [ 0  1 11 21 22]\n"
     ]
    }
   ],
   "source": [
    "# 创建一个纬度为4x3的二维NumPy数组用于展示:\n",
    "arr_2d = np.array([[0, 1, 2, 3], [10, 11, 12, 13], [20, 21, 22, 23]])\n",
    "show_2DArr(arr_2d, \"原始数组\")\n",
    "\n",
    "# 创新一个相同纬度的逻辑类型矩阵:\n",
    "con_2d = np.array([[True, True, False, False], [False, True, False, False], [False, True, True, False]])\n",
    "show_2DArr(con_2d, \"条件数组\")\n",
    "\n",
    "selected_values = arr_2d[con_2d]\n",
    "print(\"选择结果:\", selected_values)"
   ]
  },
  {
   "cell_type": "code",
   "execution_count": 150,
   "id": "a107c267-e209-4f28-9a2e-06ff2fac807a",
   "metadata": {
    "slideshow": {
     "slide_type": "subslide"
    }
   },
   "outputs": [
    {
     "name": "stdout",
     "output_type": "stream",
     "text": [
      "[ 0  1  2  3 10 11 12 13]\n"
     ]
    }
   ],
   "source": [
    "# 选择符合条件的元素，例如\n",
    "print(arr_2d[arr_2d<15])"
   ]
  },
  {
   "cell_type": "markdown",
   "id": "d2a053f5-dee7-4d9a-86c5-7477f4c13e80",
   "metadata": {},
   "source": [
    "---"
   ]
  },
  {
   "cell_type": "markdown",
   "id": "4c098e42-4312-487e-8b48-dadcbf4e4a15",
   "metadata": {
    "slideshow": {
     "slide_type": "subslide"
    }
   },
   "source": [
    "## ❓可否改变多维数组的纬度"
   ]
  },
  {
   "cell_type": "markdown",
   "id": "2378e532-ccad-423f-bca7-e9f68f5abb4d",
   "metadata": {
    "slideshow": {
     "slide_type": "fragment"
    }
   },
   "source": [
    "## 💡使用NumPy内置函数:"
   ]
  },
  {
   "cell_type": "code",
   "execution_count": 185,
   "id": "b275265e-debd-4e7e-932f-7a9326579820",
   "metadata": {
    "slideshow": {
     "slide_type": "subslide"
    }
   },
   "outputs": [
    {
     "name": "stdout",
     "output_type": "stream",
     "text": [
      "原始数组:\n",
      "   0   1   2   3\n",
      "  10  11  12  13\n",
      "  20  21  22  23\n",
      "\n"
     ]
    },
    {
     "data": {
      "text/plain": [
       "True"
      ]
     },
     "execution_count": 185,
     "metadata": {},
     "output_type": "execute_result"
    }
   ],
   "source": [
    "# 一样的原始数组\n",
    "arr_2d = np.array([[0, 1, 2, 3], [10, 11, 12, 13], [20, 21, 22, 23]])\n",
    "show_2DArr(arr_2d, \"原始数组\")"
   ]
  },
  {
   "cell_type": "code",
   "execution_count": 70,
   "id": "d34865f3-d9d7-4873-a422-47f1c85a9a62",
   "metadata": {
    "slideshow": {
     "slide_type": "subslide"
    }
   },
   "outputs": [
    {
     "name": "stdout",
     "output_type": "stream",
     "text": [
      "[ 0  1  2  3 10 11 12 13 20 21 22 23]\n",
      "[ 0  1  2  3 10 11 12 13 20 21 22 23]\n"
     ]
    }
   ],
   "source": [
    "# 将数组变为1维\n",
    "arr1 = arr_2d.ravel() # ravel返回仍是原数组\n",
    "arr2 = arr_2d.flatten() # flatten返回的是原数组的复制体\n",
    "print(arr1)\n",
    "print(arr2)"
   ]
  },
  {
   "cell_type": "code",
   "execution_count": 21,
   "id": "2ad8d6d0-dd3a-41bc-b7e6-40b14fce915b",
   "metadata": {
    "slideshow": {
     "slide_type": "subslide"
    }
   },
   "outputs": [
    {
     "name": "stdout",
     "output_type": "stream",
     "text": [
      "[[[ 0  1]\n",
      "  [ 2  3]\n",
      "  [10 11]]\n",
      "\n",
      " [[12 13]\n",
      "  [20 21]\n",
      "  [22 23]]]\n",
      "\n",
      "[[ 0  1  2]\n",
      " [ 3 10 11]\n",
      " [12 13 20]\n",
      " [21 22 23]]\n"
     ]
    }
   ],
   "source": [
    "# 重新定义数组纬度\n",
    "arr3 = arr_2d.reshape((2, 3, 2)) # reshape生成新数组\n",
    "print(arr3)\n",
    "\n",
    "print(\"\")\n",
    "\n",
    "arr3.resize((4, 3)) # resize直接改变原数组\n",
    "print(arr3)"
   ]
  },
  {
   "cell_type": "code",
   "execution_count": 22,
   "id": "77fe09c5-559d-43ca-9904-81a84385c660",
   "metadata": {
    "slideshow": {
     "slide_type": "subslide"
    }
   },
   "outputs": [
    {
     "name": "stdout",
     "output_type": "stream",
     "text": [
      "[[ 0 10 20]\n",
      " [ 1 11 21]\n",
      " [ 2 12 22]\n",
      " [ 3 13 23]]\n"
     ]
    }
   ],
   "source": [
    "# 矩阵转置\n",
    "arr4 = arr_2d.T\n",
    "print(arr4)"
   ]
  },
  {
   "cell_type": "markdown",
   "id": "88b86a7b-b55c-49ef-bb7f-f7dffc82bff1",
   "metadata": {},
   "source": [
    "---"
   ]
  },
  {
   "cell_type": "markdown",
   "id": "5484d9ed-4ebc-426a-b396-2be1aec7937c",
   "metadata": {
    "slideshow": {
     "slide_type": "subslide"
    }
   },
   "source": [
    "## ❓如何读写文件(如果不会读写文件，电脑关机怎么办)"
   ]
  },
  {
   "cell_type": "markdown",
   "id": "c3407827-42b5-43a3-ba5b-625d3cae832b",
   "metadata": {
    "slideshow": {
     "slide_type": "fragment"
    }
   },
   "source": [
    "## 💡方法1: 文本文件用`numpy.savetxt()`与`numpy.loadtxt()`处理"
   ]
  },
  {
   "cell_type": "code",
   "execution_count": 186,
   "id": "865e9584-818b-4743-a244-66f7b5ecc593",
   "metadata": {
    "slideshow": {
     "slide_type": "subslide"
    }
   },
   "outputs": [
    {
     "name": "stdout",
     "output_type": "stream",
     "text": [
      "[[ 0.    17.956 24.227]\n",
      " [ 5.    17.996 24.277]\n",
      " [10.    17.996 24.233]\n",
      " [15.    17.996 24.056]\n",
      " [20.    18.099 23.525]]\n"
     ]
    }
   ],
   "source": [
    "# 以practice4作业读取海洋数据举例\n",
    "\n",
    "# 读取整个文件\n",
    "data_ocean = np.loadtxt(\"./attachment/ocean_stat.txt\", skiprows=1)\n",
    "print(data_ocean[:5, :])"
   ]
  },
  {
   "cell_type": "code",
   "execution_count": 79,
   "id": "2c1c4d31-162d-4c7f-9860-e0a59a1160cc",
   "metadata": {
    "slideshow": {
     "slide_type": "subslide"
    }
   },
   "outputs": [
    {
     "name": "stdout",
     "output_type": "stream",
     "text": [
      "[[ 0.    24.227]\n",
      " [ 5.    24.277]\n",
      " [10.    24.233]]\n"
     ]
    }
   ],
   "source": [
    "# 读取指定列\n",
    "data_ocean = np.loadtxt(\"./attachment/ocean_stat.txt\", skiprows=1, usecols=[0, 2])\n",
    "print(data_ocean[:5, :])"
   ]
  },
  {
   "cell_type": "code",
   "execution_count": 23,
   "id": "d5108275-8114-4453-963c-6a24362a82c9",
   "metadata": {
    "slideshow": {
     "slide_type": "subslide"
    }
   },
   "outputs": [],
   "source": [
    "# 将数据按格式写入文件\n",
    "# 首先，恢复成原始数据\n",
    "data_ocean = np.loadtxt(\"./attachment/ocean_stat.txt\", skiprows=1)\n",
    "\n",
    "# 写入文件\n",
    "np.savetxt(\"./attachment/ocean_newstat.txt\", data_ocean, fmt='%15.3e', delimiter=',',\n",
    "    header='{:>15s}{:>15s}{:>15s}'.format('D (m)', 'T (DEG.C)', 'S (PSU)'))"
   ]
  },
  {
   "cell_type": "markdown",
   "id": "de0b316f-6b56-4968-a31e-b414bdd5e4b0",
   "metadata": {},
   "source": [
    "## "
   ]
  },
  {
   "cell_type": "markdown",
   "id": "badbb70b-76f6-4934-8e5c-3ed530e6b093",
   "metadata": {
    "slideshow": {
     "slide_type": "subslide"
    }
   },
   "source": [
    "## 💡方法2: 直接使用NumPy对象进行读写(npy、npz格式)"
   ]
  },
  {
   "cell_type": "code",
   "execution_count": 25,
   "id": "6e6cd02a-91a0-49df-a11f-0f6d1999d6a7",
   "metadata": {
    "slideshow": {
     "slide_type": "fragment"
    }
   },
   "outputs": [
    {
     "name": "stdout",
     "output_type": "stream",
     "text": [
      "[[ 0.    17.956 24.227]\n",
      " [ 5.    17.996 24.277]\n",
      " [10.    17.996 24.233]\n",
      " [15.    17.996 24.056]\n",
      " [20.    18.099 23.525]]\n"
     ]
    }
   ],
   "source": [
    "# 以data_ocean为例，如何写入及读取NumPy对象文件。\n",
    "data_ocean = np.loadtxt(\"./attachment/ocean_stat.txt\", skiprows=1)\n",
    "\n",
    "# 写入文件\n",
    "np.save(\"./ocean_newstat.npy\", data_ocean) # npy格式文件，非文本文件，无法直接观看\n",
    "\n",
    "# 载入数据\n",
    "data_newocean = np.load(\"./attachment/ocean_newstat.npy\")\n",
    "print(data_newocean[:5, :])"
   ]
  },
  {
   "cell_type": "code",
   "execution_count": 26,
   "id": "633d871f-6487-43d5-bf04-b27c113fbd67",
   "metadata": {
    "slideshow": {
     "slide_type": "subslide"
    }
   },
   "outputs": [
    {
     "name": "stdout",
     "output_type": "stream",
     "text": [
      "[  0.   5.  10.  15.  20.  25.  30.  35.  40.  45.  50.  55.  60.  65.\n",
      "  70.  75.  80.  85.  90.  95. 100. 105. 110. 115. 120. 125. 130. 135.\n",
      " 140. 145. 150.]\n"
     ]
    }
   ],
   "source": [
    "# 万一有多个数组，使用numpy.savez()写入文件。\n",
    "# 载入原始数据\n",
    "data_ocean = np.load(\"./ocean_newstat.npy\")\n",
    "\n",
    "# 分解成三个数组\n",
    "depth = data_ocean[:, 0]\n",
    "temp = data_ocean[:, 1]\n",
    "salt = data_ocean[:, 2]\n",
    "\n",
    "# 存入npz文件\n",
    "np.savez(\"./ocean_newstat.npz\", depth=depth, temp=temp, salt=salt)\n",
    "\n",
    "# 从npz文件中读取\n",
    "data_newstat = np.load(\"./ocean_newstat.npz\")\n",
    "print(data_newstat['depth']) # 使用方法类似于字典"
   ]
  },
  {
   "cell_type": "markdown",
   "id": "556f8f7d-e9ef-4eff-8008-a383bd09e418",
   "metadata": {},
   "source": [
    "---"
   ]
  },
  {
   "cell_type": "markdown",
   "id": "301d58c2-9beb-457a-becf-6156818ec419",
   "metadata": {
    "slideshow": {
     "slide_type": "subslide"
    }
   },
   "source": [
    "## ❓NumPy支持哪些运算"
   ]
  },
  {
   "cell_type": "markdown",
   "id": "d591358c-a733-4048-bdd3-cbe95dd0e631",
   "metadata": {
    "slideshow": {
     "slide_type": "fragment"
    }
   },
   "source": [
    "## 💡基本算数运算 (+, -, *, /, //, **, %)"
   ]
  },
  {
   "cell_type": "code",
   "execution_count": 106,
   "id": "f0e1ff53-dd8e-4afd-8b2d-991cabe9a2a7",
   "metadata": {
    "slideshow": {
     "slide_type": "fragment"
    }
   },
   "outputs": [
    {
     "name": "stdout",
     "output_type": "stream",
     "text": [
      "[0. 0.]\n"
     ]
    }
   ],
   "source": [
    "data1 = np.array([1, 2])\n",
    "data2 = np.ones((2, ))\n",
    "\n",
    "print(data1 + data2)"
   ]
  },
  {
   "cell_type": "markdown",
   "id": "d737207a-7629-4ecf-8634-621a496d2212",
   "metadata": {},
   "source": [
    "## "
   ]
  },
  {
   "cell_type": "markdown",
   "id": "fe3b3345-dc1d-4989-b334-0bc8d217d087",
   "metadata": {
    "slideshow": {
     "slide_type": "subslide"
    }
   },
   "source": [
    "## 💡基础数列运算函数(`sum()`, `mean()`, `std()`, `min()`, `max()`)"
   ]
  },
  {
   "cell_type": "code",
   "execution_count": 27,
   "id": "ae431b88-bd5d-4cb5-9ae1-eddc332b3a34",
   "metadata": {
    "slideshow": {
     "slide_type": "subslide"
    }
   },
   "outputs": [],
   "source": [
    "data_ocean = np.load(\"./ocean_newstat.npy\")"
   ]
  },
  {
   "cell_type": "code",
   "execution_count": 28,
   "id": "0a776bc0-ddfa-4520-a7e4-30908cf94e6d",
   "metadata": {
    "slideshow": {
     "slide_type": "fragment"
    }
   },
   "outputs": [
    {
     "name": "stdout",
     "output_type": "stream",
     "text": [
      "3461.4872000000005\n",
      "3461.4872000000005\n"
     ]
    }
   ],
   "source": [
    "# 求和\n",
    "sum_1 = np.sum(data_ocean) # 没有任何意义(里面包含了深度，温度，盐度；而不同的数据不能直接相加)\n",
    "sum_2 = data_ocean.sum() # 一样没有任何意义\n",
    "print(sum_1)\n",
    "print(sum_2)"
   ]
  },
  {
   "cell_type": "code",
   "execution_count": 29,
   "id": "6cd267ca-e5dd-48b1-894a-5cbefb8b72cf",
   "metadata": {
    "slideshow": {
     "slide_type": "fragment"
    }
   },
   "outputs": [
    {
     "name": "stdout",
     "output_type": "stream",
     "text": [
      "[75.         19.06216129 17.59871613]\n"
     ]
    }
   ],
   "source": [
    "# 求平均值，避免平均不同的物理量，使结果有意义。\n",
    "avg = data_ocean.mean(axis=0) # axis定义和函数在哪个纬度运算\n",
    "print(avg)"
   ]
  },
  {
   "cell_type": "markdown",
   "id": "c2c9394e-c4f2-420b-aa6a-7f32658ee595",
   "metadata": {
    "slideshow": {
     "slide_type": "fragment"
    }
   },
   "source": [
    "## 🔍注: 很多运算函数均存在内置函数(e.g., `arr.sum()`)与NumPy子函数(e.g., `numpy.sum()`)两个版本。"
   ]
  },
  {
   "cell_type": "markdown",
   "id": "4dda4938-281b-4fb6-97aa-b5248365c31a",
   "metadata": {},
   "source": [
    "## "
   ]
  },
  {
   "cell_type": "markdown",
   "id": "8aa1a7fa-a61e-4ea7-babc-44681c2f23cc",
   "metadata": {
    "slideshow": {
     "slide_type": "subslide"
    }
   },
   "source": [
    "## 💡扩展数列运算函数--只有想不到，没有做不到"
   ]
  },
  {
   "cell_type": "code",
   "execution_count": 138,
   "id": "c24d8cd2-1eb5-4110-931b-14856bfd9dff",
   "metadata": {
    "slideshow": {
     "slide_type": "fragment"
    }
   },
   "outputs": [
    {
     "name": "stdout",
     "output_type": "stream",
     "text": [
      "org x: [ 1  2  3  4  5  6  7  8  9 10]\n",
      "\n",
      "square of x: [  1   4   9  16  25  36  49  64  81 100]\n",
      "\n",
      "square root of x: [1.         1.41421356 1.73205081 2.         2.23606798 2.44948974\n",
      " 2.64575131 2.82842712 3.         3.16227766]\n",
      "\n",
      "exponential of x: [2.71828183e+00 7.38905610e+00 2.00855369e+01 5.45981500e+01\n",
      " 1.48413159e+02 4.03428793e+02 1.09663316e+03 2.98095799e+03\n",
      " 8.10308393e+03 2.20264658e+04]\n",
      "\n",
      "ln of x: [0.         0.69314718 1.09861229 1.38629436 1.60943791 1.79175947\n",
      " 1.94591015 2.07944154 2.19722458 2.30258509]\n"
     ]
    }
   ],
   "source": [
    "x = np.arange(1, 11)\n",
    "print(\"org x:\", x)\n",
    "\n",
    "# 平方\n",
    "sqr = np.square(x)\n",
    "print(\"\\nsquare of x:\", sqr)\n",
    "# 平方根\n",
    "sqrt = np.sqrt(x)\n",
    "print(\"\\nsquare root of x:\", sqrt)\n",
    "# e指数\n",
    "exp = np.exp(x)\n",
    "print(\"\\nexponential of x:\", exp)\n",
    "# 对数\n",
    "log = np.log(x)\n",
    "print(\"\\nln of x:\", log)"
   ]
  },
  {
   "cell_type": "code",
   "execution_count": 152,
   "id": "785c8373-317d-4cd5-a2e5-541474043180",
   "metadata": {
    "slideshow": {
     "slide_type": "subslide"
    }
   },
   "outputs": [
    {
     "name": "stdout",
     "output_type": "stream",
     "text": [
      "[[ True False]\n",
      " [False False]]\n"
     ]
    }
   ],
   "source": [
    "# 逻辑运算, 包含logical_and(), logical_or(), logical_xor(), logical_or\n",
    "x = np.array([[True, True], [False, False]])\n",
    "y = np.array([[True, False], [False, True]])\n",
    "print(np.logical_and(x, y))"
   ]
  },
  {
   "cell_type": "code",
   "execution_count": 125,
   "id": "720fb0b1-2868-4908-a179-d6ad9810099a",
   "metadata": {
    "slideshow": {
     "slide_type": "subslide"
    }
   },
   "outputs": [
    {
     "name": "stdout",
     "output_type": "stream",
     "text": [
      "[ 0.00000000e+00  3.82683432e-01  7.07106781e-01  9.23879533e-01\n",
      "  1.00000000e+00  9.23879533e-01  7.07106781e-01  3.82683432e-01\n",
      "  1.22464680e-16 -3.82683432e-01 -7.07106781e-01 -9.23879533e-01\n",
      " -1.00000000e+00 -9.23879533e-01 -7.07106781e-01 -3.82683432e-01\n",
      " -2.44929360e-16]\n"
     ]
    }
   ],
   "source": [
    "# 三角函数\n",
    "x = np.linspace(0, 2*np.pi, 17)\n",
    "sinx = np.sin(x)\n",
    "print(sinx)\n",
    "# 还有cos(), tan(); 反三角函数arcsin(), arccos(), arctan()等"
   ]
  },
  {
   "cell_type": "code",
   "execution_count": 145,
   "id": "007136ee-8737-4390-937b-1a68ac9ee45a",
   "metadata": {
    "slideshow": {
     "slide_type": "subslide"
    }
   },
   "outputs": [
    {
     "name": "stdout",
     "output_type": "stream",
     "text": [
      "original:\n",
      " [[ 1.29086515  1.68560105 -0.73235382]\n",
      " [ 0.95801757  0.07443452  2.19704188]\n",
      " [ 0.75650273  1.10701467  0.28646796]\n",
      " [ 0.33123787 -0.81003545  1.52422321]]\n",
      "after where:\n",
      " [[1.29086515 1.68560105 0.5       ]\n",
      " [0.95801757 0.5        2.19704188]\n",
      " [0.75650273 1.10701467 0.5       ]\n",
      " [0.5        0.5        1.52422321]]\n"
     ]
    },
    {
     "data": {
      "text/plain": [
       "array([1.29086515, 1.68560105, 0.95801757, 2.19704188, 0.75650273,\n",
       "       1.10701467, 1.52422321])"
      ]
     },
     "execution_count": 145,
     "metadata": {},
     "output_type": "execute_result"
    }
   ],
   "source": [
    "# 按条件赋值\n",
    "x = np.random.randn(4, 3)\n",
    "print(\"original:\\n\", x)\n",
    "xwhere = np.where(x>=0.5, x, 0.5) # 如果>=0.5则维持原值，不然等于0.5\n",
    "print(\"after where:\\n\", xwhere)"
   ]
  },
  {
   "cell_type": "code",
   "execution_count": 146,
   "id": "1d8db26e-c735-4939-8c3e-bb6d56bd333b",
   "metadata": {
    "slideshow": {
     "slide_type": "subslide"
    }
   },
   "outputs": [
    {
     "name": "stdout",
     "output_type": "stream",
     "text": [
      "original:\n",
      " [[-1.13994206 -0.40437169 -0.16791458]\n",
      " [ 1.29360189  0.87046904 -0.36033015]\n",
      " [ 1.7005083   0.89774046 -1.95153237]\n",
      " [ 0.67260023 -1.33322445 -0.64571876]]\n",
      "indices of max:  6\n"
     ]
    }
   ],
   "source": [
    "# 定位: 寻找符合条件的元素索引指数，一般函数以arg开头\n",
    "x = np.random.randn(4, 3)\n",
    "print(\"original:\\n\", x)\n",
    "\n",
    "# 寻找最大值索引指数\n",
    "ind_max = np.argmax(x)\n",
    "print(\"indices of max: \", ind_max) #以1维数组形式展示\n",
    "\n",
    "# 同时还有argmin(), argwhere()等函数"
   ]
  },
  {
   "cell_type": "markdown",
   "id": "e4003bdf-58a0-4bf3-8af3-547a08731aee",
   "metadata": {
    "slideshow": {
     "slide_type": "subslide"
    }
   },
   "source": [
    "# 🔍函数列表: https://numpy.org/doc/stable/reference/routines.math.html"
   ]
  },
  {
   "cell_type": "markdown",
   "id": "f3363d76-0899-4508-ac7c-fd0d462d2e18",
   "metadata": {},
   "source": [
    "---"
   ]
  },
  {
   "cell_type": "markdown",
   "id": "57dc7de1-6e17-4837-b778-5a630b642b3d",
   "metadata": {
    "slideshow": {
     "slide_type": "subslide"
    }
   },
   "source": [
    "## ❓相比于纯数值类型的List, 使用NumPy有什么优势"
   ]
  },
  {
   "cell_type": "markdown",
   "id": "8c9a5e28-d1a8-4fad-ad0b-2c57d622c6f7",
   "metadata": {
    "slideshow": {
     "slide_type": "fragment"
    }
   },
   "source": [
    "## 💡\n",
    "- ### 丰富的功能\n",
    "- ### 极高的计算效率 (作业题)"
   ]
  },
  {
   "cell_type": "markdown",
   "id": "78273038-0ad7-4865-99a8-cb50cda6e655",
   "metadata": {},
   "source": [
    "---"
   ]
  },
  {
   "cell_type": "markdown",
   "id": "0ec8f119-9431-4f2a-8ce5-06874ec8e283",
   "metadata": {
    "slideshow": {
     "slide_type": "subslide"
    }
   },
   "source": [
    "## 🔍注: 为了提升计算效率，NumPy数组的赋值很多时候是不创建新数组的。\n",
    "## 这是双刃剑--要特别小心由此引发的灾难性后果!!!"
   ]
  },
  {
   "cell_type": "code",
   "execution_count": 31,
   "id": "25089788-9840-4fae-b849-0066ea671c60",
   "metadata": {
    "slideshow": {
     "slide_type": "fragment"
    }
   },
   "outputs": [],
   "source": [
    "arr_full = np.array([[0, 1, 2, 3], [10, 11, 12, 13], [20, 21, 22, 23]])\n",
    "arr_part = arr_full[1:3, :] # arr_full的第一行以及第二行"
   ]
  },
  {
   "cell_type": "code",
   "execution_count": 32,
   "id": "1f936c61-8078-4670-bfdc-e472965777e1",
   "metadata": {
    "slideshow": {
     "slide_type": "fragment"
    }
   },
   "outputs": [
    {
     "name": "stdout",
     "output_type": "stream",
     "text": [
      "arr_full:\n",
      " [[ 0  1  2  3]\n",
      " [10 11 12 13]\n",
      " [20 21 22 23]]\n",
      "arr_part:\n",
      " [[10 11 12 13]\n",
      " [20 21 22 23]]\n"
     ]
    }
   ],
   "source": [
    "print(\"arr_full:\\n\", arr_full)\n",
    "print(\"arr_part:\\n\", arr_part)"
   ]
  },
  {
   "cell_type": "code",
   "execution_count": 33,
   "id": "a187eca0-5872-4823-9aba-a33ec0298f04",
   "metadata": {
    "slideshow": {
     "slide_type": "subslide"
    }
   },
   "outputs": [
    {
     "name": "stdout",
     "output_type": "stream",
     "text": [
      "arr_full:\n",
      " [[0 1 2 3]\n",
      " [0 0 0 0]\n",
      " [0 0 0 0]]\n"
     ]
    }
   ],
   "source": [
    "arr_part[:, :] = 0\n",
    "print(\"arr_full:\\n\", arr_full)"
   ]
  },
  {
   "cell_type": "markdown",
   "id": "518580f5-79a2-4812-a391-d4eeac649a4c",
   "metadata": {
    "slideshow": {
     "slide_type": "fragment"
    }
   },
   "source": [
    "### 改变arr_part导致arr_full的值改变了。。。"
   ]
  },
  {
   "cell_type": "markdown",
   "id": "3ade936a-76a4-4325-8dd7-a22f396d3aeb",
   "metadata": {
    "slideshow": {
     "slide_type": "subslide"
    }
   },
   "source": [
    "## 🔍注: 当新数组需要与原数组独立存在时，保险起见，请使用内置函数`copy()`。"
   ]
  },
  {
   "cell_type": "code",
   "execution_count": 34,
   "id": "c0054adf-1668-405c-8a93-ae36854c352e",
   "metadata": {
    "slideshow": {
     "slide_type": "fragment"
    }
   },
   "outputs": [
    {
     "name": "stdout",
     "output_type": "stream",
     "text": [
      "arr_full:\n",
      " [[ 0  1  2  3]\n",
      " [10 11 12 13]\n",
      " [20 21 22 23]]\n"
     ]
    }
   ],
   "source": [
    "arr_full = np.array([[0, 1, 2, 3], [10, 11, 12, 13], [20, 21, 22, 23]])\n",
    "arr_part = arr_full[1:3, :].copy() # 使用copy()函数\n",
    "arr_part[:, :] = 0\n",
    "print(\"arr_full:\\n\", arr_full) # 不会改变原数组的值"
   ]
  }
 ],
 "metadata": {
  "celltoolbar": "Slideshow",
  "kernelspec": {
   "display_name": "Python 3 (ipykernel)",
   "language": "python",
   "name": "python3"
  },
  "language_info": {
   "codemirror_mode": {
    "name": "ipython",
    "version": 3
   },
   "file_extension": ".py",
   "mimetype": "text/x-python",
   "name": "python",
   "nbconvert_exporter": "python",
   "pygments_lexer": "ipython3",
   "version": "3.9.13"
  },
  "toc-autonumbering": false,
  "toc-showmarkdowntxt": false
 },
 "nbformat": 4,
 "nbformat_minor": 5
}
