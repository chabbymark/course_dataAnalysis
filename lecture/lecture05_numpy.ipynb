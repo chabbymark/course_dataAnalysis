{
 "cells": [
  {
   "cell_type": "markdown",
   "id": "aef986b5-bbb7-4589-969c-91b67a43e993",
   "metadata": {},
   "source": [
    "<h1 align=\"center\"> 海洋数据分析 第五讲 </h1>\n",
    "<h3 align=\"right\">主讲人: 陈笔澄</h3>\n",
    "<h2>目录<span class=\"tocSkip\"></span></h2>\n",
    "<div class=\"toc\">\n",
    "    <ul class=\"toc-item\">\n",
    "        <li> &nbsp;&nbsp;5.1 Python进阶知识--NumPy</li>\n",
    "    </ul>\n",
    "</div>"
   ]
  },
  {
   "cell_type": "markdown",
   "id": "6ab7bb4d-42d8-486c-bac3-8fa43f924ee9",
   "metadata": {},
   "source": [
    "## 5.1 <font size=20>NumPy <img src=\"https://numpy.org/images/logo.svg\" width=60>"
   ]
  }
 ],
 "metadata": {
  "kernelspec": {
   "display_name": "Python 3 (ipykernel)",
   "language": "python",
   "name": "python3"
  },
  "language_info": {
   "codemirror_mode": {
    "name": "ipython",
    "version": 3
   },
   "file_extension": ".py",
   "mimetype": "text/x-python",
   "name": "python",
   "nbconvert_exporter": "python",
   "pygments_lexer": "ipython3",
   "version": "3.9.13"
  }
 },
 "nbformat": 4,
 "nbformat_minor": 5
}
