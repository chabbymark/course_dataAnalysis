{
 "cells": [
  {
   "cell_type": "markdown",
   "id": "dc25ff57-074a-4a1f-a6e2-761f990a6326",
   "metadata": {
    "slideshow": {
     "slide_type": "slide"
    }
   },
   "source": [
    "<h1 align=\"center\"> 海洋数据分析 第四讲 </h1>\n",
    "<h3 align=\"right\">主讲人: 陈笔澄</h3>\n",
    "<h2>目录<span class=\"tocSkip\"></span></h2>\n",
    "<div class=\"toc\">\n",
    "    <ul class=\"toc-item\">\n",
    "        <li> &nbsp;&nbsp;4.1 Python基础知识--文件读写</li>\n",
    "    </ul>\n",
    "</div>"
   ]
  },
  {
   "cell_type": "markdown",
   "id": "f866af5b-c518-4895-b377-c598a7928596",
   "metadata": {
    "slideshow": {
     "slide_type": "subslide"
    }
   },
   "source": [
    "## 4.1 文件读写"
   ]
  },
  {
   "cell_type": "markdown",
   "id": "d2febc80-0394-4562-b9e4-915e0ce608c2",
   "metadata": {
    "slideshow": {
     "slide_type": "fragment"
    }
   },
   "source": [
    "### 到目前为止，课程还没介绍基本的文件读写"
   ]
  },
  {
   "cell_type": "markdown",
   "id": "d867f491-4422-475d-9c96-cf47d00ee265",
   "metadata": {
    "slideshow": {
     "slide_type": "fragment"
    }
   },
   "source": [
    "### 有没有觉得很奇怪？ "
   ]
  },
  {
   "cell_type": "markdown",
   "id": "8063735f-6118-45aa-bed8-99ad5474fa6c",
   "metadata": {
    "slideshow": {
     "slide_type": "fragment"
    }
   },
   "source": [
    "## <font color='red'>这是因为，由于Python第三方库(library, module)过于强大，使得我们99.9%的情况下都不会使用Python基本的文件读写功能..."
   ]
  },
  {
   "cell_type": "markdown",
   "id": "5ebbbae8-b8c8-448e-aa7b-582f006b6cec",
   "metadata": {
    "slideshow": {
     "slide_type": "fragment"
    }
   },
   "source": [
    "### 为了以防万一，还是简单介绍一下(对将来理解文件读写有用)"
   ]
  },
  {
   "cell_type": "markdown",
   "id": "fd000eb0-0022-43e3-94aa-7f2e5eec0223",
   "metadata": {
    "slideshow": {
     "slide_type": "subslide"
    }
   },
   "source": [
    "#### 范例: 打开一个文件名为\"foo.txt\"的文件，并写入相应内容。"
   ]
  },
  {
   "cell_type": "code",
   "execution_count": 14,
   "id": "99c8356c-a1a7-40a2-88cd-a9cf94b1db44",
   "metadata": {
    "slideshow": {
     "slide_type": "fragment"
    }
   },
   "outputs": [],
   "source": [
    "# Open a file\n",
    "fid = open(\"foo.txt\", \"w\")\n",
    "fid.write( \"Python is a great language.\\nYet Data Analysis course is tough!!\\n\")\n",
    "# Close opend file\n",
    "fid.close()"
   ]
  },
  {
   "cell_type": "markdown",
   "id": "6d7f3548-63ad-45e5-8677-93111e6e085b",
   "metadata": {
    "slideshow": {
     "slide_type": "subslide"
    }
   },
   "source": [
    "`fid = open(\"foo.txt\", \"w\")`<br>\n",
    "`fid`是打开的文件对象(file object)<br>\n",
    "`\"w\"`表示打开模式(mode)，`\"w\"`表示写入(write)，一般还有如下模式：\n",
    "- `\"r\"`: 读取(read)文件(默认)\n",
    "- `\"x\"`: 检测文件是否存在(exclusive)，如果存在则打开失败\n",
    "- `\"a\"`: 追加写入(append)\n",
    "- `\"b\"`: 二进制(binary)模式\n",
    "- `\"t\"`: 文本(text)模式(默认)\n",
    "- `\"+\"`: 更新(update), 用于同时读写"
   ]
  },
  {
   "cell_type": "markdown",
   "id": "ec9f81de-c6c1-47a7-85ba-2b10d3cf3875",
   "metadata": {
    "slideshow": {
     "slide_type": "fragment"
    }
   },
   "source": [
    "#### *问: `fid=open(\"foo.txt\")`是以什么模式打开文件？*"
   ]
  },
  {
   "cell_type": "markdown",
   "id": "0830afc7-d141-4602-949b-267f84de8d75",
   "metadata": {
    "slideshow": {
     "slide_type": "subslide"
    }
   },
   "source": [
    "`fid.write( \"Python is a great language.\\nYet Data Analysis course is tough!!\\n\")`<br>\n",
    "`fid.close()`<br>\n",
    "文件对象操作一般采用文件对象的内置函数，使用运算符“`.`”使用内置函数，如<br>\n",
    "- `fid.write()`: 写入文件\n",
    "- `fid.close()`: 关闭文件"
   ]
  },
  {
   "cell_type": "markdown",
   "id": "de7d9a8f-bb1c-4eeb-9887-7d2e9f831462",
   "metadata": {
    "slideshow": {
     "slide_type": "fragment"
    }
   },
   "source": [
    "#### <font color=\"red\">注：不要忘了文件打开后需要关闭(`fid.close()`)，如果文件没有关闭就退出程序，可能导致严重后果，比如<font size=10>文件没保存</font>..."
   ]
  },
  {
   "cell_type": "markdown",
   "id": "b46e9d9f-a14a-41e7-b4b3-6f863576208d",
   "metadata": {
    "slideshow": {
     "slide_type": "subslide"
    }
   },
   "source": [
    "#### 预防方法: 采用`with`语句："
   ]
  },
  {
   "cell_type": "code",
   "execution_count": 15,
   "id": "88caebf4-3f5e-45f9-979d-f03cfd7ce61c",
   "metadata": {
    "slideshow": {
     "slide_type": "fragment"
    }
   },
   "outputs": [],
   "source": [
    "# with语句在执行完块体代码后自动关闭文件\n",
    "with open(\"foo.txt\", \"a\") as fid:\n",
    "    fid.write(\"\\nThe following is appended to the first block...\\n\")\n",
    "    fid.write(\"Alway use 'with' statement if one doesn't want to lose any data!!!\")\n",
    "    fid.write(\"\\nOr be upset if such a thing happens...\")"
   ]
  },
  {
   "cell_type": "markdown",
   "id": "81905308-0308-4557-935b-3b751d696677",
   "metadata": {
    "slideshow": {
     "slide_type": "subslide"
    }
   },
   "source": [
    "#### 读取文件:\n",
    "- `read()`\n",
    "- `readlines()`\n",
    "- `readline()`"
   ]
  },
  {
   "cell_type": "code",
   "execution_count": 24,
   "id": "02d3493f-bf1e-4278-a68d-f8b665e50290",
   "metadata": {
    "slideshow": {
     "slide_type": "subslide"
    }
   },
   "outputs": [
    {
     "name": "stdout",
     "output_type": "stream",
     "text": [
      "Python is a great language.\n",
      "Yet Data Analysis course is tough!!\n",
      "\n",
      "The following is appended to the first block...\n",
      "Alway use 'with' statement if one doesn't want to lose any data!!!\n",
      "Or be upset if such a thing happens...\n"
     ]
    }
   ],
   "source": [
    "with open(\"foo.txt\", \"r\") as fid:\n",
    "    content = fid.read()\n",
    "\n",
    "print(content)"
   ]
  },
  {
   "cell_type": "markdown",
   "id": "c6ea27ad-c740-4547-ba3d-a948b7406c2e",
   "metadata": {
    "slideshow": {
     "slide_type": "fragment"
    }
   },
   "source": [
    "- `read()`函数将整个文件读取为一个字符串类型。"
   ]
  },
  {
   "cell_type": "code",
   "execution_count": 41,
   "id": "433be333-8c85-4606-85bd-1130d1ff1d9f",
   "metadata": {
    "slideshow": {
     "slide_type": "subslide"
    }
   },
   "outputs": [
    {
     "name": "stdout",
     "output_type": "stream",
     "text": [
      "['Python is a great language.\\n', 'Yet Data Analysis course is tough!!\\n', '\\n', 'The following is appended to the first block...\\n', \"Alway use 'with' statement if one doesn't want to lose any data!!!\\n\", 'Or be upset if such a thing happens...']\n"
     ]
    }
   ],
   "source": [
    "with open(\"foo.txt\", \"r\") as fid:\n",
    "    content = fid.readlines()\n",
    "\n",
    "print(content)"
   ]
  },
  {
   "cell_type": "markdown",
   "id": "60999c3d-03d8-4c48-92dc-18281bad3004",
   "metadata": {
    "slideshow": {
     "slide_type": "fragment"
    }
   },
   "source": [
    "- `readlines()`函数将整个文件读取，按照行存储为**列表**类型。"
   ]
  },
  {
   "cell_type": "code",
   "execution_count": 21,
   "id": "670936c6-b272-4608-8876-8b36601999e1",
   "metadata": {
    "slideshow": {
     "slide_type": "subslide"
    }
   },
   "outputs": [
    {
     "name": "stdout",
     "output_type": "stream",
     "text": [
      "Python is a great language.\n",
      "\n"
     ]
    }
   ],
   "source": [
    "with open(\"foo.txt\", \"r\") as fid:\n",
    "    content = fid.readline()\n",
    "\n",
    "print(content)"
   ]
  },
  {
   "cell_type": "markdown",
   "id": "ee21ea73-0162-4928-9247-582be836d17e",
   "metadata": {
    "slideshow": {
     "slide_type": "fragment"
    }
   },
   "source": [
    "- `readline()`函数仅读取一行。"
   ]
  },
  {
   "cell_type": "markdown",
   "id": "ae65e1fe-252e-4cc9-a7ec-0d13bcba4f8f",
   "metadata": {
    "slideshow": {
     "slide_type": "subslide"
    }
   },
   "source": [
    "如何多文件对象做循环，会发生什么事？"
   ]
  },
  {
   "cell_type": "code",
   "execution_count": 26,
   "id": "78c7b9e7-da22-4360-8fc0-81f3531393ad",
   "metadata": {
    "slideshow": {
     "slide_type": "fragment"
    }
   },
   "outputs": [
    {
     "name": "stdout",
     "output_type": "stream",
     "text": [
      "Python is a great language.\n",
      "Yet Data Analysis course is tough!!\n",
      "\n",
      "The following is appended to the first block...\n",
      "Alway use 'with' statement if one doesn't want to lose any data!!!\n",
      "Or be upset if such a thing happens..."
     ]
    }
   ],
   "source": [
    "with open(\"foo.txt\", \"r\") as fid:\n",
    "    for ele in fid:\n",
    "        print(ele, end=\"\")"
   ]
  },
  {
   "cell_type": "markdown",
   "id": "e8d24433-40b7-470d-91b2-7c9f40be15ba",
   "metadata": {
    "slideshow": {
     "slide_type": "fragment"
    }
   },
   "source": [
    "- 循环每次取出的对象为文件的一样"
   ]
  },
  {
   "cell_type": "markdown",
   "id": "219b4782-e684-43fa-9ba3-d33598f5f4fc",
   "metadata": {
    "slideshow": {
     "slide_type": "subslide"
    }
   },
   "source": [
    "#### 文件对象的重定位：\n",
    "- `tell()` - 范围当前文件对象指向的文件位置, 单位为\"Byte\"\n",
    "- `seek()` - 重新指定当前文件对象的位置"
   ]
  },
  {
   "cell_type": "code",
   "execution_count": 40,
   "id": "99de725b-bcc7-4312-80c9-2f231a53e422",
   "metadata": {
    "slideshow": {
     "slide_type": "fragment"
    }
   },
   "outputs": [
    {
     "name": "stdout",
     "output_type": "stream",
     "text": [
      "The file object before reading is at 0\n",
      "The file object after reading is at 218\n",
      "The file object after calling seek(0) 0\n",
      "The file object after calling seek(2) 2\n"
     ]
    }
   ],
   "source": [
    "with open(\"foo.txt\", \"r\") as fid:\n",
    "    print(\"The file object before reading is at\", fid.tell())\n",
    "    content = fid.read()\n",
    "    print(\"The file object after reading is at\", fid.tell())\n",
    "    fid.seek(0)\n",
    "    print(\"The file object after calling seek(0)\", fid.tell())\n",
    "    fid.seek(2)\n",
    "    print(\"The file object after calling seek(2)\", fid.tell())"
   ]
  },
  {
   "cell_type": "markdown",
   "id": "9ac8bebb-ca4d-4b25-a0d2-452d8d1c4487",
   "metadata": {
    "slideshow": {
     "slide_type": "subslide"
    }
   },
   "source": [
    "#### 读取的数据可以与字符串内置函数进行组合，以获取想要的信息。"
   ]
  },
  {
   "cell_type": "markdown",
   "id": "067b6f85-72e3-4d9d-b9f2-dbb33a5601d8",
   "metadata": {
    "slideshow": {
     "slide_type": "fragment"
    }
   },
   "source": [
    "#### 其中，最常用的是`split()`函数, 用于按照指定分隔符(separator)分割字符串。"
   ]
  },
  {
   "cell_type": "code",
   "execution_count": 49,
   "id": "df4be4a7-d146-4ad6-a11f-a70f40630c90",
   "metadata": {
    "slideshow": {
     "slide_type": "fragment"
    }
   },
   "outputs": [
    {
     "name": "stdout",
     "output_type": "stream",
     "text": [
      "['Python', 'is', 'a', 'great', 'language.', 'Yet', 'Data', 'Analysis', 'course', 'is', 'tough!!', 'The', 'following', 'is', 'appended', 'to', 'the', 'first', 'block...', 'Alway', 'use', \"'with'\", 'statement', 'if', 'one', \"doesn't\", 'want', 'to', 'lose', 'any', 'data!!!', 'Or', 'be', 'upset', 'if', 'such', 'a', 'thing', 'happens...']\n",
      "################################################################################\n",
      "['Python is a great language.', 'Yet Data Analysis course is tough!!', '', 'The following is appended to the first block...', \"Alway use 'with' statement if one doesn't want to lose any data!!!\", 'Or be upset if such a thing happens...']\n"
     ]
    }
   ],
   "source": [
    "with open(\"foo.txt\", \"r\") as fid:\n",
    "    content = fid.read()\n",
    "\n",
    "words = content.split()\n",
    "print(words)\n",
    "print('#'*80)\n",
    "lines = content.split('\\n')\n",
    "print(lines)"
   ]
  },
  {
   "cell_type": "markdown",
   "id": "c8f09d46",
   "metadata": {
    "slideshow": {
     "slide_type": "subslide"
    }
   },
   "source": [
    "#### 此外，字符串还有`strip()`函数可用于剥离首尾多余的空格，同样可在文件读写中使用。"
   ]
  },
  {
   "cell_type": "code",
   "execution_count": 51,
   "id": "eabb3ee9",
   "metadata": {
    "slideshow": {
     "slide_type": "fragment"
    }
   },
   "outputs": [
    {
     "name": "stdout",
     "output_type": "stream",
     "text": [
      "   Center?   \n",
      "Center?\n"
     ]
    }
   ],
   "source": [
    "string = \"   Center?   \"\n",
    "print(string)\n",
    "print(string.strip())"
   ]
  }
 ],
 "metadata": {
  "celltoolbar": "Slideshow",
  "kernelspec": {
   "display_name": "Python 3 (ipykernel)",
   "language": "python",
   "name": "python3"
  },
  "language_info": {
   "codemirror_mode": {
    "name": "ipython",
    "version": 3
   },
   "file_extension": ".py",
   "mimetype": "text/x-python",
   "name": "python",
   "nbconvert_exporter": "python",
   "pygments_lexer": "ipython3",
   "version": "3.9.13"
  }
 },
 "nbformat": 4,
 "nbformat_minor": 5
}
