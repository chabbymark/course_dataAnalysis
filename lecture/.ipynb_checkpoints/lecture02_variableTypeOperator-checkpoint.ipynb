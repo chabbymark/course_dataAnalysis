{
 "cells": [
  {
   "cell_type": "markdown",
   "id": "99669b21-1509-486c-9cd5-5c5275d72101",
   "metadata": {
    "slideshow": {
     "slide_type": "slide"
    }
   },
   "source": [
    "<h1 align=\"center\"> 海洋数据分析 第二讲 </h1>\n",
    "<h3 align=\"right\">主讲人: 陈笔澄</h3>\n",
    "<h2>目录<span class=\"tocSkip\"></span></h2>\n",
    "<div class=\"toc\">\n",
    "    <ul class=\"toc-item\">\n",
    "        <li> &nbsp;&nbsp;2.1 Python基础知识--变量</li>\n",
    "        <li> &nbsp;&nbsp;2.2 Python基础知识--数据类型 </li>\n",
    "        <li> &nbsp;&nbsp;2.3 Python基础知识--运算符 </li>\n",
    "        <li> &nbsp;&nbsp;2.4 Python基础知识--注释 </li>\n",
    "    </ul>\n",
    "</div>"
   ]
  },
  {
   "cell_type": "markdown",
   "id": "e61ac960-89bd-4584-82e7-0d2fc13ef096",
   "metadata": {
    "slideshow": {
     "slide_type": "subslide"
    }
   },
   "source": [
    "## 2.1 变量(variable)"
   ]
  },
  {
   "cell_type": "markdown",
   "id": "cbd8fe80-f746-4d2f-b610-cc3cf2a21d1f",
   "metadata": {
    "slideshow": {
     "slide_type": "fragment"
    }
   },
   "source": [
    "Python变量与编译器语言(如C语言)最大的不同在于，Python变量不需要定义类型，或者说，Python变量没有类型。"
   ]
  },
  {
   "cell_type": "code",
   "execution_count": null,
   "id": "12878335-0db4-4ce5-bc3d-65d18b6b4cc7",
   "metadata": {
    "slideshow": {
     "slide_type": "fragment"
    }
   },
   "outputs": [],
   "source": [
    "x = 1\n",
    "x = 'one'\n",
    "x = [1, 1, 1, 1, 1]"
   ]
  },
  {
   "cell_type": "markdown",
   "id": "766b3b62-ef15-4d1b-8642-e55e038ecaf1",
   "metadata": {
    "slideshow": {
     "slide_type": "subslide"
    }
   },
   "source": [
    "虽然Python变量名与字符串(string)值类似，但**变量名不是字符串**。"
   ]
  },
  {
   "cell_type": "code",
   "execution_count": null,
   "id": "0dff04fb-7a0c-41b0-8998-05c3b62627b9",
   "metadata": {
    "slideshow": {
     "slide_type": "fragment"
    }
   },
   "outputs": [],
   "source": [
    "name = 'John'\n",
    "print(name)\n",
    "print('name')"
   ]
  },
  {
   "cell_type": "markdown",
   "id": "81175e74-8d18-40e6-9626-b6a9e9da6c67",
   "metadata": {
    "slideshow": {
     "slide_type": "subslide"
    }
   },
   "source": [
    "为什么要使用变量？"
   ]
  },
  {
   "cell_type": "code",
   "execution_count": null,
   "id": "459bf04e-d635-4293-8edd-10eec282a8bd",
   "metadata": {
    "slideshow": {
     "slide_type": "fragment"
    }
   },
   "outputs": [],
   "source": [
    "from math import pi\n",
    "\n",
    "rad = 5\n",
    "edge = 5\n",
    "\n",
    "cir_cir = 2*pi * rad\n",
    "area_cir = pi * rad**2\n",
    "area_sph = 4*pi * rad**2\n",
    "vol_spr = 4/3*pi * rad**3\n",
    "\n",
    "cir_sqr = 4*edge\n",
    "area_sqr = edge**2"
   ]
  },
  {
   "cell_type": "code",
   "execution_count": null,
   "id": "5b987484-6a44-460e-86e1-28bf2ea99bd9",
   "metadata": {
    "slideshow": {
     "slide_type": "fragment"
    }
   },
   "outputs": [],
   "source": [
    "from math import pi\n",
    "\n",
    "cir_cir = 2*pi * 5\n",
    "area_cir = pi * 5**2\n",
    "area_sph = 4*pi * 5**2\n",
    "vol_spr = 4/3*pi * 5**3\n",
    "\n",
    "cir_sqr = 4*5\n",
    "area_sqr = 5*22"
   ]
  },
  {
   "cell_type": "markdown",
   "id": "980b9452-ba83-4e22-a976-e3ce9bcd34a9",
   "metadata": {
    "slideshow": {
     "slide_type": "fragment"
    }
   },
   "source": [
    "如果你需要改其中一个参量，比如圆的半径，怎么办？"
   ]
  },
  {
   "cell_type": "markdown",
   "id": "86f3ef07-0f52-4bb5-9efb-de71c6228244",
   "metadata": {
    "slideshow": {
     "slide_type": "subslide"
    }
   },
   "source": [
    "## 2.2 数据类型\n",
    "Python支持所有的基本数据类型以及多种复合数据类型"
   ]
  },
  {
   "cell_type": "markdown",
   "id": "4fc2744b-f995-48ea-8021-45abe5ffef53",
   "metadata": {
    "slideshow": {
     "slide_type": "fragment"
    }
   },
   "source": [
    "可用`type`命令查询数据类型，例如"
   ]
  },
  {
   "cell_type": "code",
   "execution_count": null,
   "id": "aeb5ff1e-88ee-485c-9699-dbb3fb4af39f",
   "metadata": {
    "slideshow": {
     "slide_type": "fragment"
    }
   },
   "outputs": [],
   "source": [
    "print(type(10))\n",
    "print(type('cat'))\n",
    "print(type([1, 3.4, 'dog', 1+3j]))"
   ]
  },
  {
   "cell_type": "markdown",
   "id": "dba43d34-1fa5-473f-aa44-d9759096d979",
   "metadata": {
    "slideshow": {
     "slide_type": "subslide"
    }
   },
   "source": [
    "### 2.1.1 基本数据类型"
   ]
  },
  {
   "cell_type": "markdown",
   "id": "903068bd-664c-456c-8c8d-b7cbc6ed58d7",
   "metadata": {
    "slideshow": {
     "slide_type": "subslide"
    }
   },
   "source": [
    "#### * **数值类型 -- 整数/浮点数/复数**"
   ]
  },
  {
   "cell_type": "markdown",
   "id": "8982315f-8aa4-410d-9f65-f9d4dac0953a",
   "metadata": {
    "slideshow": {
     "slide_type": "subslide"
    }
   },
   "source": [
    "**1. 整型(int)** \n",
    "- 带符号(正负, singed)\n",
    "- 不限长度"
   ]
  },
  {
   "cell_type": "code",
   "execution_count": null,
   "id": "3e97715c-adc4-44fe-b104-b259aea460ab",
   "metadata": {
    "slideshow": {
     "slide_type": "fragment"
    }
   },
   "outputs": [],
   "source": [
    "1 - 9"
   ]
  },
  {
   "cell_type": "code",
   "execution_count": null,
   "id": "82567e55-a007-4245-b319-f1748d774cb6",
   "metadata": {
    "slideshow": {
     "slide_type": "fragment"
    }
   },
   "outputs": [],
   "source": [
    "2 ** 10"
   ]
  },
  {
   "cell_type": "code",
   "execution_count": null,
   "id": "59e767fc-7a51-4bc1-a582-f64659c33981",
   "metadata": {
    "slideshow": {
     "slide_type": "fragment"
    }
   },
   "outputs": [],
   "source": [
    "2 ** 100000"
   ]
  },
  {
   "cell_type": "markdown",
   "id": "14f5d4a0-009c-40fd-b49c-dd515f28066a",
   "metadata": {
    "slideshow": {
     "slide_type": "subslide"
    }
   },
   "source": [
    "**2 浮点型(float)**\n",
    "- 双精度(64-bit)\n",
    "- 15分位精度\n",
    "- 最大值 ~$1.80\\times 10^{308}$"
   ]
  },
  {
   "cell_type": "markdown",
   "id": "7f90d282-79a4-4e90-a885-e111dae162f4",
   "metadata": {
    "slideshow": {
     "slide_type": "fragment"
    }
   },
   "source": [
    "两种浮点型数据格式: 普通计数法与科学计数法"
   ]
  },
  {
   "cell_type": "code",
   "execution_count": null,
   "id": "251bc713-258b-4454-bb84-d1c304f6556a",
   "metadata": {
    "slideshow": {
     "slide_type": "fragment"
    }
   },
   "outputs": [],
   "source": [
    "3.14159"
   ]
  },
  {
   "cell_type": "code",
   "execution_count": null,
   "id": "25a7d4c2-a7ec-4cfd-b4c2-ded86662c2c3",
   "metadata": {
    "slideshow": {
     "slide_type": "fragment"
    }
   },
   "outputs": [],
   "source": [
    "6.02e23"
   ]
  },
  {
   "cell_type": "markdown",
   "id": "31f61063-a4c4-4c2d-a8b0-7edb711cc787",
   "metadata": {
    "slideshow": {
     "slide_type": "subslide"
    }
   },
   "source": [
    "浮点型精度的影响"
   ]
  },
  {
   "cell_type": "code",
   "execution_count": null,
   "id": "487ffc80-6feb-4b52-9af0-56915f471511",
   "metadata": {
    "slideshow": {
     "slide_type": "fragment"
    }
   },
   "outputs": [],
   "source": [
    "print(1+1e-15)\n",
    "print(1+1e-16)"
   ]
  },
  {
   "cell_type": "code",
   "execution_count": null,
   "id": "73b1b502-58f1-4fef-9e33-fd98a194bbc7",
   "metadata": {
    "slideshow": {
     "slide_type": "fragment"
    }
   },
   "outputs": [],
   "source": [
    "print(1.79e308)\n",
    "print(1.81e308)"
   ]
  },
  {
   "cell_type": "markdown",
   "id": "9d9efc22-45ac-4bef-969d-938dd06cfdcb",
   "metadata": {
    "slideshow": {
     "slide_type": "subslide"
    }
   },
   "source": [
    "**3 复数(complex)**"
   ]
  },
  {
   "cell_type": "code",
   "execution_count": null,
   "id": "c80e13dd-ee2a-40a8-b485-fb84c98581b7",
   "metadata": {
    "slideshow": {
     "slide_type": "fragment"
    }
   },
   "outputs": [],
   "source": [
    "100+3j"
   ]
  },
  {
   "cell_type": "markdown",
   "id": "ad628812-85db-4c10-aadd-c47d4214f731",
   "metadata": {
    "slideshow": {
     "slide_type": "subslide"
    }
   },
   "source": [
    "#### * **字符串类型(str)**"
   ]
  },
  {
   "cell_type": "markdown",
   "id": "74e6226c-d283-46ba-9b2b-8af1ccbbd36a",
   "metadata": {
    "slideshow": {
     "slide_type": "fragment"
    }
   },
   "source": [
    "字符串可由单引号''或双引号\"\"定义"
   ]
  },
  {
   "cell_type": "code",
   "execution_count": null,
   "id": "eaf8dee6-117c-4eb6-a3ce-dc4e1228b1af",
   "metadata": {
    "slideshow": {
     "slide_type": "fragment"
    }
   },
   "outputs": [],
   "source": [
    "'Hello World!'"
   ]
  },
  {
   "cell_type": "code",
   "execution_count": null,
   "id": "b2b53bfa-aab9-4b4e-bf0b-aa068f7e231f",
   "metadata": {
    "slideshow": {
     "slide_type": "fragment"
    }
   },
   "outputs": [],
   "source": [
    "\"Hello World!\""
   ]
  },
  {
   "cell_type": "markdown",
   "id": "2408e913",
   "metadata": {
    "slideshow": {
     "slide_type": "subslide"
    }
   },
   "source": [
    "为什么需要两种定义方式？"
   ]
  },
  {
   "cell_type": "code",
   "execution_count": null,
   "id": "13035af6-89ab-44d9-a371-35ed2de1e12b",
   "metadata": {
    "slideshow": {
     "slide_type": "fragment"
    }
   },
   "outputs": [],
   "source": [
    "print('He said \"Good morning.\"')"
   ]
  },
  {
   "cell_type": "markdown",
   "id": "f38a2394-281b-42a3-b100-cf479479b8df",
   "metadata": {
    "slideshow": {
     "slide_type": "subslide"
    }
   },
   "source": [
    "Python支持多行字符串"
   ]
  },
  {
   "cell_type": "code",
   "execution_count": null,
   "id": "54c8afa6-bf0a-4f1c-b947-a0a3d69c0b0e",
   "metadata": {
    "slideshow": {
     "slide_type": "fragment"
    }
   },
   "outputs": [],
   "source": [
    "string = \"\"\"This is the first line.\n",
    "Second line.\n",
    "Third line.\n",
    "and we can use 'single quotes' or \"double quotes\" too.\n",
    "\"\"\"\n",
    "print(string)"
   ]
  },
  {
   "cell_type": "markdown",
   "id": "02f9c23a-f8e6-4dde-a8d6-f4b5fcb0c0f0",
   "metadata": {
    "slideshow": {
     "slide_type": "subslide"
    }
   },
   "source": [
    "Python支持转义编码(escape codes), 比如`\\n`代表换行, `\\t`代表一个tab间距。"
   ]
  },
  {
   "cell_type": "code",
   "execution_count": null,
   "id": "7d2b06a9-b20f-4b24-a173-fdcefd17dd7b",
   "metadata": {
    "slideshow": {
     "slide_type": "fragment"
    }
   },
   "outputs": [],
   "source": [
    "string = \"First line\\nSecond line\\tand a tab.\"\n",
    "print(string)"
   ]
  },
  {
   "cell_type": "markdown",
   "id": "9dbb51c4-c20d-4320-b145-de740f6d539c",
   "metadata": {
    "slideshow": {
     "slide_type": "subslide"
    }
   },
   "source": [
    "#### * **逻辑类型(boolean)**"
   ]
  },
  {
   "cell_type": "code",
   "execution_count": null,
   "id": "fc756cf7-83e0-4d70-950f-a0fdc812d4df",
   "metadata": {
    "slideshow": {
     "slide_type": "fragment"
    }
   },
   "outputs": [],
   "source": [
    "x = True\n",
    "y = False\n",
    "print(x, y)"
   ]
  },
  {
   "cell_type": "markdown",
   "id": "2c2243b4-3655-4b5b-bf9a-ad1163b4db5a",
   "metadata": {
    "slideshow": {
     "slide_type": "subslide"
    }
   },
   "source": [
    "#### * **空值(None)**"
   ]
  },
  {
   "cell_type": "markdown",
   "id": "99f03829-dc64-47f9-8f44-f3ce05333c53",
   "metadata": {
    "slideshow": {
     "slide_type": "fragment"
    }
   },
   "source": [
    "空值`None`在Python代表无"
   ]
  },
  {
   "cell_type": "code",
   "execution_count": null,
   "id": "8d26b6cb-a9c5-4b3e-846c-e0598f9ddff4",
   "metadata": {
    "slideshow": {
     "slide_type": "fragment"
    }
   },
   "outputs": [],
   "source": [
    "type(None)"
   ]
  },
  {
   "cell_type": "markdown",
   "id": "c001f3d1-09a7-4108-8691-bb6531cb5eff",
   "metadata": {
    "slideshow": {
     "slide_type": "subslide"
    }
   },
   "source": [
    "### 2.1.2 复合数据类型"
   ]
  },
  {
   "cell_type": "markdown",
   "id": "8c8dac67-e1e5-461b-be2b-3097dbf6688d",
   "metadata": {
    "slideshow": {
     "slide_type": "subslide"
    }
   },
   "source": [
    "#### * **序列类型 -- 列表/元组/域**"
   ]
  },
  {
   "cell_type": "markdown",
   "id": "f4473743-8f6a-4ef8-9567-fa3913dc695b",
   "metadata": {
    "slideshow": {
     "slide_type": "subslide"
    }
   },
   "source": [
    "**1 列表(list)**"
   ]
  },
  {
   "cell_type": "markdown",
   "id": "0a480838-50f4-4fb7-9525-8fa695c1ea40",
   "metadata": {
    "slideshow": {
     "slide_type": "fragment"
    }
   },
   "source": [
    "Python的列表(list)形式上类似于C语言的数组，但内部元素可以为任意类型。<br>\n",
    "列表形式上用`[]`定义，并用`,`分隔不同元素:"
   ]
  },
  {
   "cell_type": "code",
   "execution_count": null,
   "id": "3fc8678c-4cc5-4446-8ca5-13eaa2fe4c18",
   "metadata": {
    "slideshow": {
     "slide_type": "fragment"
    }
   },
   "outputs": [],
   "source": [
    "ls = [123, 'abc', 3.14, True, None]"
   ]
  },
  {
   "cell_type": "markdown",
   "id": "5a6b03ea-dda6-4d15-a69d-d9885acd9e2c",
   "metadata": {
    "slideshow": {
     "slide_type": "subslide"
    }
   },
   "source": [
    "为什么需要列表?"
   ]
  },
  {
   "cell_type": "markdown",
   "id": "d7d2181e-9b6e-42b8-8871-23eec0bb6639",
   "metadata": {
    "slideshow": {
     "slide_type": "fragment"
    }
   },
   "source": [
    "- 需要用不同的表达方法定义同一类元素的集合，比如同时利用文本和RGB定义颜色:"
   ]
  },
  {
   "cell_type": "code",
   "execution_count": null,
   "id": "bbc37c67-f826-4cb4-8ec2-6124328d4772",
   "metadata": {
    "slideshow": {
     "slide_type": "fragment"
    }
   },
   "outputs": [],
   "source": [
    "color = ['red', 'blue', [255, 0, 255]]"
   ]
  },
  {
   "cell_type": "markdown",
   "id": "d47844fe-2f95-478d-ba7c-6341738f4815",
   "metadata": {
    "slideshow": {
     "slide_type": "subslide"
    }
   },
   "source": [
    "- 需用存储单个对象的不同属性，比如个人信息:"
   ]
  },
  {
   "cell_type": "code",
   "execution_count": null,
   "id": "03973efe-9ca6-424f-b9a7-ad2b26838876",
   "metadata": {
    "slideshow": {
     "slide_type": "fragment"
    }
   },
   "outputs": [],
   "source": [
    "person = ['John', '2001/07/14', '370305XXXXXX']"
   ]
  },
  {
   "cell_type": "raw",
   "id": "be6f0a7e",
   "metadata": {
    "slideshow": {
     "slide_type": "subslide"
    }
   },
   "source": [
    "如何访问列表数据？"
   ]
  },
  {
   "cell_type": "markdown",
   "id": "16b15118-b8ac-487d-8381-9be4c1953b0a",
   "metadata": {
    "slideshow": {
     "slide_type": "fragment"
    }
   },
   "source": [
    "使用切片(slice)运算符`[]`访问列表元素，列表的**索引指数由0开始**"
   ]
  },
  {
   "cell_type": "code",
   "execution_count": null,
   "id": "621f72f9-acf5-46f7-aabd-83d6c2b6cde3",
   "metadata": {
    "slideshow": {
     "slide_type": "fragment"
    }
   },
   "outputs": [],
   "source": [
    "ls = [123, 'abc', 3.14, True, None]\n",
    "print(ls[0])\n",
    "print(ls[3])\n",
    "print(ls[5])"
   ]
  },
  {
   "cell_type": "markdown",
   "id": "464713de-1aea-45ec-ae5c-19b3cce23691",
   "metadata": {
    "slideshow": {
     "slide_type": "fragment"
    }
   },
   "source": [
    "*思考：为什么会报错？*"
   ]
  },
  {
   "cell_type": "markdown",
   "id": "5a3f2ab0-0d7c-4639-bc84-644cd2b9c4f5",
   "metadata": {
    "slideshow": {
     "slide_type": "subslide"
    }
   },
   "source": [
    "列表可以同时访问多个元素"
   ]
  },
  {
   "cell_type": "markdown",
   "id": "31855f1e-a291-424f-93ba-f854546325dd",
   "metadata": {
    "slideshow": {
     "slide_type": "fragment"
    }
   },
   "source": [
    "其中切片运算符`[n1:n2]`可以连续访问一段列表数据，所取得数据不包含元素`n2`"
   ]
  },
  {
   "cell_type": "code",
   "execution_count": null,
   "id": "146668c1-6443-4d86-88e8-40acb44424de",
   "metadata": {
    "slideshow": {
     "slide_type": "fragment"
    }
   },
   "outputs": [],
   "source": [
    "print(ls[1:4])\n",
    "print(ls[1], ls[2], ls[3], ls[4])"
   ]
  },
  {
   "cell_type": "markdown",
   "id": "b600214e-a61a-4edb-adb2-aa697a4f8ea0",
   "metadata": {
    "slideshow": {
     "slide_type": "subslide"
    }
   },
   "source": [
    "切片运算符`[n1:n2:d]`可以以固定间隔`d`访问列表, 且`d`可以为负数(反向访问列表)"
   ]
  },
  {
   "cell_type": "code",
   "execution_count": null,
   "id": "841bacbb-3dda-490c-b4f4-0d536f542e3d",
   "metadata": {
    "slideshow": {
     "slide_type": "fragment"
    }
   },
   "outputs": [],
   "source": [
    "print(ls[0:4:2])"
   ]
  },
  {
   "cell_type": "code",
   "execution_count": null,
   "id": "f77c9202",
   "metadata": {
    "slideshow": {
     "slide_type": "fragment"
    }
   },
   "outputs": [],
   "source": [
    "print(ls[4:0:-2])"
   ]
  },
  {
   "cell_type": "markdown",
   "id": "39f00c7c-ce18-4e4e-af5d-ea92881dcc12",
   "metadata": {
    "slideshow": {
     "slide_type": "subslide"
    }
   },
   "source": [
    "`n1`为0或者`n2`为列表最后一维时可以省略"
   ]
  },
  {
   "cell_type": "code",
   "execution_count": null,
   "id": "189b4250-9832-4c73-adb5-8edfafcf4e6a",
   "metadata": {
    "slideshow": {
     "slide_type": "fragment"
    }
   },
   "outputs": [],
   "source": [
    "print(ls[:3] == ls[0:3])\n",
    "print(ls[2:5] == ls[2:])"
   ]
  },
  {
   "cell_type": "raw",
   "id": "292e3f49",
   "metadata": {
    "slideshow": {
     "slide_type": "subslide"
    }
   },
   "source": [
    "如何改进`print(ls[0:5:1])`使代码尽可能的短？"
   ]
  },
  {
   "cell_type": "code",
   "execution_count": null,
   "id": "75392b5b",
   "metadata": {},
   "outputs": [],
   "source": [
    "print(ls)"
   ]
  },
  {
   "cell_type": "markdown",
   "id": "04e411dd-2e8b-45be-a6bf-af2ff7e9e44f",
   "metadata": {
    "slideshow": {
     "slide_type": "subslide"
    }
   },
   "source": [
    "列表索引指数`n`可以为负数，当为负数时，表示从列表末尾开始第|`n`|个元素"
   ]
  },
  {
   "cell_type": "code",
   "execution_count": null,
   "id": "e7eca6a2-b9e9-4ea2-9377-8978096c3e95",
   "metadata": {
    "slideshow": {
     "slide_type": "fragment"
    }
   },
   "outputs": [],
   "source": [
    "print(ls[-1]==ls[4])\n",
    "print(ls[-2]==ls[3])\n",
    "print(ls[:4]==ls[0:-1])"
   ]
  },
  {
   "cell_type": "markdown",
   "id": "04860de1",
   "metadata": {
    "slideshow": {
     "slide_type": "fragment"
    }
   },
   "source": [
    "当`ls = [123, 'abc', 3.14, True, None]`时，执行`print(ls[-2:0:-2])`会获得什么？"
   ]
  },
  {
   "cell_type": "code",
   "execution_count": null,
   "id": "0083a93b",
   "metadata": {},
   "outputs": [],
   "source": [
    "print(ls[-2:0:-2])"
   ]
  },
  {
   "cell_type": "markdown",
   "id": "55e655cf-960c-4ad3-8551-841ca95b4758",
   "metadata": {
    "slideshow": {
     "slide_type": "subslide"
    }
   },
   "source": [
    "列表元素值可以改变"
   ]
  },
  {
   "cell_type": "code",
   "execution_count": null,
   "id": "2fa063e0-e98b-4183-b259-08ba155e6488",
   "metadata": {
    "slideshow": {
     "slide_type": "fragment"
    }
   },
   "outputs": [],
   "source": [
    "print(ls[1])\n",
    "ls[1] = 'def'\n",
    "print(ls[1])"
   ]
  },
  {
   "cell_type": "markdown",
   "id": "dc074b8d-4de0-4e96-9d69-bf9193cd9b04",
   "metadata": {
    "slideshow": {
     "slide_type": "subslide"
    }
   },
   "source": [
    "**2 元组(tuple)**"
   ]
  },
  {
   "cell_type": "markdown",
   "id": "8f0372a8-43d0-4192-8d85-66d4c3222938",
   "metadata": {
    "slideshow": {
     "slide_type": "fragment"
    }
   },
   "source": [
    "元组(tuple)形式上与操作上与列表类似，用`()`定义"
   ]
  },
  {
   "cell_type": "code",
   "execution_count": null,
   "id": "e6d5da79-57b7-4167-9d3e-ed327a92a540",
   "metadata": {
    "slideshow": {
     "slide_type": "fragment"
    }
   },
   "outputs": [],
   "source": [
    "tp = (123, 'abc', 3.14, True, None)"
   ]
  },
  {
   "cell_type": "markdown",
   "id": "cfda4623-977b-4bd1-aa4d-22d4435b5e78",
   "metadata": {
    "slideshow": {
     "slide_type": "subslide"
    }
   },
   "source": [
    "**但元组元素不可更改**"
   ]
  },
  {
   "cell_type": "code",
   "execution_count": null,
   "id": "d93745c3-0cd6-40a4-9fcf-6ffca7bfcda4",
   "metadata": {
    "slideshow": {
     "slide_type": "fragment"
    }
   },
   "outputs": [],
   "source": [
    "tp[2] = 'def'"
   ]
  },
  {
   "cell_type": "markdown",
   "id": "6312e97c-2226-430b-8a92-90967f884961",
   "metadata": {
    "slideshow": {
     "slide_type": "fragment"
    }
   },
   "source": [
    "元组适用于**逻辑上**不可变更数值的数据类型，比如"
   ]
  },
  {
   "cell_type": "code",
   "execution_count": null,
   "id": "762c2d8e-520c-4df9-a9c3-d30ebb79cf10",
   "metadata": {
    "slideshow": {
     "slide_type": "fragment"
    }
   },
   "outputs": [],
   "source": [
    "red = (255, 0, 0)\n",
    "blue = (0, 0, 255)\n",
    "pink = (255, 153, 153)"
   ]
  },
  {
   "cell_type": "markdown",
   "id": "dd98074e-ef2a-41b6-9a11-e9e67c439cb2",
   "metadata": {
    "slideshow": {
     "slide_type": "subslide"
    }
   },
   "source": [
    "**3 域(range)**"
   ]
  },
  {
   "cell_type": "markdown",
   "id": "91056b01-5c7f-46a5-adf0-ab408e45bc39",
   "metadata": {
    "slideshow": {
     "slide_type": "fragment"
    }
   },
   "source": [
    "域(range)数据主要用于定义整数型等差数列，但并不对每个元素进行储存，一般用于for循环的循环范围。"
   ]
  },
  {
   "cell_type": "markdown",
   "id": "e2c9dfdb-3fe9-42fb-8c18-eefb374d83c8",
   "metadata": {
    "slideshow": {
     "slide_type": "subslide"
    }
   },
   "source": [
    "域的定义方法有三种: `range(n)`, `range(n1, n2)`, `range(n1, n2, d)`"
   ]
  },
  {
   "cell_type": "code",
   "execution_count": null,
   "id": "d7f93c4e-8e87-4ced-9362-0fd7429232da",
   "metadata": {
    "slideshow": {
     "slide_type": "fragment"
    }
   },
   "outputs": [],
   "source": [
    "r1 = range(10) # 输入参数为(n)位时，元素默认从0开始, n-1结束，且公差为1\n",
    "r2 = range(1, 9) # 输入参数为(n1, n2)时，数列由n1开始，n2-1结束，且公差为1\n",
    "r3 = range(2, 8, 2) # 输入参数为(n1, n2, d)时，数列由n1开始，n2-1结束，且公差为d\n",
    "print(r1)\n",
    "print(r2)\n",
    "print(r3)\n",
    "print(r1[3])"
   ]
  },
  {
   "cell_type": "code",
   "execution_count": null,
   "id": "9afe8d05-1631-472c-bada-4beda834ede5",
   "metadata": {
    "slideshow": {
     "slide_type": "subslide"
    }
   },
   "outputs": [],
   "source": [
    "sum = 0\n",
    "for ele in range(1, 101):\n",
    "    sum += ele\n",
    "print(sum)"
   ]
  },
  {
   "cell_type": "markdown",
   "id": "51898df2-b546-4a83-86fd-a0719ddea5b1",
   "metadata": {
    "slideshow": {
     "slide_type": "subslide"
    }
   },
   "source": [
    "#### * **集合类型(set)**"
   ]
  },
  {
   "cell_type": "markdown",
   "id": "c0e73b15-440b-4db1-ba7a-bfa1436e4b2a",
   "metadata": {
    "slideshow": {
     "slide_type": "fragment"
    }
   },
   "source": [
    "采用`{}`定义，重复元素只计算一次，类似于数学集合的概念。"
   ]
  },
  {
   "cell_type": "code",
   "execution_count": null,
   "id": "f00893c5-e37e-4eda-ab23-79e3c4fb609b",
   "metadata": {
    "slideshow": {
     "slide_type": "fragment"
    }
   },
   "outputs": [],
   "source": [
    "st = {123, 'abc', 3.14, True, None, 123, 'abc'}\n",
    "print(st)"
   ]
  },
  {
   "cell_type": "markdown",
   "id": "9f7f8d57-195c-41a0-9e53-db69c91a8be7",
   "metadata": {
    "slideshow": {
     "slide_type": "subslide"
    }
   },
   "source": [
    "#### * **映射类型 -- 字典(dict)**"
   ]
  },
  {
   "cell_type": "markdown",
   "id": "d453f0a4",
   "metadata": {
    "slideshow": {
     "slide_type": "fragment"
    }
   },
   "source": [
    "字典(dict)与集合一样均采用`{}`定义，但需要指明映射关系(键 &rarr; 值, key &rarr; value)。"
   ]
  },
  {
   "cell_type": "markdown",
   "id": "22ca5b6e-f17e-43fe-abdc-e50313072e56",
   "metadata": {
    "slideshow": {
     "slide_type": "fragment"
    }
   },
   "source": [
    "## 字典与集合完全不同的数据类型。"
   ]
  },
  {
   "cell_type": "markdown",
   "id": "d3ff6237-8fce-4cea-b865-38a5ddda13b8",
   "metadata": {
    "slideshow": {
     "slide_type": "subslide"
    }
   },
   "source": [
    "字典单个元素的(key &rarr; value)映射类型由`:`定义，例如`'name': 'John'`。"
   ]
  },
  {
   "cell_type": "code",
   "execution_count": null,
   "id": "87501a76",
   "metadata": {
    "slideshow": {
     "slide_type": "fragment"
    }
   },
   "outputs": [],
   "source": [
    "dt = {'one': 1, 'two': 2}\n",
    "print(dt)"
   ]
  },
  {
   "cell_type": "markdown",
   "id": "a72a605d",
   "metadata": {
    "slideshow": {
     "slide_type": "subslide"
    }
   },
   "source": [
    "为什么要使用字典？"
   ]
  },
  {
   "cell_type": "code",
   "execution_count": null,
   "id": "cd284378",
   "metadata": {
    "slideshow": {
     "slide_type": "fragment"
    }
   },
   "outputs": [],
   "source": [
    "person_list = ['John', '2001/07/14', '370305XXXXXX']"
   ]
  },
  {
   "cell_type": "code",
   "execution_count": null,
   "id": "18b59ea5-9864-4955-bbc0-63e231f20fa0",
   "metadata": {
    "slideshow": {
     "slide_type": "fragment"
    }
   },
   "outputs": [],
   "source": [
    "person_dict = {'name': 'John', 'birth': '2001/07/14', 'ID': '370305XXXXXX'}"
   ]
  },
  {
   "cell_type": "markdown",
   "id": "f7db2bde-a5fc-48a3-950e-1958e6f2b2ce",
   "metadata": {
    "slideshow": {
     "slide_type": "fragment"
    }
   },
   "source": [
    "**字典只能采用键(key)进行访问**"
   ]
  },
  {
   "cell_type": "code",
   "execution_count": null,
   "id": "447571ad-cdf7-4fb7-8a3f-334bae6e5bac",
   "metadata": {
    "slideshow": {
     "slide_type": "fragment"
    }
   },
   "outputs": [],
   "source": [
    "person_dict = {'name': 'John', 'birth': '2001/07/14', 'ID': '370305XXXXXX'}\n",
    "print(person_dict['birth'])"
   ]
  },
  {
   "cell_type": "code",
   "execution_count": null,
   "id": "d702ff0c-d51e-4fa7-98e6-86fe8fb046db",
   "metadata": {
    "slideshow": {
     "slide_type": "fragment"
    }
   },
   "outputs": [],
   "source": [
    "print(person_dict[1])"
   ]
  },
  {
   "cell_type": "markdown",
   "id": "2ce04963-583d-491f-8fb2-7568e8b847ae",
   "metadata": {
    "slideshow": {
     "slide_type": "subslide"
    }
   },
   "source": [
    "## 2.3 运算符 (Operator)"
   ]
  },
  {
   "cell_type": "markdown",
   "id": "5507d032-6875-4ae7-8c69-73de42ccc211",
   "metadata": {
    "slideshow": {
     "slide_type": "subslide"
    }
   },
   "source": [
    "### 2.3.1 算术运算符 (arithmetic operator)"
   ]
  },
  {
   "cell_type": "markdown",
   "id": "104b96f7-9144-4770-8763-43f4964d5c8e",
   "metadata": {
    "slideshow": {
     "slide_type": "fragment"
    }
   },
   "source": [
    "运算符|名称|描述|示例\n",
    ":----|:----|:----|:----\n",
    "`+`|加法(addition)|左右两个数相加|`x+y`\n",
    "`-`|减法(subtraction)|左数减右数|`x-y`\n",
    "`*`|乘法(multiplication)|左右两个数相乘|`x*y`\n",
    "`/`|除法(division)|左数除以右数|`x/y`\n",
    "`**`|乘方(exponent)|乘方运算，左数为底，右数为指数|`x**y`\n",
    "`%`|求余(modulus)|左数除以右数的余数|`x%y`\n",
    "`//`|向下整除(floor)|左数除以右数并向下取整|`x//y`"
   ]
  },
  {
   "cell_type": "markdown",
   "id": "774913ed-a988-4e19-82cb-7b3215ab213e",
   "metadata": {
    "slideshow": {
     "slide_type": "subslide"
    }
   },
   "source": [
    "### 2.3.2 赋值运算符 (assignment operator)"
   ]
  },
  {
   "cell_type": "markdown",
   "id": "22b4c97d-3d8b-4403-a359-6e90ed714fcf",
   "metadata": {
    "slideshow": {
     "slide_type": "fragment"
    }
   },
   "source": [
    "运算符|描述|示例\n",
    ":----|:----|:----\n",
    "`=`|将右值赋给左变量|`x=y`, `x=a+b`\n",
    "`+=`|将左值加上右值，然后把结果赋给左变量|`x+=y`等效于`x=x+y`\n",
    "`-=`|将左值减去右值，然后把结果赋给左变量|`x-=y`等效于`x=x-y`\n",
    "`*=`|将左值乘以右值，然后把结果赋给左变量|`x*=y`等效于`x=x*y`\n",
    "`/=`|将左值除以右值，然后把结果赋给左变量|`x/=y`等效于`x=x/y`\n",
    "`**=`|将左值与右值做乘方运算，然后把结果赋给左变量|`x**=y`等效于`x=x**y`\n",
    "`%=`|将左值与右值做求余，然后把结果赋给左变量|`x%=y`等效于`x=x%y`\n",
    "`//=`|将左值与右值做除法取整，然后把结果赋给左变量|`x//=y`等效于`x=x//y`"
   ]
  },
  {
   "cell_type": "markdown",
   "id": "201f58a7-af35-4a85-9520-c69e258e3e27",
   "metadata": {
    "slideshow": {
     "slide_type": "subslide"
    }
   },
   "source": [
    "### 2.3.3 比较运算符 (comparison operator)"
   ]
  },
  {
   "cell_type": "markdown",
   "id": "e788b199-8a53-4908-865c-316828379264",
   "metadata": {
    "slideshow": {
     "slide_type": "fragment"
    }
   },
   "source": [
    "根据要求比较左右两个值，返回真(`True`)或假(`False`)。"
   ]
  },
  {
   "cell_type": "markdown",
   "id": "40c69733-8935-44ac-b5d1-4b286bc6740d",
   "metadata": {
    "slideshow": {
     "slide_type": "fragment"
    }
   },
   "source": [
    "运算符|描述|示例\n",
    ":----|:----|:----\n",
    "`==`|比较左值与右值是否相等|`x==y`\n",
    "`!=`|比较左值与右值是否不等|`x!=y`\n",
    "`>`|比较左值是否大于右值|`x>y`\n",
    "`<`|比较左值是否小于右值|`x<y`\n",
    "`>=`|比较左值是否大于等于右值|`x>=y`\n",
    "`<=`|比较左值是否小于等于右值|`x<=y`"
   ]
  },
  {
   "cell_type": "markdown",
   "id": "0c6ec6f3-ed5e-45a8-ac5a-4ad323c627c9",
   "metadata": {
    "slideshow": {
     "slide_type": "fragment"
    }
   },
   "source": [
    "注: **'`==`'不是'`=`'!!!**"
   ]
  },
  {
   "cell_type": "markdown",
   "id": "3d3fcd18-561e-442e-b764-4cbf23463706",
   "metadata": {
    "slideshow": {
     "slide_type": "subslide"
    }
   },
   "source": [
    "### 2.3.4逻辑运算符 (logical operator)"
   ]
  },
  {
   "cell_type": "markdown",
   "id": "db321365-b33a-416a-a208-e53cab31381a",
   "metadata": {
    "slideshow": {
     "slide_type": "fragment"
    }
   },
   "source": [
    "运算符|描述|示例\n",
    ":----|:----|:----\n",
    "`and`|两边为真结果为真|`x and y`\n",
    "`or`|只要有一边为真结果为真|`x or y`\n",
    "`not`|反转逻辑值|`not x`"
   ]
  },
  {
   "cell_type": "markdown",
   "id": "a4613ad6-5991-4aee-b641-baecb2cf4f4c",
   "metadata": {
    "slideshow": {
     "slide_type": "subslide"
    }
   },
   "source": [
    "### 2.3.5 身份运算符 (identity operator)"
   ]
  },
  {
   "cell_type": "markdown",
   "id": "79f27972-e7fa-4d16-99af-bb608fe0fa76",
   "metadata": {
    "slideshow": {
     "slide_type": "fragment"
    }
   },
   "source": [
    "运算符|描述|示例\n",
    ":----|:----|:----\n",
    "`is`|比较左右两个变量是否指向同一目标|`x is y`\n",
    "`is not`|比较左右两个变量是否不是指向同一目标|`x is not y`"
   ]
  },
  {
   "cell_type": "code",
   "execution_count": null,
   "id": "2d79c421-773b-4fac-b132-845ff46f8363",
   "metadata": {
    "slideshow": {
     "slide_type": "subslide"
    }
   },
   "outputs": [],
   "source": [
    "a = 50\n",
    "b = 50\n",
    "print('Equality: ', a==b)\n",
    "print('Identity: ', a is b)"
   ]
  },
  {
   "cell_type": "code",
   "execution_count": null,
   "id": "a7fce097-4df3-40c8-8869-d59951edbf26",
   "metadata": {
    "slideshow": {
     "slide_type": "fragment"
    }
   },
   "outputs": [],
   "source": [
    "a = 500\n",
    "b = 500\n",
    "print('Equality: ', a==b)\n",
    "print('Identity: ', a is b)"
   ]
  },
  {
   "cell_type": "markdown",
   "id": "522ae60f-7220-4280-94b3-42f8cc86577a",
   "metadata": {
    "slideshow": {
     "slide_type": "subslide"
    }
   },
   "source": [
    "**身份运算符比较的是两个变量在系统中的内存位置，而非数值。**"
   ]
  },
  {
   "cell_type": "markdown",
   "id": "0a40a420-9370-4327-9697-e12cd084b1da",
   "metadata": {
    "slideshow": {
     "slide_type": "fragment"
    }
   },
   "source": [
    "Python对于小整数[-5, 256]会存储于固定内存区域。"
   ]
  },
  {
   "cell_type": "markdown",
   "id": "db2e5ec9-f86a-4d90-9500-e418d34d18b6",
   "metadata": {
    "slideshow": {
     "slide_type": "subslide"
    }
   },
   "source": [
    "可以用函数`id`判断变量指向的内存的位置"
   ]
  },
  {
   "cell_type": "code",
   "execution_count": null,
   "id": "3f2ed341-6253-462e-a0fe-1c1e5af617ea",
   "metadata": {
    "slideshow": {
     "slide_type": "fragment"
    }
   },
   "outputs": [],
   "source": [
    "a = 50\n",
    "b = 50\n",
    "print(\"The ID of a is\", id(a))\n",
    "print(\"The ID of b is\", id(b))"
   ]
  },
  {
   "cell_type": "code",
   "execution_count": null,
   "id": "a7e4aa6f-b74d-471c-9230-97ecf20c51df",
   "metadata": {
    "slideshow": {
     "slide_type": "fragment"
    }
   },
   "outputs": [],
   "source": [
    "a = 5000\n",
    "b = 5000\n",
    "print(\"The ID of a is\", id(a))\n",
    "print(\"The ID of b is\", id(b))"
   ]
  },
  {
   "cell_type": "markdown",
   "id": "194a2c1b-6020-42a7-93f6-87d8a892328c",
   "metadata": {
    "slideshow": {
     "slide_type": "subslide"
    }
   },
   "source": [
    "## 2.4 注释 (Comment)"
   ]
  },
  {
   "cell_type": "markdown",
   "id": "251e9743-dded-42c1-bfbc-6dcd9cda064f",
   "metadata": {
    "slideshow": {
     "slide_type": "fragment"
    }
   },
   "source": [
    "注释(comment)是Python脚本中解释性语句。在执行Python代码时，注释不执行。"
   ]
  },
  {
   "cell_type": "markdown",
   "id": "2efe6d97-0bb8-45e6-8e0c-dbf5d03813b8",
   "metadata": {
    "slideshow": {
     "slide_type": "fragment"
    }
   },
   "source": [
    "在行内的注释以`#`起始，到行末自动结束"
   ]
  },
  {
   "cell_type": "code",
   "execution_count": null,
   "id": "d762d5bf-bc3d-4029-a208-415e4d573e8d",
   "metadata": {
    "slideshow": {
     "slide_type": "subslide"
    }
   },
   "outputs": [],
   "source": [
    "from math import pi\n",
    "\n",
    "r = 10 # radius\n",
    "s = pi * r ** 2 # area of a circle\n",
    "print(s)"
   ]
  },
  {
   "cell_type": "markdown",
   "id": "0d87513e-79e5-410a-9759-d8d692847f7f",
   "metadata": {
    "slideshow": {
     "slide_type": "subslide"
    }
   },
   "source": [
    "段落注释可采用 `'''comment'''`或者`\"\"\"comment\"\"\"`的形式。"
   ]
  },
  {
   "cell_type": "code",
   "execution_count": null,
   "id": "6f7de0fc-2927-47bc-85e4-12a33296c1d3",
   "metadata": {
    "slideshow": {
     "slide_type": "fragment"
    }
   },
   "outputs": [],
   "source": [
    "'''\n",
    "The progrom gives the area of a circle\n",
    "The user should assign the radius at the first line\n",
    "'''\n",
    "\n",
    "\"\"\"\n",
    "This is the second comment context.\n",
    "This just shows that this format works too.\n",
    "\"\"\"\n",
    "\n",
    "r = 5\n",
    "s = pi * r ** 2\n",
    "print(s)"
   ]
  },
  {
   "attachments": {
    "8a2edfde-8921-4478-88d7-da31ed393743.png": {
     "image/png": "[encoded data removed]"
    }
   },
   "cell_type": "markdown",
   "id": "d8c8e6d9-b3ec-45cf-bf3f-928068243628",
   "metadata": {
    "slideshow": {
     "slide_type": "subslide"
    }
   },
   "source": [
    "在Jupyter notebook的文件中，还可以使用Markdown进行注释。该行就是采用Markdown方式编写。<br>\n",
    "要使用Markdown,只需将notebook的cell属性改为Markdown:<br>\n",
    "![image.png](attachment:8a2edfde-8921-4478-88d7-da31ed393743.png)"
   ]
  },
  {
   "cell_type": "markdown",
   "id": "b7713a91-8568-4679-a413-eeb2f6c7f36b",
   "metadata": {
    "slideshow": {
     "slide_type": "subslide"
    }
   },
   "source": [
    "**<font size=20>注释代码的必要性: 人的记忆是不可靠的!!!**"
   ]
  },
  {
   "cell_type": "markdown",
   "id": "2eca5577-b739-4f56-8bd2-7a4ebb831c2d",
   "metadata": {
    "slideshow": {
     "slide_type": "fragment"
    }
   },
   "source": [
    "注: **从这次作业开始，以后代码需要有注释**,注释内容包含\n",
    "1. 程序总体情况：代码编写者、联系方式(邮件)、编写日期、代码功能、修改历史\n",
    "2. 重要区块功能说明\n",
    "3. 重要变量功能说明<br>"
   ]
  },
  {
   "cell_type": "markdown",
   "id": "f2931c56-7d80-48b5-99a5-59fa75e02d8e",
   "metadata": {
    "slideshow": {
     "slide_type": "fragment"
    }
   },
   "source": [
    "同时注意，不要过渡注释，例如\n",
    "1. 注释每一行\n",
    "2. 注释每一个变量"
   ]
  }
 ],
 "metadata": {
  "celltoolbar": "Slideshow",
  "kernelspec": {
   "display_name": "Python 3 (ipykernel)",
   "language": "python",
   "name": "python3"
  },
  "language_info": {
   "codemirror_mode": {
    "name": "ipython",
    "version": 3
   },
   "file_extension": ".py",
   "mimetype": "text/x-python",
   "name": "python",
   "nbconvert_exporter": "python",
   "pygments_lexer": "ipython3",
   "version": "3.9.7"
  },
  "toc-autonumbering": false
 },
 "nbformat": 4,
 "nbformat_minor": 5
}
