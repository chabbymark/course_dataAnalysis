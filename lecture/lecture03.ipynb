{
 "cells": [
  {
   "cell_type": "markdown",
   "id": "737f3133-f92b-4fa2-a0fb-b5f73f300bd3",
   "metadata": {},
   "source": [
    "<h1 align=\"center\"> 海洋数据分析 第三讲 </h1>\n",
    "<h3 align=\"right\">主讲人: 陈笔澄</h3>\n",
    "<h2>目录<span class=\"tocSkip\"></span></h2>\n",
    "<div class=\"toc\">\n",
    "    <ul class=\"toc-item\">\n",
    "        <li> &nbsp;&nbsp;3.1 Python基础知识--块(block)语法</li>\n",
    "        <li> &nbsp;&nbsp;3.2 Python基础知识--条件语句if </li>\n",
    "        <li> &nbsp;&nbsp;3.3 Python基础知识--循环语句for, while </li>\n",
    "        <li> &nbsp;&nbsp;3.4 Python基础知识--转移语句break, continue, pass </li>\n",
    "    </ul>\n",
    "</div>"
   ]
  },
  {
   "cell_type": "markdown",
   "id": "93a1fcf2-0acc-42e5-966f-ddf66094242a",
   "metadata": {},
   "source": [
    "## 3.1 块(block)语法"
   ]
  },
  {
   "cell_type": "markdown",
   "id": "b2b49bc6-6334-4647-8059-4ddd767f7b14",
   "metadata": {},
   "source": [
    "什么是“块”？"
   ]
  },
  {
   "cell_type": "code",
   "execution_count": 13,
   "id": "9b883c5e-1eff-48c9-84c2-93f8e25d5e26",
   "metadata": {},
   "outputs": [
    {
     "name": "stdout",
     "output_type": "stream",
     "text": [
      "The current step: 1 ; The current sum: 1\n",
      "The current step: 2 ; The current sum: 3\n",
      "The current step: 3 ; The current sum: 6\n",
      "The current step: 4 ; The current sum: 10\n",
      "The current step: 5 ; The current sum: 15\n",
      "The current step: 6 ; The current sum: 21\n",
      "The current step: 7 ; The current sum: 28\n",
      "The current step: 8 ; The current sum: 36\n",
      "The current step: 9 ; The current sum: 45\n",
      "The current step: 10 ; The current sum: 55\n",
      "The total sum is 55\n",
      "Emma is a female.\n"
     ]
    }
   ],
   "source": [
    "add = 0\n",
    "for ind in range(1, 11):\n",
    "    add += ind\n",
    "    print(\"The current step:\", ind,\"; The current sum:\", add)\n",
    "\n",
    "print(\"The total sum is\", add)\n",
    "\n",
    "person = {\"name\": \"Emma\", \"gender\": \"female\", \"ID\": \"31259\"}\n",
    "if person[\"gender\"] == \"male\":\n",
    "    print(person[\"name\"], \"is a male.\")\n",
    "else:\n",
    "    print(person[\"name\"], \"is a female.\" )"
   ]
  },
  {
   "cell_type": "markdown",
   "id": "0d42540d-7d23-48d6-9bf6-0b205b35ba3e",
   "metadata": {},
   "source": [
    "在这里，我们即将学习的`for`语句与`if`语句内的代码分别属于各自的代码块(block)。"
   ]
  },
  {
   "cell_type": "markdown",
   "id": "3c8ba15a-3840-46c0-a82b-23742592edf9",
   "metadata": {},
   "source": [
    "块(block) - 一段共同执行的代码组成的单元。常见代码块为流程控制语句(control flow, 例如`for` 循环)、模块(module, 例如`numpy`、`math`), 函数(function, 例如`len()`)以及类(class, 没有例如，以后学到再说= =)"
   ]
  },
  {
   "cell_type": "markdown",
   "id": "d15c658e-7506-4f2f-aa5c-49615b396bc7",
   "metadata": {},
   "source": [
    "在Python中，代码块使用冒号`:`与**缩进(indent)定义**，默认缩进为四格。代码块**可嵌套**，例如:"
   ]
  },
  {
   "cell_type": "code",
   "execution_count": null,
   "id": "f068bbc1-a32d-4dff-ac38-56fd0b80816d",
   "metadata": {},
   "outputs": [],
   "source": [
    "add = 0\n",
    "for ind1 in range(1,11): # 第一层\n",
    "    for ind2 in range(1,11): # 第二层\n",
    "        add += 1\n",
    "        print(\"The current sum:\", add)\n",
    "\n",
    "print(\"The total sum:\", add)"
   ]
  },
  {
   "cell_type": "markdown",
   "id": "be31c04a-16ee-4b06-aab1-226060633c15",
   "metadata": {},
   "source": [
    "注: c语言的块语法是怎样的？"
   ]
  },
  {
   "cell_type": "markdown",
   "id": "2a6912e0-99bd-4570-9013-e0933698794f",
   "metadata": {},
   "source": [
    "`int add, ind;`<br>\n",
    "`add=0;`<br>\n",
    "`for(ind=1; ind<=10; ind++)`<br>\n",
    "`{`<br>\n",
    "`...`<br>\n",
    "`}`"
   ]
  },
  {
   "cell_type": "markdown",
   "id": "9faf5f5b-9386-4e3e-be16-e1e42ee8c02f",
   "metadata": {},
   "source": [
    "c语言使用大括号`{}`定义代码块，且与缩进无关。"
   ]
  },
  {
   "cell_type": "markdown",
   "id": "a242134b-a313-41b3-9439-4e294fa07e85",
   "metadata": {},
   "source": [
    "今天学习的块为**流控制语句**，包含`if`、`for`、`while`等"
   ]
  },
  {
   "cell_type": "markdown",
   "id": "07920693-4014-4112-a3e6-13081ca6bb32",
   "metadata": {},
   "source": [
    "## 3.2 条件语句`if` (conditional statement)"
   ]
  },
  {
   "cell_type": "markdown",
   "id": "235dabf9-2fb1-4ad3-b1e0-8e92ebabf924",
   "metadata": {},
   "source": [
    "语法:"
   ]
  },
  {
   "cell_type": "markdown",
   "id": "adfd1179-fd64-480c-95c8-d0ea0e48b198",
   "metadata": {},
   "source": [
    "`if <condition-1>:`<br>\n",
    "`    <statement 1>`<br>\n",
    "`elif <condition-2>:`<br>\n",
    "`    <statement 2>`<br>\n",
    "`elif <condition-3>:`<br>\n",
    "`    <statement 3>`<br>\n",
    "`    ...`<br>\n",
    "`else:`<br>\n",
    "`    <statement>`"
   ]
  },
  {
   "cell_type": "markdown",
   "id": "b15efc60-291b-4b86-914a-d64a5980a157",
   "metadata": {},
   "source": [
    "其中`elif`与`else`可省略。"
   ]
  },
  {
   "cell_type": "markdown",
   "id": "ba8d41a4-0c04-4ac4-8f65-97304502c8a6",
   "metadata": {},
   "source": [
    "*练习: 编写一个小程序，给定一个整数，判断给定整数是否被3整除或者余数是否为1或2，并打印相应结果。*"
   ]
  },
  {
   "cell_type": "code",
   "execution_count": null,
   "id": "6339f10e-466f-45e9-8f1a-0aa5003e6de2",
   "metadata": {},
   "outputs": [],
   "source": []
  },
  {
   "cell_type": "markdown",
   "id": "684625ef-32db-4575-80e8-6b1351ec4358",
   "metadata": {},
   "source": [
    "## 3.2 循环语句 (loop statement)"
   ]
  },
  {
   "cell_type": "markdown",
   "id": "708a8c2c-e317-4d32-8398-96df6cae2844",
   "metadata": {},
   "source": [
    "### 3.2.1 `for`循环"
   ]
  },
  {
   "cell_type": "markdown",
   "id": "af0c1feb-383f-4c8d-a496-69973807baa1",
   "metadata": {},
   "source": [
    "语法:"
   ]
  },
  {
   "cell_type": "markdown",
   "id": "490391b4-dd5d-46dd-b25c-d2e1df7c05ca",
   "metadata": {},
   "source": [
    "`for <element> in <sequence>:`<br>\n",
    "`    <statement>`"
   ]
  },
  {
   "cell_type": "markdown",
   "id": "12370756-52b0-4ee7-9ccf-4f9905a96d0d",
   "metadata": {},
   "source": [
    "例如"
   ]
  },
  {
   "cell_type": "code",
   "execution_count": 9,
   "id": "4ff0f917-dd81-4506-8e92-db5cdd9762c4",
   "metadata": {},
   "outputs": [
    {
     "name": "stdout",
     "output_type": "stream",
     "text": [
      "The sum from 1 to 100 is 5050\n"
     ]
    }
   ],
   "source": [
    "add = 0\n",
    "num_s = 1\n",
    "num_e = 100\n",
    "\n",
    "for ind in range(num_s, num_e+1):\n",
    "    add += ind\n",
    "\n",
    "print(\"The sum from\", num_s, \"to\", num_e, \"is\", add)"
   ]
  },
  {
   "cell_type": "markdown",
   "id": "5f097f6e-6387-4815-97a0-04e7aa58d667",
   "metadata": {},
   "source": [
    "到目前为止，`for`的功能还跟c语言类似。"
   ]
  },
  {
   "cell_type": "markdown",
   "id": "c2512f74-200b-4de2-bc52-8dec5b8c9a70",
   "metadata": {},
   "source": [
    "**事实上， `for`语句的<sequence>可以为任意序列类型或类序列数据，如列表、元组、集合等**"
   ]
  },
  {
   "cell_type": "code",
   "execution_count": 12,
   "id": "c83ff818-5507-46c7-a541-96ab35f57880",
   "metadata": {},
   "outputs": [
    {
     "name": "stdout",
     "output_type": "stream",
     "text": [
      "The current color is red\n",
      "The current color is green\n",
      "The current color is blue\n"
     ]
    }
   ],
   "source": [
    "colors = [\"red\", \"green\", \"blue\"]\n",
    "for color in colors:\n",
    "    print(\"The current color is\", color)"
   ]
  },
  {
   "cell_type": "code",
   "execution_count": 19,
   "id": "28103206-40a9-4d0b-b9b0-66606e2fdbad",
   "metadata": {},
   "outputs": [
    {
     "name": "stdout",
     "output_type": "stream",
     "text": [
      "The current color is red\n",
      "The current color is green\n",
      "The current color is blue\n"
     ]
    }
   ],
   "source": [
    "colors = {\"color1\":\"red\", \"color2\":\"green\", \"color3\":\"blue\"} # 如果是字典，for取出来的是什么？\n",
    "for color in colors:\n",
    "    print(\"The current color is\", colors[color])"
   ]
  },
  {
   "cell_type": "markdown",
   "id": "9344d8fd-dff2-420d-a747-51f4af7e8187",
   "metadata": {},
   "source": [
    "*练习:还记得上期作业中“显示列表中每个人的详细信息，信息显示必须符合人类用语习惯吗”，用`for`语句与格式化函数对代码进行重塑*"
   ]
  },
  {
   "cell_type": "code",
   "execution_count": 18,
   "id": "172c7136-c79b-4b46-89e9-be51a3a40523",
   "metadata": {},
   "outputs": [],
   "source": [
    "person1 = {\"name\": \"张三\", \"gender\": \"男\", \"age\":\"20\", \"ID\":\"370705\"}\n",
    "person2 = {\"name\": \"李四\", \"gender\": \"女\", \"age\":\"21\", \"ID\":\"370706\"}\n",
    "person3 = {\"name\": \"王五\", \"gender\": \"男\", \"age\":\"20\", \"ID\":\"370707\"}\n",
    "\n"
   ]
  },
  {
   "cell_type": "code",
   "execution_count": null,
   "id": "e6a833b8-3fde-481a-a4f9-e781799a02ab",
   "metadata": {},
   "outputs": [],
   "source": []
  },
  {
   "cell_type": "markdown",
   "id": "28e40637-4e4e-433c-8a5d-c6340cdce338",
   "metadata": {},
   "source": [
    "### 3.2.1 `while` 循环"
   ]
  },
  {
   "cell_type": "markdown",
   "id": "a53eea3b-50e2-4e2b-8d94-a916dc4fc250",
   "metadata": {},
   "source": [
    "语法:"
   ]
  },
  {
   "cell_type": "markdown",
   "id": "5c24d09a-1c55-4f09-a780-8ec491a39c47",
   "metadata": {},
   "source": [
    "`while <condition>:`<br>\n",
    "`    <statement>`"
   ]
  },
  {
   "cell_type": "code",
   "execution_count": 3,
   "id": "34049115-87ad-48b3-bb67-2348ceb3709c",
   "metadata": {},
   "outputs": [
    {
     "name": "stdout",
     "output_type": "stream",
     "text": [
      "Sum of the first 100 number is: 5050\n"
     ]
    }
   ],
   "source": [
    "num = 100\n",
    "add = 0\n",
    "ind = 1\n",
    "while ind<= num:\n",
    "    add = add + ind\n",
    "    ind += 1\n",
    "print(\"Sum of the first\", num, \"number is:\", add)"
   ]
  },
  {
   "cell_type": "markdown",
   "id": "ee5533ba-4221-4f83-8fe6-bfed3d5e2bf9",
   "metadata": {},
   "source": [
    "## 3.3 转移语句(transfer statement)"
   ]
  },
  {
   "cell_type": "markdown",
   "id": "53be7a36-f704-4507-9688-c0d4a5ca0e0a",
   "metadata": {},
   "source": [
    "### 3.3.1 break "
   ]
  },
  {
   "cell_type": "markdown",
   "id": "de181492-dedb-4749-8d64-3ec869a2686f",
   "metadata": {},
   "source": [
    "`break`语句用来结束当前的`for`或者`while`循环体, 且可以使用`else`语句。"
   ]
  },
  {
   "cell_type": "code",
   "execution_count": 6,
   "id": "f9ecdc07-90c0-4c81-9e53-1a67a8cccb09",
   "metadata": {},
   "outputs": [
    {
     "name": "stdout",
     "output_type": "stream",
     "text": [
      "2 is a prime number\n",
      "3 is a prime number\n",
      "4 equals 2 * 2\n",
      "5 is a prime number\n",
      "6 equals 2 * 3\n",
      "7 is a prime number\n",
      "8 equals 2 * 4\n",
      "9 equals 3 * 3\n"
     ]
    }
   ],
   "source": [
    "# 寻找10以内的质数\n",
    "for n in range(2, 10):\n",
    "    for x in range(2, n):\n",
    "        if n % x == 0:\n",
    "            print(n, 'equals', x, '*', n//x)\n",
    "            break\n",
    "    else:\n",
    "        print(n, 'is a prime number')"
   ]
  },
  {
   "cell_type": "markdown",
   "id": "128c2a18-a347-465b-b8e9-e1d1bf4b89cd",
   "metadata": {},
   "source": [
    "### 3.3.2 continue"
   ]
  },
  {
   "cell_type": "markdown",
   "id": "03728818-16bf-41ae-ad2b-4e8cc2bb79df",
   "metadata": {},
   "source": [
    "`continue`语句直接进入下一个循环。"
   ]
  },
  {
   "cell_type": "code",
   "execution_count": 7,
   "id": "42546c4b-bd7b-4437-a4b8-baede6a0f0cd",
   "metadata": {},
   "outputs": [
    {
     "name": "stdout",
     "output_type": "stream",
     "text": [
      "Found an odd number 1\n",
      "Found an odd number 3\n",
      "Found an odd number 5\n",
      "Found an odd number 7\n"
     ]
    }
   ],
   "source": [
    "for ind in range(n):\n",
    "    if ind%2==0:\n",
    "        continue\n",
    "    else:\n",
    "        print(\"Found an odd number\", ind)"
   ]
  },
  {
   "cell_type": "markdown",
   "id": "e2542cf9-ba86-40fd-b607-70749576f6e7",
   "metadata": {},
   "source": [
    "### 3.3.3 pass"
   ]
  },
  {
   "cell_type": "markdown",
   "id": "92352cc9-28c3-4af1-a47f-a6d22d6083be",
   "metadata": {},
   "source": [
    "`pass`语句主要用于测试，保持语法的正确性但不做任何事。"
   ]
  },
  {
   "cell_type": "code",
   "execution_count": 8,
   "id": "8017c355-d0e7-40c9-ad1c-65eab60d3b59",
   "metadata": {},
   "outputs": [],
   "source": [
    "for ind in range(n):\n",
    "    pass"
   ]
  }
 ],
 "metadata": {
  "kernelspec": {
   "display_name": "Python 3 (ipykernel)",
   "language": "python",
   "name": "python3"
  },
  "language_info": {
   "codemirror_mode": {
    "name": "ipython",
    "version": 3
   },
   "file_extension": ".py",
   "mimetype": "text/x-python",
   "name": "python",
   "nbconvert_exporter": "python",
   "pygments_lexer": "ipython3",
   "version": "3.9.7"
  }
 },
 "nbformat": 4,
 "nbformat_minor": 5
}
