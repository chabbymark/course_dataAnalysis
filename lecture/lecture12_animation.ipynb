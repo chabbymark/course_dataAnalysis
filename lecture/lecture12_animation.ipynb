{
 "cells": [
  {
   "cell_type": "markdown",
   "id": "77c18812-0c39-444d-9928-577dc4149003",
   "metadata": {
    "slideshow": {
     "slide_type": "slide"
    }
   },
   "source": [
    "<h1 align=\"center\"> 海洋数据分析 第十二讲</h1>\n",
    "<h3 align=\"right\">主讲人: 陈笔澄</h3>\n",
    "<h2>目录<span class=\"tocSkip\"></span></h2>\n",
    "\n",
    "- ## [制作动画准备--FFmpeg](#sec:ffmpeg)\n",
    "- ## [动画制作流程--matplotlib.animation](#sec:step)"
   ]
  },
  {
   "cell_type": "markdown",
   "id": "19571ab4-c697-45ed-8c88-20f8ec1838cf",
   "metadata": {
    "slideshow": {
     "slide_type": "subslide"
    }
   },
   "source": [
    "## 动画学习目的:\n",
    "- ### <font  color=\"gray\">数据获取 数据分析</font> <font size=20>成果展示</font>\n",
    "- ### 使用更为形象的方式展示成果\n",
    "- ### 加强对自然现象的理解\n",
    "\n",
    "## 帮助链接: \n",
    "- ### Animation官方网站: https://matplotlib.org/stable/api/animation_api.html#\n",
    "- ### FFmpeg官方网站: https://ffmpeg.org"
   ]
  },
  {
   "cell_type": "markdown",
   "id": "ef50a6e3-5223-4f9b-a467-aa52437547bc",
   "metadata": {},
   "source": [
    "---\n",
    "---"
   ]
  },
  {
   "cell_type": "markdown",
   "id": "ade0db1d-d532-471c-b6bc-d3d9ac56c3bc",
   "metadata": {},
   "source": [
    "## "
   ]
  },
  {
   "cell_type": "markdown",
   "id": "6444dc78-78da-40a0-80bc-a410b9e61a47",
   "metadata": {
    "slideshow": {
     "slide_type": "subslide"
    }
   },
   "source": [
    "---\n",
    "---"
   ]
  },
  {
   "cell_type": "markdown",
   "id": "7d28ea0d-0a3a-4580-a159-e5fd10e1d7a0",
   "metadata": {},
   "source": [
    "## 🗂 <a id = \"sec:ffmpeg\"> 制作动画准备--FFmpeg"
   ]
  },
  {
   "cell_type": "markdown",
   "id": "9311d7a3-892a-4ff5-a37f-7566e5deddb2",
   "metadata": {},
   "source": [
    "---"
   ]
  },
  {
   "cell_type": "markdown",
   "id": "4440daf1-9143-4323-92f0-b40074b23a20",
   "metadata": {
    "slideshow": {
     "slide_type": "subslide"
    }
   },
   "source": [
    "## ❓ FFmpeg"
   ]
  },
  {
   "cell_type": "markdown",
   "id": "d657d6b6-232e-4e1c-b562-4d8d817b232d",
   "metadata": {
    "slideshow": {
     "slide_type": "fragment"
    }
   },
   "source": [
    "## 💡 FFmpeg是一种多媒体处理套件"
   ]
  },
  {
   "cell_type": "markdown",
   "id": "9ec0e021-cec5-46fe-8900-d941cb5fe536",
   "metadata": {
    "slideshow": {
     "slide_type": "fragment"
    }
   },
   "source": [
    "- ### 具备解译、编码、转义、过滤各种视频格式"
   ]
  },
  {
   "cell_type": "markdown",
   "id": "5a34c35c-3a44-4627-b5a3-24c9c1143bf3",
   "metadata": {
    "slideshow": {
     "slide_type": "fragment"
    }
   },
   "source": [
    "- ### 多平台支持，如windows, Mac OS, Linux"
   ]
  },
  {
   "cell_type": "markdown",
   "id": "20bfcecb-3ab7-4e33-8389-edbea0151ce3",
   "metadata": {},
   "source": [
    "---"
   ]
  },
  {
   "cell_type": "markdown",
   "id": "a452d925-5556-4118-8f8a-b7e40e5bee3f",
   "metadata": {
    "slideshow": {
     "slide_type": "subslide"
    }
   },
   "source": [
    "## ？ 如何安装"
   ]
  },
  {
   "cell_type": "markdown",
   "id": "b981bb86-ab5b-4c73-afe8-6035eb308d7c",
   "metadata": {
    "slideshow": {
     "slide_type": "fragment"
    }
   },
   "source": [
    "## 💡 Anaconda UI界面下直接安装"
   ]
  },
  {
   "cell_type": "markdown",
   "id": "bfd7b618-4bb6-4f7c-9363-b2493f76a690",
   "metadata": {
    "slideshow": {
     "slide_type": "fragment"
    }
   },
   "source": [
    "## 💡 Anaconda命令行下输入`conda install -c conda-forge ffmpeg`"
   ]
  },
  {
   "cell_type": "markdown",
   "id": "6c15f8c7-632c-4c4f-b247-9b6debaf59d4",
   "metadata": {},
   "source": [
    "---\n",
    "---"
   ]
  },
  {
   "cell_type": "markdown",
   "id": "98a967a2-2d4a-4875-8345-0c832e1bc166",
   "metadata": {},
   "source": [
    "## "
   ]
  },
  {
   "cell_type": "markdown",
   "id": "fe3e80a2-8e76-4330-9d30-d708b462f32c",
   "metadata": {},
   "source": [
    "---\n",
    "---"
   ]
  },
  {
   "cell_type": "markdown",
   "id": "1b479244-0d87-4f9a-b06f-bcd17efb3979",
   "metadata": {
    "slideshow": {
     "slide_type": "subslide"
    }
   },
   "source": [
    "## 🗂 <a id = \"sec:step\"> 动画制作流程--matplotlib.animation"
   ]
  },
  {
   "cell_type": "markdown",
   "id": "74d17023-356a-4d90-82ea-b47e07d84a8e",
   "metadata": {},
   "source": [
    "---"
   ]
  },
  {
   "cell_type": "markdown",
   "id": "b571790f-c28f-4236-b9f7-fe09dacc9c38",
   "metadata": {
    "slideshow": {
     "slide_type": "subslide"
    }
   },
   "source": [
    "## ❓ 动画片是怎么制作的"
   ]
  },
  {
   "cell_type": "markdown",
   "id": "e2b10344-a47e-48ce-bd93-485b22e321ce",
   "metadata": {
    "slideshow": {
     "slide_type": "fragment"
    }
   },
   "source": [
    "## 💡 是用一帧一帧的图像连续播放得来的"
   ]
  },
  {
   "cell_type": "markdown",
   "id": "85b61bbe-448f-4bfb-a71f-196b532bb753",
   "metadata": {
    "slideshow": {
     "slide_type": "fragment"
    }
   },
   "source": [
    "## 💡 我们制作动画也一样\n",
    "- ### 前置能力: 使用Matplotlib前置能力 ✔️\n",
    "- ### 本讲内容: 将所画的图逐帧拼接 🤔"
   ]
  },
  {
   "cell_type": "markdown",
   "id": "5e728f25-272c-4a93-a22f-a3c8dbe4f7a8",
   "metadata": {},
   "source": [
    "---"
   ]
  },
  {
   "cell_type": "markdown",
   "id": "6cae8547-7f24-4251-a077-048cda0e4625",
   "metadata": {
    "slideshow": {
     "slide_type": "subslide"
    }
   },
   "source": [
    "## ✏️ 首先我们回到如何画一张海洋上层朗缪尔湍流上"
   ]
  },
  {
   "cell_type": "markdown",
   "id": "8caa6548-4bfb-4e56-ad6f-e232a6c0f8c5",
   "metadata": {
    "slideshow": {
     "slide_type": "subslide"
    }
   },
   "source": [
    "### 前置工作"
   ]
  },
  {
   "cell_type": "code",
   "execution_count": null,
   "id": "80eb9bfc-57c2-4ab6-a2fa-32eb44a01c2b",
   "metadata": {
    "slideshow": {
     "slide_type": "subslide"
    }
   },
   "outputs": [],
   "source": [
    "## 模块\n",
    "import matplotlib as mpl \n",
    "import matplotlib.pyplot as plt \n",
    "import matplotlib.colors as colors\n",
    "from matplotlib import cm\n",
    "from matplotlib.ticker import MultipleLocator\n",
    "from matplotlib import animation\n",
    "import numpy as np\n",
    "from IPython.display import HTML\n",
    "\n",
    "## 自定义变量\n",
    "# 文件\n",
    "fn = \"./attachment/w_cross.npz\"\n",
    "\n",
    "# 图片\n",
    "margin = dict(left=0.1, right=0.95, bottom=0.1, top=0.98,\n",
    "              hspace=0.1, wspace=0.1)\n",
    "levels_w = np.linspace(-2, 2, 21)\n",
    "cmap_w = cm.get_cmap(\"RdYlBu_r\")\n",
    "xspacing = 100\n",
    "yspacing = 100\n",
    "zspacing = 25"
   ]
  },
  {
   "cell_type": "markdown",
   "id": "9d5d4f2f-a628-479a-a824-4121d8f1d640",
   "metadata": {},
   "source": [
    "## "
   ]
  },
  {
   "cell_type": "markdown",
   "id": "e1444138-ccfa-4e22-850d-f855425fcab8",
   "metadata": {
    "slideshow": {
     "slide_type": "subslide"
    }
   },
   "source": [
    "### 数据获取\n",
    "- ### 受同学们启发，使用了将字符串作为变量名的特殊技术"
   ]
  },
  {
   "cell_type": "code",
   "execution_count": null,
   "id": "3b196107-e7b6-4869-ba8b-d4bd62ca87e2",
   "metadata": {
    "slideshow": {
     "slide_type": "fragment"
    }
   },
   "outputs": [],
   "source": [
    "## 读取数据\n",
    "data = np.load(fn)\n",
    "keys = list(data.keys())\n",
    "print(\"Keys in the dataset:\", keys)\n",
    "\n",
    "for key in keys:\n",
    "    vars()[key] = data[key]"
   ]
  },
  {
   "cell_type": "code",
   "execution_count": null,
   "id": "b33f667f-7d33-4ebb-b718-44684b3b6905",
   "metadata": {
    "slideshow": {
     "slide_type": "-"
    }
   },
   "outputs": [],
   "source": [
    "## 如vars()函数使用字符串‘dx’创建了了变量dx\n",
    "print(\"dx = \", dx)"
   ]
  },
  {
   "cell_type": "markdown",
   "id": "220f7198-447d-42ed-b6a1-135ebc368fc2",
   "metadata": {},
   "source": [
    "## "
   ]
  },
  {
   "cell_type": "markdown",
   "id": "32f9212b-f16a-430a-9a76-58d5990ecefb",
   "metadata": {
    "slideshow": {
     "slide_type": "subslide"
    }
   },
   "source": [
    "### 数据处理"
   ]
  },
  {
   "cell_type": "code",
   "execution_count": null,
   "id": "c21de8bb-a518-4b9b-8e22-7b3c19b6ea9d",
   "metadata": {},
   "outputs": [],
   "source": [
    "## 创建坐标\n",
    "x1d = np.arange(dx/2, lx, dx)\n",
    "y1d = np.arange(dy/2, ly, dy)\n",
    "z1d = np.arange(0, -lz, -dz)"
   ]
  },
  {
   "cell_type": "markdown",
   "id": "0454abc8-126b-40ed-beca-09d0f6d6b0d5",
   "metadata": {},
   "source": [
    "## "
   ]
  },
  {
   "cell_type": "markdown",
   "id": "699193db-e8ea-4c81-b8fa-0c72eb9856fc",
   "metadata": {
    "slideshow": {
     "slide_type": "subslide"
    }
   },
   "source": [
    "### 成果展示"
   ]
  },
  {
   "cell_type": "code",
   "execution_count": null,
   "id": "2a0092f8-101c-41b3-8821-f4e5173e42ea",
   "metadata": {
    "slideshow": {
     "slide_type": "fragment"
    }
   },
   "outputs": [],
   "source": [
    "# 每一帧的画布信息\n",
    "ifig = 0\n",
    "fig = plt.figure(ifig, figsize=[8, 8])\n",
    "gs = fig.add_gridspec(2, 2, width_ratios=(2, 1), height_ratios=(2, 1),\n",
    "    **margin)\n",
    "xmaxLocator = MultipleLocator(xspacing)\n",
    "ymaxLocator = MultipleLocator(yspacing)\n",
    "zmaxLocator = MultipleLocator(zspacing)\n",
    "xlims = (0, lx)\n",
    "ylims = (0, ly)\n",
    "zlims = (-lz, 0)\n",
    "\n",
    "# 将第一个时刻的垂直运动w作为示意图\n",
    "it = 0\n",
    "        \n",
    "# w 水平截面图\n",
    "ax = fig.add_subplot(gs[0, 0])\n",
    "ax.set_aspect('equal')\n",
    "\n",
    "cax = ax.contourf(x1d, y1d, w_xy[it, :, :],\n",
    "    levels=levels_w, cmap=cmap_w, extend='both')\n",
    "\n",
    "# 格式调整\n",
    "ax.set_ylabel('y (m)')\n",
    "ax.set_xticklabels([])\n",
    "ax.xaxis.set_major_locator(xmaxLocator)\n",
    "ax.yaxis.set_major_locator(ymaxLocator)\n",
    "ax.set_xlim(xlims)\n",
    "ax.set_ylim(ylims)\n",
    "\n",
    "\n",
    "\n",
    "## w xz截面图\n",
    "ax = fig.add_subplot(gs[1, 0])\n",
    "ax.set_aspect(1.666)\n",
    "\n",
    "ax.contourf(x1d, z1d, w_xz[it, :-1, :],\n",
    "    levels=levels_w, cmap=cmap_w, extend='both')\n",
    "\n",
    "# 格式调整\n",
    "ax.set_xlabel('x (m)')\n",
    "ax.set_ylabel('z (m)')\n",
    "ax.xaxis.set_major_locator(xmaxLocator)\n",
    "ax.yaxis.set_major_locator(zmaxLocator)\n",
    "ax.set_xlim(xlims)\n",
    "ax.set_ylim(zlims)\n",
    "\n",
    "\n",
    "\n",
    "## w数据yz截面\n",
    "ax = fig.add_subplot(gs[0, 1])\n",
    "ax.set_aspect(0.6)\n",
    "ax.contourf(z1d, y1d, w_yz[it, :-1, :].T,\n",
    "    levels=levels_w, cmap=cmap_w, extend='both')\n",
    "\n",
    "# 格式调整\n",
    "ax.set_xlabel('z (m)')\n",
    "ax.set_yticklabels([])\n",
    "ax.xaxis.set_major_locator(zmaxLocator)\n",
    "ax.yaxis.set_major_locator(ymaxLocator)\n",
    "ax.set_xlim(zlims)\n",
    "ax.set_ylim(ylims)\n",
    "ax.invert_xaxis()\n",
    "\n",
    "# 添加色阶图\n",
    "cbar_ax = plt.axes([0.82, 0.1, 0.05, 0.2])\n",
    "cbar = fig.colorbar(cax, cax=cbar_ax, ticks=levels_w[::5])\n",
    "cbar.ax.set_title(\"$w/u_*$\", ha='center', va='bottom')\n",
    "\n",
    "# plt.show()"
   ]
  },
  {
   "cell_type": "markdown",
   "id": "88c6ce80-8deb-4cb8-a9ca-8b37fa276fd1",
   "metadata": {},
   "source": [
    "---"
   ]
  },
  {
   "cell_type": "markdown",
   "id": "e61de5e5-39f3-4f73-9a1a-1282dbc3869b",
   "metadata": {
    "slideshow": {
     "slide_type": "subslide"
    }
   },
   "source": [
    "## ✏️ 下一步: 重新成果展示，将实现循环作画并保存为动画的每一帧"
   ]
  },
  {
   "cell_type": "markdown",
   "id": "4006877c-5dae-4101-839a-45d2c74f1b33",
   "metadata": {
    "slideshow": {
     "slide_type": "fragment"
    }
   },
   "source": [
    "### 1. 需要创建视频写入器\n",
    "- ### 使用`matplotlib.animation`底下的这个多媒体套件(`XXXWriter`)\n",
    "- ### 这里展示的是FFMpeg(FFMpegWriter)套件的使用，常用套件还包含Pillow, HTML等"
   ]
  },
  {
   "cell_type": "code",
   "execution_count": null,
   "id": "a8b68635-4be7-4a9f-b39a-9afe457e31cb",
   "metadata": {
    "slideshow": {
     "slide_type": "fragment"
    }
   },
   "outputs": [],
   "source": [
    "# 视频基本信息\n",
    "FFMpegWriter = animation.FFMpegWriter # 制作视频的工具FFMpeg\n",
    "metadata = dict() # 可以定义一些视频元数据，比如作者，视频名称\n",
    "writer = FFMpegWriter(fps=10, metadata=metadata,\n",
    "    extra_args=['-vcodec', 'h264', '-pix_fmt', 'yuv420p'])"
   ]
  },
  {
   "cell_type": "markdown",
   "id": "66dfa04c-7757-4944-bebd-b91fd907e52c",
   "metadata": {
    "slideshow": {
     "slide_type": "fragment"
    }
   },
   "source": [
    "- ### fps: frame per-second, 帧率(每一秒播放多少帧)\n",
    "- ### metadata: 多媒体元数据(如作者，视频名称等)，可根据需求随意定义\n",
    "- ### vcodec: 编码格式，常用h264\n",
    "- ### pix_fmt: 像素格式，常用yuv420p"
   ]
  },
  {
   "cell_type": "markdown",
   "id": "7662ee2b-273e-4eb6-beb6-93b86a8cf367",
   "metadata": {},
   "source": [
    "## "
   ]
  },
  {
   "cell_type": "markdown",
   "id": "2632f112-4715-409f-b976-fc202ddef1e9",
   "metadata": {
    "slideshow": {
     "slide_type": "subslide"
    }
   },
   "source": [
    "### 2. 保存每一帧图像\n",
    "- ### 使用`writer.saving(figure, video_name, dpi)`打开视频写入器\n",
    "- ### 使用`writer.grab_frame()`抓取每一帧图像"
   ]
  },
  {
   "cell_type": "code",
   "execution_count": null,
   "id": "d9fa1480-f472-44d4-adea-33088268f32c",
   "metadata": {
    "slideshow": {
     "slide_type": "fragment"
    }
   },
   "outputs": [],
   "source": [
    "# 每一帧的画布信息\n",
    "ifig = 0\n",
    "fig = plt.figure(ifig, figsize=[8, 8])\n",
    "gs = fig.add_gridspec(2, 2, width_ratios=(2, 1), height_ratios=(2, 1),\n",
    "    **margin)\n",
    "xmaxLocator = MultipleLocator(xspacing)\n",
    "ymaxLocator = MultipleLocator(yspacing)\n",
    "zmaxLocator = MultipleLocator(zspacing)\n",
    "xlims = (0, lx)\n",
    "ylims = (0, ly)\n",
    "zlims = (-lz, 0)\n",
    "\n",
    "# 逐帧作图\n",
    "fn_ani = './image/langmuirTurbulence_2D.mp4'\n",
    "### 第一个重要步骤: 打开视频写入器\n",
    "with writer.saving(fig, fn_ani, 100):\n",
    "### 第一个重要步骤: 打开视频写入器\n",
    "    for it in range(nt):\n",
    "        time = it*dt\n",
    "        print(\"Creating the frame {:2d}... \".format(it+1))\n",
    "        \n",
    "        # w 水平截面图\n",
    "        ax = fig.add_subplot(gs[0, 0])\n",
    "        ax.set_aspect('equal')\n",
    "\n",
    "        cax = ax.contourf(x1d, y1d, w_xy[it, :, :],\n",
    "            levels=levels_w, cmap=cmap_w, extend='both')\n",
    "\n",
    "        # 格式调整\n",
    "        ax.set_ylabel('y (m)')\n",
    "        ax.set_xticklabels([])\n",
    "        ax.xaxis.set_major_locator(xmaxLocator)\n",
    "        ax.yaxis.set_major_locator(ymaxLocator) \n",
    "        ax.set_xlim(xlims) \n",
    "        ax.set_ylim(ylims)\n",
    "\n",
    "\n",
    "\n",
    "        ## w xz截面图\n",
    "        ax = fig.add_subplot(gs[1, 0])\n",
    "        ax.set_aspect(1.6666)\n",
    "        \n",
    "        ax.contourf(x1d, z1d, w_xz[it, :-1, :],\n",
    "            levels=levels_w, cmap=cmap_w, extend='both')\n",
    "\n",
    "        # 格式调整\n",
    "        ax.set_xlabel('x (m)')\n",
    "        ax.set_ylabel('z (m)')\n",
    "        ax.xaxis.set_major_locator(xmaxLocator)\n",
    "        ax.yaxis.set_major_locator(zmaxLocator)\n",
    "        ax.set_xlim(xlims)\n",
    "        ax.set_ylim(zlims)\n",
    "\n",
    "\n",
    "\n",
    "        ## w数据yz截面\n",
    "        ax = fig.add_subplot(gs[0, 1])\n",
    "        ax.set_aspect(0.6)\n",
    "        ax.contourf(z1d, y1d, w_yz[it, :-1, :].T,\n",
    "            levels=levels_w, cmap=cmap_w, extend='both')\n",
    "\n",
    "        # 格式调整\n",
    "        ax.set_xlabel('z (m)')\n",
    "        ax.set_yticklabels([])\n",
    "        ax.xaxis.set_major_locator(zmaxLocator)\n",
    "        ax.yaxis.set_major_locator(ymaxLocator)\n",
    "        ax.set_xlim(zlims)\n",
    "        ax.set_ylim(ylims)\n",
    "        ax.invert_xaxis() # 反转x坐标\n",
    "\n",
    "        # 添加色阶图\n",
    "        cbar_ax = plt.axes([0.82, 0.1, 0.05, 0.2])\n",
    "        cbar = fig.colorbar(cax, cax=cbar_ax, ticks=levels_w[::5])\n",
    "        cbar.ax.set_title(\"$w/u_*$\", ha='center', va='bottom')\n",
    "        \n",
    "        ### 第二个重要步骤: 作图成功后，抓取图像保存为一帧\n",
    "        writer.grab_frame()\n",
    "        ### 第二个重要步骤: 作图成功后，抓取图像保存为一帧"
   ]
  },
  {
   "cell_type": "markdown",
   "id": "f4bebb81-0e6c-4efe-abee-ca8d7bffc2bd",
   "metadata": {},
   "source": [
    "--- "
   ]
  },
  {
   "cell_type": "markdown",
   "id": "b3f77866-3381-485b-bb62-b2cf2772cada",
   "metadata": {
    "slideshow": {
     "slide_type": "subslide"
    }
   },
   "source": [
    "## ✏️ 二维动画不够符合真实世界的视角 &rarr; 三维动画"
   ]
  },
  {
   "cell_type": "markdown",
   "id": "6a9398cd-6cc6-4a3f-beea-0ad345e7782b",
   "metadata": {
    "slideshow": {
     "slide_type": "fragment"
    }
   },
   "source": [
    "- ### 指定子图投影为三维: `ax = fig.add_subplot(*, projection='3d')`\n",
    "- ### 等值线图是指定平面方向，如`cax = ax.contourf(*, zdir='z')`\n",
    "- ### 使用`contourf()`特别注意坐标标量与所画变量w的位置关系(见示例)\n",
    "- ### ax.view_init(elev, azim, roll)调整相机(视角)位置"
   ]
  },
  {
   "cell_type": "markdown",
   "id": "2690706c-32b3-499f-b3ad-59320f806a94",
   "metadata": {
    "slideshow": {
     "slide_type": "fragment"
    }
   },
   "source": [
    "<img src=\"https://matplotlib.org/stable/_images/mplot3d_view_angles.png\" width=600>"
   ]
  },
  {
   "cell_type": "code",
   "execution_count": null,
   "id": "8db67703-1ad7-40a0-9aa7-203097f2d59d",
   "metadata": {
    "slideshow": {
     "slide_type": "subslide"
    }
   },
   "outputs": [],
   "source": [
    "## 创建一个三维湍流动画\n",
    "# 每一帧的画布信息\n",
    "ifig += 1\n",
    "fig = plt.figure(ifig, figsize=[8, 8])\n",
    "gs = fig.add_gridspec(1, 1, **margin)\n",
    "xmaxLocator = MultipleLocator(xspacing)\n",
    "ymaxLocator = MultipleLocator(yspacing)\n",
    "zmaxLocator = MultipleLocator(zspacing)\n",
    "xlims = (0, lx)\n",
    "ylims = (0, ly)\n",
    "zlims = (-lz, 0)\n",
    "\n",
    "# 逐帧作图\n",
    "z3d, y3d, x3d=np.meshgrid(z1d, y1d, x1d, indexing='ij')\n",
    "\n",
    "fn_ani = './image/langmuirTurbulence_3D.mp4'\n",
    "with writer.saving(fig, fn_ani, 100):\n",
    "    for it in range(nt):\n",
    "        time = it*dt\n",
    "        print(\"Creating the frame {:2d}... \".format(it+1))\n",
    "        \n",
    "        # w 水平截面图\n",
    "        ### 投影必须为3维\n",
    "        ax = fig.add_subplot(gs[0, 0], projection='3d')\n",
    "         ### 投影必须为3维\n",
    "        ax.set_aspect('equal')\n",
    "        \n",
    "        ### 特别注意坐标标量与所画变量w的位置关系 ###\n",
    "        cax = ax.contourf(x3d[iz, :, :], y3d[iz, :, :], w_xy[it, :, :],\n",
    "           levels=levels_w, cmap=cmap_w, extend='both', zdir='z', offset=-iz)\n",
    "        \n",
    "        ax.contourf(x3d[:, iy, :], w_xz[it, :-1, :], z3d[:, iy, :],\n",
    "            levels=levels_w, cmap=cmap_w, extend='both', zdir='y', offset=0)\n",
    "\n",
    "        ax.contourf(w_yz[it, :-1, :], y3d[:, :, ix], z3d[:, :, ix],\n",
    "           levels=levels_w, cmap=cmap_w, extend='both', zdir='x', offset=lx)\n",
    "        ### 特别注意坐标标量与所画变量w的位置关系 ###\n",
    "        \n",
    "        # 格式调整\n",
    "        ax.set(xlim=xlims, ylim=ylims, zlim=zlims)\n",
    "        ### 控制相机角度\n",
    "        ax.view_init(45, -60, 0)\n",
    "        ### 控制相机角度\n",
    "        ax.set_xlabel('x (m)')\n",
    "        ax.set_ylabel('y (m)')\n",
    "        ax.set_zlabel('z (m)')\n",
    "\n",
    "        # 添加色阶图\n",
    "        cbar_ax = plt.axes([0.88, 0.1, 0.05, 0.2])\n",
    "        cbar = fig.colorbar(cax, cax=cbar_ax, ticks=levels_w[::5])\n",
    "        cbar.ax.set_title(\"$w/u_*$\", ha='center', va='bottom')\n",
    "        \n",
    "        # 抓取图片\n",
    "        writer.grab_frame()"
   ]
  },
  {
   "cell_type": "markdown",
   "id": "22cf4142-b94d-4640-9eeb-eab7e45507e6",
   "metadata": {},
   "source": [
    "---\n",
    "---"
   ]
  },
  {
   "cell_type": "markdown",
   "id": "0ffc2297-d00d-4f90-a408-094787190b65",
   "metadata": {},
   "source": [
    "## "
   ]
  },
  {
   "cell_type": "markdown",
   "id": "0b08c249-3727-4305-822e-bb3d9b106497",
   "metadata": {},
   "source": [
    "---\n",
    "---"
   ]
  },
  {
   "cell_type": "markdown",
   "id": "b662ae23-1126-40e9-984f-49eab0b58f52",
   "metadata": {
    "slideshow": {
     "slide_type": "subslide"
    }
   },
   "source": [
    "## 最后，我们又多了一节课。。。老师得想想讲什么topic，希望同学们踊跃提建议。"
   ]
  },
  {
   "cell_type": "markdown",
   "id": "2ab43509-4fb1-49aa-a2cc-ae26bdc14ec8",
   "metadata": {},
   "source": [
    "---\n",
    "---"
   ]
  }
 ],
 "metadata": {
  "celltoolbar": "Slideshow",
  "kernelspec": {
   "display_name": "Python 3 (ipykernel)",
   "language": "python",
   "name": "python3"
  },
  "language_info": {
   "codemirror_mode": {
    "name": "ipython",
    "version": 3
   },
   "file_extension": ".py",
   "mimetype": "text/x-python",
   "name": "python",
   "nbconvert_exporter": "python",
   "pygments_lexer": "ipython3",
   "version": "3.9.13"
  }
 },
 "nbformat": 4,
 "nbformat_minor": 5
}
