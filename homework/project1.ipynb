{
 "cells": [
  {
   "cell_type": "markdown",
   "id": "ee1ce106-7d0c-438a-adbf-9c719c466bbd",
   "metadata": {},
   "source": [
    "<h1 align=\"center\"> 海洋数据分析 项目练习1 </h1>\n",
    "<h3 align=\"right\">截止时间 2022年11月06日23:59:59</h3>"
   ]
  },
  {
   "cell_type": "markdown",
   "id": "ebbc0539-71d7-4dd6-9a95-107bf04db41a",
   "metadata": {},
   "source": [
    "## 注: 该次作业可自由选择采用Python默认脚本(.py)或者Jupyter Notebook(.ipynb)文件进行提交。\n",
    "- <font size=5>作业主程序命名规则为<strong><用户名>\\_project1.py</strong>或<strong><用户名>\\_project1.ipynb</strong>，并提交**相应附件**。\n",
    "- ### 采用ipynb提交的同学，可以直接复制作业文件，并把代码写入该文件中。"
   ]
  },
  {
   "cell_type": "markdown",
   "id": "b095388c-4ff9-47d9-97bf-5f92e2e2e8e8",
   "metadata": {},
   "source": [
    "---"
   ]
  },
  {
   "cell_type": "markdown",
   "id": "09384c53-a94e-4c1a-b133-7f0a6e0e6121",
   "metadata": {},
   "source": [
    "### 从这次开始，我们的作业将开始进入新的一个阶段，每次项目练习大家将面临数据分析技术环节的完整流程，既“获取数据”、“分析数据”以及“展示成果”。项目练习对同学们的综合能力要求更高，同时大家将拥有大约2周的时间完成每次项目练习。"
   ]
  },
  {
   "cell_type": "markdown",
   "id": "29fe5884-4f2e-4def-8654-6e9975322cb3",
   "metadata": {},
   "source": [
    "---"
   ]
  },
  {
   "cell_type": "markdown",
   "id": "812b4c04-7a34-4b60-9685-82d8be73c1b0",
   "metadata": {},
   "source": [
    "**背景说明: 海洋上层由于受海风以及波浪的作用，会形成比较强的湍流混合。该过程可类比于大家平常泡咖啡搅动汤匙产生湍流混合咖啡粉的过程。海风与波浪就相当于运动的汤匙，向水提供能量；混合咖啡粉和水的湍流就与海洋上层的湍流类似。因此，与泡咖啡类似，海洋中的湍流决定了海洋上层动量、能量以及物质的混合能力，如何精确刻画海洋上层的湍流过程就成为海洋上层混合的研究重点之一。该项目练习将围绕上述主题，对不同海洋上层洋流数据进行处理，获得湍流相关量，并对结果进行分析。**"
   ]
  },
  {
   "cell_type": "markdown",
   "id": "f2de6073-3621-4463-bedb-cf6b4df628b3",
   "metadata": {},
   "source": [
    "**数据说明: data文件夹下有两组数据，分别为只受海风影响的海洋上层洋流数据“OML_wind.txt”与同时受海风与海浪影响的海洋上层洋流数据\"OML_windWave.txt\"。两个数据文件均为海洋上层的格点数据，每个数据文件前六行代表元数据，记录着与格点数据相关尺寸与纬度信息，每行数据记录了7个要素量，分别为“x坐标”、“y坐标”、“z坐标”、“速度u”、“速度v”、“速度w”与“温度T”**"
   ]
  },
  {
   "cell_type": "markdown",
   "id": "b63357bb-12ae-4bd1-98cd-feaf2d1d0e95",
   "metadata": {},
   "source": [
    "### 1. 首先提取两个文件的数据。要求：\n",
    "- #### 海洋上层格点的总长度与总尺度尺寸信息(元数据)必须从文件中读取(增强代码的自动化运行能力);\n",
    "- #### 尽量利用NumPy读取数据，并将数据重新转换为3维(x, y ,z)数组。完成这一步之后，每个文件将生成7个3维数组存储7个变量。"
   ]
  },
  {
   "cell_type": "code",
   "execution_count": null,
   "id": "5b89618a-b410-4223-99fc-87b52a86a9ed",
   "metadata": {},
   "outputs": [],
   "source": []
  },
  {
   "cell_type": "markdown",
   "id": "08f8b837-efc1-4b24-9d41-54eb7f88af1a",
   "metadata": {},
   "source": [
    "### 2. 在正式研究湍流(并获得其混合能力)之前，先对海洋上层洋流的平均状况进行分析，从而获得上层洋流的流速以及方向，以及观察我们所熟悉的Ekman螺旋。要求:\n",
    "- #### 计算两组数据u, v, w, T在水平平面上平均后的垂直廓线;\n",
    "- #### 新创建一个2x2的线图图像，将每个量画入子图中，每个子图需包含两组数据，图像需要相应的物理量说明、坐标说明及数据源说明(可使用`legend()`函数)，仔细观察每组廓线的形状，并保存图片为“current_profile.png”。在该图中，你们应该可以看见T在靠近海表的区域有一层常温层，这是温度被湍流混合均匀的证据。均匀混合的部分也常被称为“海洋上边界层”;\n",
    "- #### 新创建一个线图图像，将u作为横坐标，v作为纵坐标，画出两组数据的Ekman螺旋，说明格式要求同上，观察两组螺旋的区别，并保存为\"ekman_spiral.png\"。在该图像中，你们将看见波浪对Ekman螺旋的影响。"
   ]
  },
  {
   "cell_type": "code",
   "execution_count": null,
   "id": "d686f717-498b-4f98-9c71-ebc9c3979b0b",
   "metadata": {},
   "outputs": [],
   "source": []
  },
  {
   "cell_type": "markdown",
   "id": "442c2052-0c4f-4018-b7ad-0a41dc430e60",
   "metadata": {},
   "source": [
    "### 3. 接下来我们将获取最基本的湍流统计信息，湍流扰动量与湍流动能。在技术层面上，湍流可理解为速度场的扰动量(偏离平均值的部分)强度。扰动越强，湍流混合能力越强。现在要求:\n",
    "- #### 计算两组数据u, v, w在每个水平平面上的方差，并获得廓线;\n",
    "- #### 计算湍流动能$e=0.5\\times(<u^{\\prime 2}>+<v^{\\prime 2}>+<w^{\\prime 2}>)$廓线，其中$<\\phi^{\\prime 2}>$等效于计算某物理量$\\phi$水平面上的方差。\n",
    "- #### 新创建一个2x2的线图图像，将上述所计算的4个量画入子图中，要求相同。仔细观察个湍流扰动量与湍流动能随深度的变化，特别关注两组数据的不同，并将结果存为\"turbulence_profile.png\"。在该图中，你们将看到两种条件下湍流强度的变化，这也对应这两种条件下混合能力的差异。同时将该图与\"current_profile.png\"结合，你们将看到，温度廓线混合均匀的区域也代表着湍流动能较强的位置（类似于咖啡粉与水的混合只发生在被搅动强烈的区域）。"
   ]
  },
  {
   "cell_type": "code",
   "execution_count": null,
   "id": "078c3f74-7b6d-4373-8b9a-8c2021f1e1dd",
   "metadata": {},
   "outputs": [],
   "source": []
  },
  {
   "cell_type": "markdown",
   "id": "b86469b1-fd4f-4fb5-b2d5-01ceb72878a0",
   "metadata": {},
   "source": [
    "### 4. 一般而言，如果仅是观察各类物理量的平均廓线，难以获得物理现象的直观感受(比如，什么样的流动代表湍流动能较强)，这时我们需要结合3维洋流场的2维切面进行观察。现在要求:\n",
    "- #### 我们要在不同深度下观察两组数据流动的特征。分别从垂直速度场w中取3m、15m、25m以及50m深度剖面数据;\n",
    "- #### 创建一个4x2的等值线图像，每列代表不同组数据，每行代表不同深度。画图要求同上，同时需要保持每个子图的等值线(levels)以及颜色图(colormap)相同，观察所画剖面随着不同驱动力以及不同水深的变化，并将结果保存为\"w_cross.png\"。在该图中，你们将发现，海洋上层的垂直速度在有海浪和无海浪存在时的巨大差异，以及随着深度增加湍流强度的变化。"
   ]
  },
  {
   "cell_type": "code",
   "execution_count": null,
   "id": "fe6822b2-701e-4700-ae58-843de97196d8",
   "metadata": {},
   "outputs": [],
   "source": []
  }
 ],
 "metadata": {
  "kernelspec": {
   "display_name": "Python 3 (ipykernel)",
   "language": "python",
   "name": "python3"
  },
  "language_info": {
   "codemirror_mode": {
    "name": "ipython",
    "version": 3
   },
   "file_extension": ".py",
   "mimetype": "text/x-python",
   "name": "python",
   "nbconvert_exporter": "python",
   "pygments_lexer": "ipython3",
   "version": "3.9.13"
  }
 },
 "nbformat": 4,
 "nbformat_minor": 5
}
