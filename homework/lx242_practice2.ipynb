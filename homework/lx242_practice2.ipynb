{
 "cells": [
  {
   "cell_type": "code",
   "execution_count": 27,
   "id": "a9a40adb-26d6-4718-9326-aa9144575fd6",
   "metadata": {},
   "outputs": [
    {
     "name": "stdout",
     "output_type": "stream",
     "text": [
      "长方体的各个面的面积: 25 25 25\n",
      "长方体的总面积: 150\n",
      "长方体的体积: 125\n",
      "圆柱体的底面积 12.566370614359172\n",
      "圆柱体的侧面积 62.83185307179586\n",
      "圆柱体的总面积 87.96459430051421\n",
      "圆柱体的体积 62.83185307179586\n",
      "长方体总面积大于等于圆柱体总面积是否为真： True\n",
      "长方体体积大于等于圆柱体体积是否为真： True\n"
     ]
    }
   ],
   "source": [
    "from math import pi\n",
    "'''Loo Lie Xuan, ellieloo2010@gmail.com,29/9/2022\n",
    "编写一个计算长方体和圆柱体面积和体积的小程序'''\n",
    "\n",
    "length=5      #长方体的长，宽，高\n",
    "width=5\n",
    "height=5\n",
    "\n",
    "rad=2         #圆柱体的半径和高\n",
    "long=5\n",
    "\n",
    "area_sideA= length*width      #长方体的各个面的面积、总面积和体积\n",
    "area_sideB= length*height\n",
    "area_sideC= height*width\n",
    "total_area=area_sideA*2+area_sideB*2+area_sideC*2\n",
    "volume_cuboid=length*height*width\n",
    "print('长方体的各个面的面积:',area_sideA,area_sideB,area_sideC)\n",
    "print('长方体的总面积:',total_area)\n",
    "print('长方体的体积:',volume_cuboid)\n",
    "\n",
    "base_area = 2*pi * rad        #圆柱体的底面积、侧面积、总面积和体积\n",
    "side_area = 2*pi * rad*long\n",
    "total_areacyl = base_area*2+side_area\n",
    "vol_cylinder = pi*rad**2*long\n",
    "print('圆柱体的底面积',base_area)\n",
    "print('圆柱体的侧面积',side_area)\n",
    "print('圆柱体的总面积',total_areacyl)\n",
    "print('圆柱体的体积',vol_cylinder)\n",
    "\n",
    "print('长方体总面积大于等于圆柱体总面积是否为真：',total_area>=total_areacyl)  #判断长方体总面积大于等于圆柱体总面积是否为真\n",
    "print('长方体体积大于等于圆柱体体积是否为真：',volume_cuboid>=vol_cylinder)   #判断长方体体积大于等于圆柱体体积是否为真"
   ]
  },
  {
   "cell_type": "code",
   "execution_count": 18,
   "id": "4fb035f9-6cf2-4439-9c16-d454e0df6522",
   "metadata": {},
   "outputs": [
    {
     "name": "stdout",
     "output_type": "stream",
     "text": [
      "{'name': 'Loo Lie Xuan', 'gender': 'female', 'age': '21', 'ID': '22320202205242'}\n",
      "{'name': 'Florence', 'gender': 'female', 'age': '15', 'ID': '22320202205243'}\n",
      "{'name': 'Oscar', 'gender': 'male', 'age': '34', 'ID': '22320202205244'}\n"
     ]
    }
   ],
   "source": [
    "'''Loo Lie Xuan, ellieloo2010@gmail.com,29/9/2022\n",
    "编写一个存储班级成员信息的小程序'''\n",
    "person1_dict = {'name': 'Loo Lie Xuan', 'gender': 'female', 'age':'21','ID': '22320202205242'} #3个同学的姓名、性别、年龄和学号\n",
    "person2_dict = {'name': 'Florence', 'gender': 'female', 'age':'15','ID': '22320202205243'}\n",
    "person3_dict = {'name': 'Oscar', 'gender': 'male', 'age':'34','ID': '22320202205244'}\n",
    "ls=[person1_dict,person2_dict,person3_dict]      #创建一个班级成员列表ls，将每个人的字典作为元素存入列表中\n",
    "print(ls[0])               #显示列表中每个人的详细信息\n",
    "print(ls[1])\n",
    "print(ls[2])"
   ]
  },
  {
   "cell_type": "code",
   "execution_count": 92,
   "id": "f065ac6d-b1d1-4f64-a9fe-dea3c3caa497",
   "metadata": {},
   "outputs": [
    {
     "name": "stdout",
     "output_type": "stream",
     "text": [
      "数组元素的总个数: 10\n",
      "数组arr的平均值: 2.8040000000000003\n",
      "标准差:  5.629968383570195\n",
      "偏度(skewness): -1.250588131905356\n",
      "数组元素arrA的总个数: 5\n",
      "数组arrA的平均值: 0.188\n",
      "标准差:  6.897577545776488\n",
      "偏度(skewness): -0.2720208294710994\n",
      "数组元素arrB的总个数: 5\n",
      "数组arrB的平均值: 5.42\n",
      "标准差:  1.4593149077563758\n",
      "偏度(skewness): -0.12909117297218167\n"
     ]
    }
   ],
   "source": [
    "'''Loo Lie Xuan, ellieloo2010@gmail.com,29/9/2022\n",
    "编写一个简单的统计程序'''\n",
    "arr=[3.1, 10, 6, -2.4, 7.6, -11, 5.4, 1.2, 0.5e1, 3.14]\n",
    "n=len(arr)   #数组元素的总个数\n",
    "average=sum(arr)/n   #数组arr的平均值\n",
    "total=0\n",
    "\n",
    "for i in arr:           #数组arr的标准差\n",
    "    total+=(i-average)**2\n",
    "    m2=total/n\n",
    "    dev=m2**(1/2)\n",
    "\n",
    "total1=0             #数组arr的偏度\n",
    "for i in arr:\n",
    "    total1+=(i-average)**3\n",
    "    m3=total1/n\n",
    "    skew=m3/(m2**(3/2)) \n",
    "    \n",
    "print('数组元素的总个数:',n)\n",
    "print('数组arr的平均值:',average)\n",
    "print('标准差: ',dev)\n",
    "print('偏度(skewness):',skew)\n",
    "\n",
    "i=0                      #将数组按照索引指数的奇偶分成两个子数组\n",
    "arrA=[]\n",
    "arrB=[]\n",
    "for i in range(0,10):\n",
    "    if (i+1)%2!=1:     #奇数子集\n",
    "        arrA.append(arr[i])\n",
    "    if (i+1)%2==1:     #偶数子集\n",
    "        arrB.append(arr[i])    \n",
    "        \n",
    "n=len(arrA)            #数组元素的总个数\n",
    "average=sum(arrA)/n          #数组arrA的平均值\n",
    "total2=0\n",
    "for i in arrA:                 #数组arrA的标准差\n",
    "    total2+=(i-average)**2\n",
    "    m2=total2/n\n",
    "    dev=m2**(1/2)\n",
    "\n",
    "total3=0           #数组arrA的偏度\n",
    "for i in arrA:\n",
    "    total3+=(i-average)**3\n",
    "    m3=total3/n\n",
    "    skew=m3/(m2**(3/2))\n",
    "    \n",
    "print('数组元素arrA的总个数:',n)\n",
    "print('数组arrA的平均值:',average)\n",
    "print('标准差: ',dev)\n",
    "print('偏度(skewness):',skew)    \n",
    "\n",
    "n=len(arrB)         #数组元素的总个数\n",
    "average=sum(arrB)/n                #数组arrB的平均值\n",
    "total4=0\n",
    "for i in arrB:                        #数组arrB的标准差\n",
    "    total4+=(i-average)**2\n",
    "    m2=total4/n\n",
    "    dev=m2**(1/2)\n",
    "\n",
    "total5=0                     #数组arrB的偏度\n",
    "for i in arrB:\n",
    "    total5+=(i-average)**3\n",
    "    m3=total5/n\n",
    "    skew=m3/(m2**(3/2))\n",
    "    \n",
    "print('数组元素arrB的总个数:',n)\n",
    "print('数组arrB的平均值:',average)\n",
    "print('标准差: ',dev)\n",
    "print('偏度(skewness):',skew)    \n"
   ]
  },
  {
   "cell_type": "code",
   "execution_count": null,
   "id": "7432c863-6a21-4e1a-abd0-901550f6c76c",
   "metadata": {},
   "outputs": [],
   "source": []
  }
 ],
 "metadata": {
  "kernelspec": {
   "display_name": "Python 3 (ipykernel)",
   "language": "python",
   "name": "python3"
  },
  "language_info": {
   "codemirror_mode": {
    "name": "ipython",
    "version": 3
   },
   "file_extension": ".py",
   "mimetype": "text/x-python",
   "name": "python",
   "nbconvert_exporter": "python",
   "pygments_lexer": "ipython3",
   "version": "3.9.12"
  }
 },
 "nbformat": 4,
 "nbformat_minor": 5
}
