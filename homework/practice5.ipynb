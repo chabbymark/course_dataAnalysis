{
 "cells": [
  {
   "cell_type": "markdown",
   "id": "3e0dd288-ba30-42f9-80fa-7cf55ed0bb98",
   "metadata": {},
   "source": [
    "<h1 align=\"center\"> 海洋数据分析 课后练习5 </h1>\n",
    "<h3 align=\"right\">截止时间 2022年10月22日23:59:59</h3>"
   ]
  },
  {
   "cell_type": "markdown",
   "id": "484b4505-f4af-41a1-a23f-be0e4d66bfa6",
   "metadata": {},
   "source": [
    "## 注: 该次作业可自由选择采用Python默认脚本(.py)或者Jupyter notebook(.ipynb)文件进行提交。\n",
    "- <font size=5>作业主程序命名规则为<strong><用户名>\\_practice5\\_<题号>.py</strong>或<strong><用户名>\\_practice5.ipynb</strong>，并提交**相应附件**。"
   ]
  },
  {
   "cell_type": "markdown",
   "id": "77568d37-bd3f-4ef3-942b-fcf5c2faaa44",
   "metadata": {},
   "source": []
  },
  {
   "cell_type": "markdown",
   "id": "2fa82e5e-581b-4cce-be3a-e43c56aec715",
   "metadata": {},
   "source": [
    "## 1. 使用NumPy数组而不是数值型列表的其中一个重要原因就是NumPy数组具有极高运算效率，现在我们用一题作业题亲自体会一下，程序要求:"
   ]
  },
  {
   "cell_type": "markdown",
   "id": "107c3d4b-4d15-4d07-96f3-e4f58f5bb663",
   "metadata": {
    "tags": []
   },
   "source": [
    "## a. 首先创建一个维度为$1000\\times1000$的列表，要求列表元素数值随机。为了简化列表创建代码，建议(非强制)使用隐式for循环功能(implicit for loop), 详细流程可见链接https://docs.python.org/3.10/tutorial/datastructures.html#list-comprehensions 中5.1.4节的第二个例子，原理可见5.1.3节(10%);"
   ]
  },
  {
   "cell_type": "markdown",
   "id": "9425bd7c-1281-47e5-9dff-c1eaf1f87b2e",
   "metadata": {},
   "source": [
    "## b. 计算列表求和的平均时间，要求在不使用任何其他模块函数的前提下对该列表元素求和，并记录求和所用时间，并通过多次求平均值的方法(比如重复计算100次)获得列表求和所用的平均时间。时间记录函数可使用`time`模块中的`time()`子函数(15%);"
   ]
  },
  {
   "cell_type": "markdown",
   "id": "c776b884-5b5a-49c4-9c79-6fa10cf829c6",
   "metadata": {},
   "source": [
    "## c. 运用已建立的列表数据建立相应的NumPy数组，并计算数组平均求和时间。数组平均求和时间的计算要求与计算列表平均求和时间一致，当然，对于NumPy数组，可以使用NumPy模块自带的函数(15%)；"
   ]
  },
  {
   "cell_type": "markdown",
   "id": "3d406476-ead7-4b71-a265-519a38e62093",
   "metadata": {},
   "source": [
    "## d. 比较列表与数组的求和时间，要求计算两者所花时间的比值，并最终将二者所花时间以及比值清楚(人类可读)的显示在屏幕上。观察结果，同时思考在过往作业中，哪些作业适合用NumPy数组解决问题，哪些不适合(10%)。"
   ]
  },
  {
   "cell_type": "markdown",
   "id": "ed3642f0-cfc1-4ae9-b281-6184b5b26f73",
   "metadata": {},
   "source": [
    "## (50%)"
   ]
  },
  {
   "cell_type": "markdown",
   "id": "5805afd7-91f7-4fa2-a4a3-f2ac72348804",
   "metadata": {},
   "source": [
    "## 加分题(5%): 请用程序分析，NumPy数组相比于列表求和的计算优势是否与数据规模大小有关？并分析其变化趋势。"
   ]
  },
  {
   "cell_type": "code",
   "execution_count": null,
   "id": "dd06b7e4-6c51-458e-be24-327dca1535da",
   "metadata": {},
   "outputs": [],
   "source": []
  },
  {
   "cell_type": "markdown",
   "id": "3664a9a3-7f6c-4ca0-a5dc-d9add4a64d3e",
   "metadata": {},
   "source": [
    "## 2. 实际大气中，真实水汽压($e$)难以超过饱和水汽压($e_s$)，否则水汽就会凝结，形成液态水。而真实水汽压与饱和水汽压之比($\\frac{e}{e_s}\\times100\\%$)则称之为相对湿度$RH(\\%)$。现在利用上一次作业所编写的函数以及当前课程所学的NumPy知识对大气过饱和情况进行判断:"
   ]
  },
  {
   "cell_type": "markdown",
   "id": "bf85c5e8-46f6-4afa-b6d3-a8f9843e7e6f",
   "metadata": {},
   "source": [
    "## a. 创建一个3列NumPy大气状态数组`atmos_stat`，数组第一列为温度(K)，第二列为大气压强(hPa)，第三列为水汽压(hPa)。其中数据请自行编写，要求数据至少具有10行(10%)；\n",
    "## b. 结合上次作业，计算相应水汽混合比($r$)、饱和水汽压($e_s$)、位温($\\theta$)与虚位温($\\theta_v$)，并将新得的四列数据合并到大气状态数组`atmos_stat`中(10%)；\n",
    "## c. 由于存在水汽凝结的限制，真实大气难以出现过饱和的情况，因此相对湿度最高为100%，需要对有问题的数据进行修正。计算相对湿度，当相对湿度超过100%时，将相对湿度修正至100%，同时将上述需要修正的数据进行修正(所编写的数据要保证至少有一个数据出现过饱和的情形)，同时将计算的相对湿度加入`atmos_stat`中(15%)；\n",
    "## d. 将`atmos_stat`格式化输出值文件`atmos_stat.txt`中，要求做成首行具有说明的表格形式。固定间隔与数据分隔符可自行选择(15%)。"
   ]
  },
  {
   "cell_type": "markdown",
   "id": "476229d6-cfe9-49e7-8f32-f853e5dd73e6",
   "metadata": {},
   "source": [
    "## (50%)"
   ]
  },
  {
   "cell_type": "code",
   "execution_count": null,
   "id": "a932fef3-5a14-4f0d-994c-e20a01857cda",
   "metadata": {},
   "outputs": [],
   "source": []
  }
 ],
 "metadata": {
  "kernelspec": {
   "display_name": "Python 3 (ipykernel)",
   "language": "python",
   "name": "python3"
  },
  "language_info": {
   "codemirror_mode": {
    "name": "ipython",
    "version": 3
   },
   "file_extension": ".py",
   "mimetype": "text/x-python",
   "name": "python",
   "nbconvert_exporter": "python",
   "pygments_lexer": "ipython3",
   "version": "3.9.13"
  }
 },
 "nbformat": 4,
 "nbformat_minor": 5
}
