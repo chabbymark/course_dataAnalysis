{
 "cells": [
  {
   "cell_type": "markdown",
   "id": "16779fe1-18ec-4387-ac88-43fb110f525f",
   "metadata": {},
   "source": [
    "<h1 align=\"center\"> 海洋数据分析 课后练习3 </h1>\n",
    "<h3 align=\"right\">截止日期 2022年10月7日</h3>"
   ]
  },
  {
   "cell_type": "markdown",
   "id": "bb77be60-82b8-4294-98e2-66f04543000c",
   "metadata": {
    "jupyter": {
     "source_hidden": true
    },
    "tags": []
   },
   "source": [
    "## 注: 该次作业采用Python默认脚本.py文件进行提交！\n",
    "- 作业命名规则为<strong><用户名>\\_practice3\\_<题号>.py</strong>"
   ]
  },
  {
   "cell_type": "markdown",
   "id": "933ebb02-ede3-467a-a669-15b774025e5e",
   "metadata": {},
   "source": []
  },
  {
   "cell_type": "markdown",
   "id": "5e5d1431-a7bd-4de6-aedc-a17df8dda962",
   "metadata": {
    "tags": []
   },
   "source": [
    "## 1. 编写一个计时器，要求\n",
    "## a. 计时器首先接受用户输入总分钟数和秒数，程序需提示用户当前所需输入的量，并且输入的总时间不能超过1小时(提示: 使用Python内置输入函数`input()`)；\n",
    "## b. 计时器每次减少1秒，并且能在屏幕上显示所剩的时间，格式为“分钟:秒数”，且分钟及秒数需要各保持两位，比如所剩下实现为3分2秒时，显示“03:02”(提示: 使用`time` module里的`sleep`函数)；\n",
    "## c. 计时器时间为零时，显示“Beep!Beep!”的提示。\n",
    "## 提示: 当测试代码的时候，可以缩短`sleep`的等待时间。\n",
    "## (35%)\n"
   ]
  },
  {
   "cell_type": "markdown",
   "id": "941fb07b-e524-475b-8652-5e5e79386aa7",
   "metadata": {},
   "source": []
  },
  {
   "cell_type": "markdown",
   "id": "c268a2b5-2c37-4fc1-9c35-c4f7dd605e01",
   "metadata": {},
   "source": [
    "## 2. 科拉兹猜想(Collatz conjecture, 奇偶归一猜想)假设对任何自然数$n$（不包含0），如果对自然数$n$做如下运算，最终都会收敛至1:\n",
    "## a. 如果$n$是偶数，除以2;\n",
    "## b. 如果$n$是奇数，乘以3加1;\n",
    "## c. 对获得的新数重复以上步骤。\n",
    "## 例如，对于$n=6$，我们可以获得如下数列: 6, 3, 10, 5, 16, 8, 4, 2, 1。\n",
    "## 现在，编写一个程序用于测试科拉兹猜想，程序要求：\n",
    "## a. 要求用户输入一个大于1的自然，如果所输数字不符合要求，要求用户重新输入直至符合要求；\n",
    "## b. 计算科拉兹数列，要求显示当前步数与计算结果；\n",
    "## c. 为防止数列计算难以收敛，设置一个较大的步数(比如100000)，终止循环；\n",
    "## d. 计算结束后，显示计算信息，计算信息包含数列起始数字、数列终止数字、数列总计算步数，是否收敛。\n",
    "## (30%)"
   ]
  },
  {
   "cell_type": "markdown",
   "id": "9ff93120-a094-4d15-9fd8-35909ff1a7e6",
   "metadata": {},
   "source": []
  },
  {
   "cell_type": "markdown",
   "id": "d9a3d5a7-81fa-4176-81a2-b96b41ab8c95",
   "metadata": {},
   "source": [
    "## 3. 猜谜游戏，要求：\n",
    "## a. 让计算机产生一个1至100的随机数作为“幸运数”(提示: `numpy` module中的`random.randint`函数);\n",
    "## b. 计算机会提示用户输入1至100的数字，如果用于输入的数字不在1至100的范围内，提示用户重新输入；\n",
    "## c. 如果输入的数字在1至100之间，计算机会提示用户所输入的数字是否正确，过高或者过低；\n",
    "## d. 如果用户猜中数字，则恭喜用户，并显示总猜测次数;\n",
    "## e. 如果没有猜中数字，重复步骤b, c, d\n",
    "## (35%)"
   ]
  }
 ],
 "metadata": {
  "kernelspec": {
   "display_name": "Python 3 (ipykernel)",
   "language": "python",
   "name": "python3"
  },
  "language_info": {
   "codemirror_mode": {
    "name": "ipython",
    "version": 3
   },
   "file_extension": ".py",
   "mimetype": "text/x-python",
   "name": "python",
   "nbconvert_exporter": "python",
   "pygments_lexer": "ipython3",
   "version": "3.9.13"
  }
 },
 "nbformat": 4,
 "nbformat_minor": 5
}
