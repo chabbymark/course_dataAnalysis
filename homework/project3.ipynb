{
 "cells": [
  {
   "cell_type": "markdown",
   "id": "bed4b65e-e199-4281-bfba-55dcc5efd708",
   "metadata": {},
   "source": [
    "<h1 align=\"center\"> 海洋数据分析 项目练习3 </h1>\n",
    "<h3 align=\"right\">截止时间 2022年12月29日23:59:59</h3>"
   ]
  },
  {
   "cell_type": "markdown",
   "id": "d7e9f8e5-c645-4172-951f-4ba15917580c",
   "metadata": {},
   "source": [
    "## 姓名:"
   ]
  },
  {
   "cell_type": "markdown",
   "id": "e6306246-d717-4970-9e66-e5b114bb1a96",
   "metadata": {},
   "source": [
    "## 注: 该次作业可自由选择采用Python默认脚本(.py)或者Jupyter Notebook(.ipynb)文件进行提交。\n",
    "- <font size=5>作业主程序命名规则为<strong><用户名>\\_project3.py</strong>或<strong><用户名>\\_project3.ipynb</strong>，并提交**相应附件**。\n",
    "- ### 采用ipynb提交的同学，可以直接复制作业文件，并把代码写入该文件中。"
   ]
  },
  {
   "cell_type": "markdown",
   "id": "58ed868c-cf5a-4df3-a0ba-c526c4aabba7",
   "metadata": {},
   "source": [
    "---"
   ]
  },
  {
   "cell_type": "markdown",
   "id": "0ef32b9b-daa0-4fb5-a22d-ad40517de97c",
   "metadata": {},
   "source": [
    "- ### 项目练习将包含数据分析技术环节的完整流程，既“数据获取”、“数据分析”以及“成果展示”三个环节。\n",
    "- ### 项目练习所需综合能力要求更高，同学们将拥有大约2周的时间完成每次练习。"
   ]
  },
  {
   "cell_type": "markdown",
   "id": "3ca1ca33-7482-465d-a7a6-0ad1feb05701",
   "metadata": {},
   "source": [
    "---"
   ]
  },
  {
   "cell_type": "markdown",
   "id": "16a80df2-ea05-4c4b-8d5a-1bbd49b21e0b",
   "metadata": {},
   "source": [
    "### 1. 破译信号 (60%)"
   ]
  },
  {
   "cell_type": "markdown",
   "id": "2b9d009b-3117-4f4d-800b-eb92aabeec7a",
   "metadata": {},
   "source": [
    "### 背景介绍: \n",
    "- #### 自然现象包含各种不同时间周期以及空间周期的信号。\n",
    "- #### 例如对于地球系统的能量平衡而言，存在着以年为周期的气候平均温度，也存在着我们更为熟悉的以天为周期的温度变化；而以太阳产生的风能向海洋传递动能产生的现象而言，能产生千公里级别的Rossby波、百公里以上的中尺度涡旋、也能产生跟我们身高尺度相当的米级湍流。\n",
    "- #### 为了区分这些不同的物理现象、分辨它们的相对强弱以及在地球系统中的能量传递路径，根据它们的频率(时间)及波数(空间)做信号分解并分析其信号强度是一种有效的科研手段。\n",
    "- #### 而快速傅里叶变换(FFT)就是目前为止最常用的频谱分析手段之一。"
   ]
  },
  {
   "cell_type": "markdown",
   "id": "296e6e40-6f26-4fb1-b434-34cf21ae159a",
   "metadata": {},
   "source": [
    "### 在本子项目中，我们不会涉及到过于高深的自然现象破译工作，而是转为破译其他同学的信号。当然大家要注意，虽然对象发生了改变(自然&rarr;人)，但原理是互通的。"
   ]
  },
  {
   "cell_type": "markdown",
   "id": "09efaaf3-87d2-45ec-a813-854469642065",
   "metadata": {},
   "source": [
    "### 1. 制作自己的保密信号:\n",
    "#### a. 请用如下函数`signalGenerator()`产生自己的保密信号。要求运用`signalGenerator()`产生10-20组不同波数或者频率的单频信号，并将创建的信号进行叠加即为自己的保密信号。创建信号完成后，运用pandas将保密信号、单频信号以及采样点保存到文件`allSignals.csv`中。文件中第一列为采样点，如果是空间信号变量名为x，如果是时间信号变量名为t；文件第二列为保密信号，变量名为signal；第三列开始为产生秘密信号的单模态信号，命名规则统一为mod#，#为创建信号时`signalGenerator()`所用的`nw`变量。"
   ]
  },
  {
   "cell_type": "markdown",
   "id": "cf6fafe7-cf51-42d6-95af-935c0c721fac",
   "metadata": {},
   "source": [
    "#### b. 运用pandas制作保密信号数据，文件第一列为采样点，第二列为秘密信号，将数据保存到文件中`secretSignal_<username>.csv`，其中`<username>`为个人用户名。从班上寻找一名同学，与他/她交换秘密信号文件`secretSignal_<username>.csv`，用于破译对方的秘密信号。"
   ]
  },
  {
   "cell_type": "markdown",
   "id": "bbf7e525-66f5-4024-842c-1ab1767de5ef",
   "metadata": {},
   "source": [
    "#### c. 在拿到对方的秘密信号之后，运用课上所学的FFT知识破译对方的秘密信号。其主要目的是基于以下方程，利用傅里叶正变换解析出对方信号在各个波形的振幅及相位信息$A(k)$。"
   ]
  },
  {
   "cell_type": "markdown",
   "id": "d4bafa2c-8c78-4335-a4bb-23135dc67f23",
   "metadata": {},
   "source": [
    "#### $\\phi(\\frac{n}{N}) = \\sum_{k=-N/2}^{(N-1)/2}A(k)\\psi_k(\\frac{n}{N})$, $\\ n=0, 1, ..., N-1$\n",
    "#### 其中$\\psi_k(x)=e^{2\\pi k x}$为基函数(采用时间信号的同学自变量为$t$)"
   ]
  },
  {
   "cell_type": "markdown",
   "id": "048c0a86-c6d1-40c9-9f4f-6c5b357ce0c9",
   "metadata": {},
   "source": [
    "#### d. 为了进一步加深对信号分解的理解，我们将不采用傅里叶逆变换来进行信号重构，而是采用以上的定义式来达成目的。在获得单模态象函数$A(k)$后，运用基函数$A(k)$和$\\psi_k(x)=e^{2\\pi k x}$重构出每个模态的信号$\\phi_k(x)$。这里需要注意的是，由于实数域傅里叶变换在$k$和$-k$模态是共轭对，我们构建的实数域单模态信号其实为两个共轭模态的叠加，即$\\phi_{|k|}(x)=\\phi_k(x)+\\phi_{-k}(x)$，因此$\\phi_{|k|}$的计算公式如下:"
   ]
  },
  {
   "cell_type": "markdown",
   "id": "79ba26d5-48df-40c7-afd4-c40e6154483e",
   "metadata": {},
   "source": [
    "#### $\\phi_{|k|}(x)=A(k)\\psi_k(x)+A(k)^*\\psi_{-k}(x)=A(k)e^{2\\pi k x}+A(k)^*e^{2\\pi (-k) x}$"
   ]
  },
  {
   "cell_type": "markdown",
   "id": "2778860e-42da-4ace-a460-2262b960bbef",
   "metadata": {},
   "source": [
    "#### 获得各个单模态波列$\\phi_{|k|}$后，将它们叠加成合成信号$\\tilde{\\phi}(x)$"
   ]
  },
  {
   "cell_type": "markdown",
   "id": "17bbe403-6e6d-4315-bab6-252f7f87f94e",
   "metadata": {},
   "source": [
    "#### e. 最后是成果展示环节，创建两个子图，第一个子图包含所有单模态信号，看看秘密信号中包含哪些波列。第二子图为合成信号$\\tilde{\\phi}(x)$与原始秘密信号$\\phi(x)$，并对比合成信号是否真实还原了原始秘密信号。作图时注意需要将横坐标(定义域)转换到秘密信号的采样点上。将所得的解密数据按照保存`allSignals.csv`文件的要求保存为`decodedSignals_<username>.csv`并与自己同伴的`allSignals.csv`比对，看解密信息是否正确。"
   ]
  },
  {
   "cell_type": "code",
   "execution_count": null,
   "id": "b924d05c-08be-4a0c-89e1-ed98220bf84c",
   "metadata": {},
   "outputs": [],
   "source": [
    "# 载入模块\n",
    "import numpy as np\n",
    "\n",
    "# 单模态信号生成函数\n",
    "def signalGenerator(prd, nw, amp, phs, num):\n",
    "    \"\"\"\n",
    "    prd: 信号定义域总长度，在这个项目中，请保持prd不变以保证所有单模态信号都定义在同一个定义域中\n",
    "    nw:  长度为prd的定义域中有多少个周期，注意，nw/prd才是真正的波数(空间)或者频率(频率)，请保证nw是非负整数且nw<=num/2\n",
    "    amp: 波动的振幅，当nw为0时，代表背景强度的平均值\n",
    "    phs: 相位(角度, 0-360 deg)，以cos(x)的相位迁移为基准\n",
    "    num: 样本数量，在这个项目中，请保持num不变以保证所有信号模态取样点一致\n",
    "    \"\"\"\n",
    "    # 采样点\n",
    "    x_sam = np.arange(0, prd, prd/num)\n",
    "    \n",
    "    # 信号产生\n",
    "    if nw==0:\n",
    "        sam = amp * np.ones(x_sam.shape)\n",
    "    else:\n",
    "        wn = nw/prd # 波数或频率\n",
    "        rad_phs = np.deg2rad(phs)\n",
    "        sam = amp * np.cos(2*np.pi*wn*x_sam + rad_phs)\n",
    "    \n",
    "    # 返回信号样本\n",
    "    return sam, x_sam"
   ]
  },
  {
   "cell_type": "code",
   "execution_count": null,
   "id": "023e8ee4-c32e-4e64-9e79-f5cc88f7f45c",
   "metadata": {},
   "outputs": [],
   "source": []
  },
  {
   "cell_type": "markdown",
   "id": "a3694671-f3aa-40c9-88f1-17ade4f073e7",
   "metadata": {},
   "source": [
    "---"
   ]
  },
  {
   "cell_type": "markdown",
   "id": "8442b6e7-9313-45ef-bff5-b9ac80ce6cc3",
   "metadata": {},
   "source": [
    "### 2. 美丽自然 (40%)"
   ]
  },
  {
   "cell_type": "markdown",
   "id": "9912e62d-fb96-412f-b0db-6ada9dffad1a",
   "metadata": {},
   "source": [
    "### 背景介绍: \n",
    "- #### 面对枯燥的统计数据而不理解背后的物理现象是消磨大家科研热情的元凶之一。\n",
    "- #### 例如在我们进行全球海表温度统计的均值以及标准差统计的时候，大家是否有想过这些统计量所对应的自然变化过程。\n",
    "- #### 在这一个项目中，大家将运用动画制作技术，结合项目2的海温成果展示技术制作具备年代纪变化的海表温度动画，看看你是否喜欢平均值及标准差背后所代表的自然现象。\n",
    "- #### 如果你喜欢自己制作的自然现象动画，那么你可能会开始体会到为什么会有人(科学家)想要破解各种各样的自然现象。"
   ]
  },
  {
   "cell_type": "markdown",
   "id": "716e5593-13ec-4159-8a4c-166572c15690",
   "metadata": {},
   "source": [
    "#### a. 先进行貌似枯燥的数据统计工作，按照我们项目2的五带划分，统计每一带SST的10年平均值及标准差。"
   ]
  },
  {
   "cell_type": "markdown",
   "id": "df546b5d-3ab4-4ce0-ad31-d7cae93dc53d",
   "metadata": {},
   "source": [
    "#### b. 现在进行视频制作，视频包含全部十年月平均SST数据的动画，视频的每一帧包含三列子图:\n",
    "- #### 左边占据最大空间的为当月SST的全球数据图;\n",
    "- #### 中间为SST的10年平均图，注意此时横坐标为SST，纵坐标为五带;\n",
    "- #### 右边为SST的10年标准差，横纵坐标要求与中图相同。\n",
    "#### 为了视频信息清晰无误，视频需要包含之前所要求的相应说明，还需包含该帧动画所在的年份和月份。"
   ]
  },
  {
   "cell_type": "markdown",
   "id": "2a8f88ce-fe8b-4d2c-958b-a47ee41c6408",
   "metadata": {},
   "source": [
    "#### c. 仔细观看自己的视频，看看你自己是否欣赏自己完成的作品，以及SST随时间的变化是否符合所计算的平均值以及标准差。"
   ]
  },
  {
   "cell_type": "code",
   "execution_count": null,
   "id": "97a04ee8-c940-404c-ba43-4e1824e73367",
   "metadata": {},
   "outputs": [],
   "source": []
  },
  {
   "cell_type": "markdown",
   "id": "aea86892-6c17-4963-b74b-8dff964dec83",
   "metadata": {},
   "source": [
    "---"
   ]
  }
 ],
 "metadata": {
  "kernelspec": {
   "display_name": "Python 3 (ipykernel)",
   "language": "python",
   "name": "python3"
  },
  "language_info": {
   "codemirror_mode": {
    "name": "ipython",
    "version": 3
   },
   "file_extension": ".py",
   "mimetype": "text/x-python",
   "name": "python",
   "nbconvert_exporter": "python",
   "pygments_lexer": "ipython3",
   "version": "3.9.13"
  }
 },
 "nbformat": 4,
 "nbformat_minor": 5
}
