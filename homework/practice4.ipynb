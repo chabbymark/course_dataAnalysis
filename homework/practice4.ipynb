{
 "cells": [
  {
   "cell_type": "markdown",
   "id": "9f55a81c-b745-4013-aa7d-b852358f8e4d",
   "metadata": {},
   "source": [
    "<h1 align=\"center\"> 海洋数据分析 课后练习4 </h1>\n",
    "<h3 align=\"right\">截止日期 2022年10月14日</h3>"
   ]
  },
  {
   "cell_type": "markdown",
   "id": "54ad5297-0d70-47a7-beaf-42b9aff22212",
   "metadata": {},
   "source": [
    "## 注: 该次作业可自由选择采用Python默认脚本(.py)或者Jupyter notebook(.ipynb)文件进行提交。\n",
    "- <font size=5>作业主程序命名规则为<strong><用户名>\\_practice4\\_<题号>.py</strong>或<strong><用户名>\\_practice4.ipynb</strong>，并提交**相应附件**。\n",
    "- <font size=5>读写文件请用今天介绍的Python读写基本操作。"
   ]
  },
  {
   "cell_type": "markdown",
   "id": "6bad8854-58ba-47a5-8c0e-c0318b27e7ed",
   "metadata": {},
   "source": []
  },
  {
   "cell_type": "markdown",
   "id": "705305e3-af4f-45ab-ac69-eaea68de4f71",
   "metadata": {},
   "source": [
    "## 1. 我们在练习2当中曾经编写过存储班级信息的小程序，利用新学会的Python知识对该程序功能进行升级，程序要求：\n",
    "## a. 在练习2中，我们要求收集包含自己在内的3名学生信息，现在将人数扩展为10人，其他要求同练习2。将所有同学信息存储在一个列表`class_input`中，列表元素为存储每位同学具体信息的字典；\n",
    "## b. 创建“class.txt”文件，并将同学的信息写入文件中，文件遵循如下格式:\n",
    "姓名|性别|年龄|学号\n",
    ":----|:----|:----|:----\n",
    "张三|男|21|100001<br>\n",
    "李四|女|21|100002<br>\n",
    "王五|男|21|100003<br>\n",
    "## 注意，文件需要进行列对齐并放入分割线，分割线样式可自选；\n",
    "## c. 设计一个程序，该程序从class.txt读取班级成员的信息，并将读取的信息储存于变量`class_output`中。\n",
    "## d. 提供对班级成员`class_output`的检索功能，检索功能要求：\n",
    "#### (i) 询问用户是否进行检索；\n",
    "#### (ii) 询问用户使用何种条目(姓名、性别、年龄或学号)进行检索并显示所有符合条件的成员信息；\n",
    "#### (iii) 询问用户是否继续检索，如果回答为'是'或'Y'，则重复步骤(ii)。\n",
    "## (35%)"
   ]
  },
  {
   "cell_type": "code",
   "execution_count": null,
   "id": "484dfc38-a660-48ca-9dfc-b2d17d2048f2",
   "metadata": {},
   "outputs": [],
   "source": []
  },
  {
   "cell_type": "markdown",
   "id": "82a8b0d3-b246-46ae-97f3-dce493dd3adc",
   "metadata": {
    "tags": []
   },
   "source": [
    "## 2. 在干燥大气中，位温$\\theta(\\rm K)$(与浮力呈正相关)常被用于决定大气稳定度(是否产生垂直运动)。在湿润大气中，需对位温进行水汽订正，所得的关键参量称为虚位温$\\theta_v(\\rm K)$。虚位温的计算公式如下：\n",
    "\\begin{align}\n",
    "    \\theta_v &=& \\theta(1+0.61r),\\\\\n",
    "    \\theta &=& T\\left(\\frac{p_0}{p}\\right)^{R/c_p},\\\\\n",
    "    r &=& 0.622\\frac{e}{p-e}.\n",
    "\\end{align}\n",
    "## 这里，$T$和$p$分别代表气温$(K)$与压强$(\\rm hPa)$，$p_0$代表参考气压($1000\\rm hPa$)，$R=287\\rm J\\, kg^{-1}\\, K^{-1}$, $c_p=1006\\rm J\\, kg^{-1}\\, $r$为水汽混合比，K^{-1}$为干空气单位质量比热容，$e$为水汽压$(\\rm hPa)$。\n",
    "## 虚位温公式$\\theta_v(\\rm K)$仅能用于水汽不发生相变(凝结或蒸发)的情况下，因此水汽压$e$必须小于当前温度下($T(\\rm K)$)的饱和水汽压$e_s$。饱和水汽压计算公式如下:\n",
    "\\begin{equation}\n",
    "    e_s(T) = e_{so}\\exp{\\left[\\frac{l_v}{R_v}(\\frac{1}{T_0}-\\frac{1}{T})\\right]}.\n",
    "\\end{equation}\n",
    "## 其中$e_{so}$是$0^\\circ \\rm C$饱和水汽压($0.611\\rm hPa$)，$T_0$是$0^\\circ \\rm C$在开尔文温度下的表述($273.15\\rm K$)，$l_v$是水汽气化焓($2.5\\times 10^6 \\rm J\\, kg^{-1}$)，$R_v=461.5\\rm J\\, kg^{-1}\\, K^{-1}$水汽的气体常数。"
   ]
  },
  {
   "cell_type": "markdown",
   "id": "ba82fe70-3a3e-424a-8598-f986ddcb3c39",
   "metadata": {},
   "source": [
    "## 现在编写一个大气虚位温计算程序，要求:\n",
    "## a. 编写四个子函数，用于计算位温$\\theta$、虚位温$\\theta_v$、水汽混合比$r$与饱和水汽压$e_s$。编写函数时，仔细思考每个函数的输入输出以及对应的关系，四个函数间尽量不要出现重复的代码；\n",
    "## b. 运用新建的四个函数编写主程序，主程序将首先询问当前温度、大气压强、水汽压。如果当前大气出现过饱和($e>e_s$)，则提示用户大气出现过饱和，并重新输入数值直至获得可计算的结果。计算结束后，询问用户是否进行下一次计算，直至用户回答'否'或'N'时，停止下一次计算。\n",
    "## (30%)"
   ]
  },
  {
   "cell_type": "code",
   "execution_count": null,
   "id": "b6bf3972-cb6e-4c35-9c02-2c5b8cc8e424",
   "metadata": {},
   "outputs": [],
   "source": []
  },
  {
   "cell_type": "markdown",
   "id": "7e35c8bf-93d7-453e-9942-a6a9b5a5550b",
   "metadata": {},
   "source": [
    "## 3. 海水密度同时受温度和盐度的调控。总体而言，温度下降或盐度上升时，海水密度上升。海水密度公式（状态方程）可用以下公式进行描述：\n",
    "\\begin{equation}\n",
    "\\rho(S,T)=A(T)+B(T)S+C(T)S^{3/2}+D(T)S^2,\n",
    "\\end{equation}\n",
    "## 其中$S$是海水盐度($\\rm PSU$), $T$是海水温度($\\rm ^\\circ C$), $A(T)$到$D(T)$是关于温度的多项式，其各阶系数如表所示：\n",
    "$\\ $|A|B|C|D\n",
    ":----|:----|:----|:----|:----\n",
    "$T^0$|$999.84$|$8.2449\\times 10^{-1}$|$-5.7247\\times 10^{-3}$|$4.8314\\times 10^{-4}$<br>\n",
    "$T^1$|$6.7940\\times 10^{-2}$|$-4.0899\\times 10^{-3}$|$1.0277\\times 10^{-4}$<br>\n",
    "$T^2$|$-9.0953\\times 10^{-3}$|$7.6438\\times 10^{-5}$|$-1.6546\\times 10^{-6}$<br>\n",
    "$T^3$|$1.0017\\times 10^{-4}$|$-8.2467\\times 10^{-7}$<br>\n",
    "$T^4$|$-1.1201\\times 10^{-6}$|$5.3875\\times 10^{-9}$<br>\n",
    "$T^5$|$6.5363\\times 10^{-9}$<br>"
   ]
  },
  {
   "cell_type": "markdown",
   "id": "37005c25-189e-4736-9f0f-0d8493f000ef",
   "metadata": {},
   "source": [
    "## 先编写程序满足如下要求：\n",
    "## a. 编写函数`get_density()`计算海水密度，请注意，请将每个系数保存与变量中再使用；\n",
    "## b. 读取‘ocean_stat.txt’文件，获得每层海水的深度、盐度与温度数据；\n",
    "## c. 用所编写的函数`get_density()`计算每层海水的密度，并将各物理量(深度、盐度、温度与密度)规则的显示在屏幕上。表格首行需带有物理量名称与单位。\n",
    "## d. 将新计算的海水密度与原本海水物理量信息输出到文件‘ocean_density.txt’中，输出格式与'ocean_stat.txt'中相同。\n",
    "## (35%)\n",
    "##\n",
    "## 加分题(5%): 请用程序分析，在目前的数据中，海水密度主要由温度决定还是由盐度决定，为什么？\n",
    "## 提示: 请运用统计学线性回归相关概念解释。"
   ]
  },
  {
   "cell_type": "code",
   "execution_count": null,
   "id": "6b83c8b2-e4a0-4e39-99ca-40ba9d12fa00",
   "metadata": {},
   "outputs": [],
   "source": []
  }
 ],
 "metadata": {
  "kernelspec": {
   "display_name": "Python 3 (ipykernel)",
   "language": "python",
   "name": "python3"
  },
  "language_info": {
   "codemirror_mode": {
    "name": "ipython",
    "version": 3
   },
   "file_extension": ".py",
   "mimetype": "text/x-python",
   "name": "python",
   "nbconvert_exporter": "python",
   "pygments_lexer": "ipython3",
   "version": "3.9.13"
  }
 },
 "nbformat": 4,
 "nbformat_minor": 5
}
