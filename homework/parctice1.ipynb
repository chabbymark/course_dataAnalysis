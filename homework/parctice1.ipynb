{
 "cells": [
  {
   "cell_type": "markdown",
   "id": "ff7fd574-3441-4e3e-a18b-8a0716479f30",
   "metadata": {},
   "source": [
    "<h1 align=\"center\"> 海洋数据分析 课后练习1 </h1>\n",
    "<h3 align=\"right\">截止日期 2022年9月23日</h3>"
   ]
  },
  {
   "cell_type": "markdown",
   "id": "ce0f3f52-139b-4c98-8961-47fb1eba7fd5",
   "metadata": {},
   "source": [
    "## 1. 在Linux家目录下创建workplace目录，并在workplace下建立homework目录。(25%)\n",
    "- 提示：Linux``cd``与``mkdir``命令"
   ]
  },
  {
   "cell_type": "markdown",
   "id": "cec857ce-5d22-414e-ab20-6dd6bfc54ffd",
   "metadata": {},
   "source": [
    "## 2. 在个人homework目录下，分别利用Jupyter notebook和默认Python脚本编写“Hello World!!”程序，并运行获得结果。（50%）\n",
    "- 提示：``print(\"Hello World\")``"
   ]
  },
  {
   "cell_type": "markdown",
   "id": "217e31af-3984-401d-925f-04489744361c",
   "metadata": {},
   "source": [
    "## 3. 将两个文件分别提交至家目录公共homework目录下。（25%）\n",
    "- 提示: 公共homework在Linux下为/home/<用户名>/homework，在Jupyter下为/homework\n",
    "- 提示: Linux``mv``命令（该命令可同时用于更改文件名）\n",
    "- 文件名命名规则: <strong><用户名>_practice<编号>.<后缀名></strong>"
   ]
  }
 ],
 "metadata": {
  "kernelspec": {
   "display_name": "Python 3 (ipykernel)",
   "language": "python",
   "name": "python3"
  },
  "language_info": {
   "codemirror_mode": {
    "name": "ipython",
    "version": 3
   },
   "file_extension": ".py",
   "mimetype": "text/x-python",
   "name": "python",
   "nbconvert_exporter": "python",
   "pygments_lexer": "ipython3",
   "version": "3.9.13"
  }
 },
 "nbformat": 4,
 "nbformat_minor": 5
}
