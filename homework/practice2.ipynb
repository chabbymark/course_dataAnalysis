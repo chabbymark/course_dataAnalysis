{
 "cells": [
  {
   "cell_type": "markdown",
   "id": "f914cda0-f4cd-4c14-95e9-1c337772d89e",
   "metadata": {},
   "source": [
    "<h1 align=\"center\"> 海洋数据分析 课后练习2 </h1>\n",
    "<h3 align=\"right\">截止日期 2022年9月30日</h3>"
   ]
  },
  {
   "cell_type": "markdown",
   "id": "4a5b87ad-d7d6-42cf-b437-5e1516510573",
   "metadata": {},
   "source": []
  },
  {
   "cell_type": "markdown",
   "id": "4b5e50d3-3835-4342-b7ba-30d2b0907804",
   "metadata": {},
   "source": [
    "## 1. 编写一个计算长方体和圆柱体面积和体积的小程序，要求\n",
    "## a. 在给定长宽高三个变量的情况下计算长方体各个面的面积、总面积和体积，并将所计算的结果清楚的显示在屏幕上；\n",
    "## b. 在给定半径以及高两个变量的情况下计算圆柱体的底面积、侧面积、总面积和体积，并将所计算的结果清楚的显示在屏幕上；\n",
    "## c. 判断长方体总面积大于等于圆柱体总面积是否为真，并将结果显示在屏幕上；\n",
    "## d. 判断长方体体积大于等于圆柱体体积是否为真，并将结果显示在屏幕上。\n",
    "## (30%)\n",
    "注: “清楚”的定义是让其他用户可以只看屏幕显示内容就知道所显示的物理量的含义及数值。"
   ]
  },
  {
   "cell_type": "code",
   "execution_count": null,
   "id": "c6c682a0-6451-4094-a081-d08aa90bfffe",
   "metadata": {},
   "outputs": [],
   "source": []
  },
  {
   "cell_type": "markdown",
   "id": "e5ec98e9-939b-4059-ab12-95b4ea2feb7d",
   "metadata": {},
   "source": [
    "## 2. 编写一个存储班级成员信息的小程序，要求\n",
    "## a. 在班级上寻找2名同学，在他(她)们同意的前提下询问他(她)们姓名、性别、年龄(可谎报)和学号后6位(可谎报)；\n",
    "## b. 包含你在内现在总共有3名学生，为每一名学生创建字典，字典需要记录每个学生的基本信息(问题a中所列)；\n",
    "## c. 创建一个班级成员列表，将每个人的字典作为元素存入列表中；\n",
    "## d. 显示列表中每个人的详细信息，信息显示必须符合人类用语习惯。\n",
    "## (35%)"
   ]
  },
  {
   "cell_type": "code",
   "execution_count": null,
   "id": "036456a8-1b53-4baa-94d6-340f0d286e4a",
   "metadata": {},
   "outputs": [],
   "source": []
  },
  {
   "cell_type": "markdown",
   "id": "0f6faac4-0b02-4716-bf49-d416520488e8",
   "metadata": {},
   "source": [
    "## 3. 编写一个简单的统计程序，需要统计的数组为`arr=[3.1, 10, 6, -2.4, 7.6, -11, 5.4, 1.2, 0.5e1, 3.14]`，要求\n",
    "## a. 获得数组元素的总个数(提示:可以用`len`函数获得符合数据类型的长度)；\n",
    "## b. 计算数组arr的平均值、标准差以及偏度(skewness);\n",
    "## c. 将以上统计结果用一个`print`函数分行显示，信息显示必须符合人类用语习惯；\n",
    "## d. 将数组按照索引指数的奇偶分成两个子数组，重复b中的统计；\n",
    "## e. 按照c中的要求显示两个子数组的统计结果。\n",
    "## (35%)"
   ]
  },
  {
   "cell_type": "code",
   "execution_count": 2,
   "id": "6a820e3d-2017-4034-8ef2-481095695cd5",
   "metadata": {},
   "outputs": [],
   "source": [
    "arr=[3.1, 10, 6, -2.4, 7.6, -11, 5.4, 1.2, 0.5e1, 3.14]"
   ]
  },
  {
   "cell_type": "markdown",
   "id": "2e511224-09b6-4ea3-9143-a517d74a8cf4",
   "metadata": {},
   "source": [
    "### 注：作业提交方式如practice1，可自由选择采用ipynb或py格式文件"
   ]
  }
 ],
 "metadata": {
  "kernelspec": {
   "display_name": "Python 3 (ipykernel)",
   "language": "python",
   "name": "python3"
  },
  "language_info": {
   "codemirror_mode": {
    "name": "ipython",
    "version": 3
   },
   "file_extension": ".py",
   "mimetype": "text/x-python",
   "name": "python",
   "nbconvert_exporter": "python",
   "pygments_lexer": "ipython3",
   "version": "3.9.7"
  }
 },
 "nbformat": 4,
 "nbformat_minor": 5
}
